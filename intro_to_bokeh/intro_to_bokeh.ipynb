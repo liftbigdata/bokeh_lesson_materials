{
 "cells": [
  {
   "cell_type": "code",
   "execution_count": 157,
   "metadata": {
    "jupyter": {
     "source_hidden": true
    }
   },
   "outputs": [],
   "source": [
    "#  import modules\n",
    "import bokeh.plotting as bp\n",
    "import bokeh.layouts as bl\n",
    "import bokeh.transform as bt\n",
    "import bokeh.models as bm\n",
    "import pandas as pd\n",
    "import numpy as np"
   ]
  },
  {
   "cell_type": "code",
   "execution_count": 158,
   "metadata": {
    "jupyter": {
     "source_hidden": true
    }
   },
   "outputs": [],
   "source": [
    "#  import data\n",
    "df = pd.read_csv('riding.csv', index_col=None)"
   ]
  },
  {
   "cell_type": "markdown",
   "metadata": {},
   "source": [
    "# Say Hello to Bokeh"
   ]
  },
  {
   "cell_type": "code",
   "execution_count": 188,
   "metadata": {},
   "outputs": [
    {
     "data": {
      "text/html": [
       "\n",
       "    <div class=\"bk-root\">\n",
       "        <a href=\"https://bokeh.org\" target=\"_blank\" class=\"bk-logo bk-logo-small bk-logo-notebook\"></a>\n",
       "        <span id=\"77375\">Loading BokehJS ...</span>\n",
       "    </div>"
      ]
     },
     "metadata": {},
     "output_type": "display_data"
    },
    {
     "data": {
      "application/javascript": [
       "\n",
       "(function(root) {\n",
       "  function now() {\n",
       "    return new Date();\n",
       "  }\n",
       "\n",
       "  var force = true;\n",
       "\n",
       "  if (typeof root._bokeh_onload_callbacks === \"undefined\" || force === true) {\n",
       "    root._bokeh_onload_callbacks = [];\n",
       "    root._bokeh_is_loading = undefined;\n",
       "  }\n",
       "\n",
       "  var JS_MIME_TYPE = 'application/javascript';\n",
       "  var HTML_MIME_TYPE = 'text/html';\n",
       "  var EXEC_MIME_TYPE = 'application/vnd.bokehjs_exec.v0+json';\n",
       "  var CLASS_NAME = 'output_bokeh rendered_html';\n",
       "\n",
       "  /**\n",
       "   * Render data to the DOM node\n",
       "   */\n",
       "  function render(props, node) {\n",
       "    var script = document.createElement(\"script\");\n",
       "    node.appendChild(script);\n",
       "  }\n",
       "\n",
       "  /**\n",
       "   * Handle when an output is cleared or removed\n",
       "   */\n",
       "  function handleClearOutput(event, handle) {\n",
       "    var cell = handle.cell;\n",
       "\n",
       "    var id = cell.output_area._bokeh_element_id;\n",
       "    var server_id = cell.output_area._bokeh_server_id;\n",
       "    // Clean up Bokeh references\n",
       "    if (id != null && id in Bokeh.index) {\n",
       "      Bokeh.index[id].model.document.clear();\n",
       "      delete Bokeh.index[id];\n",
       "    }\n",
       "\n",
       "    if (server_id !== undefined) {\n",
       "      // Clean up Bokeh references\n",
       "      var cmd = \"from bokeh.io.state import curstate; print(curstate().uuid_to_server['\" + server_id + \"'].get_sessions()[0].document.roots[0]._id)\";\n",
       "      cell.notebook.kernel.execute(cmd, {\n",
       "        iopub: {\n",
       "          output: function(msg) {\n",
       "            var id = msg.content.text.trim();\n",
       "            if (id in Bokeh.index) {\n",
       "              Bokeh.index[id].model.document.clear();\n",
       "              delete Bokeh.index[id];\n",
       "            }\n",
       "          }\n",
       "        }\n",
       "      });\n",
       "      // Destroy server and session\n",
       "      var cmd = \"import bokeh.io.notebook as ion; ion.destroy_server('\" + server_id + \"')\";\n",
       "      cell.notebook.kernel.execute(cmd);\n",
       "    }\n",
       "  }\n",
       "\n",
       "  /**\n",
       "   * Handle when a new output is added\n",
       "   */\n",
       "  function handleAddOutput(event, handle) {\n",
       "    var output_area = handle.output_area;\n",
       "    var output = handle.output;\n",
       "\n",
       "    // limit handleAddOutput to display_data with EXEC_MIME_TYPE content only\n",
       "    if ((output.output_type != \"display_data\") || (!output.data.hasOwnProperty(EXEC_MIME_TYPE))) {\n",
       "      return\n",
       "    }\n",
       "\n",
       "    var toinsert = output_area.element.find(\".\" + CLASS_NAME.split(' ')[0]);\n",
       "\n",
       "    if (output.metadata[EXEC_MIME_TYPE][\"id\"] !== undefined) {\n",
       "      toinsert[toinsert.length - 1].firstChild.textContent = output.data[JS_MIME_TYPE];\n",
       "      // store reference to embed id on output_area\n",
       "      output_area._bokeh_element_id = output.metadata[EXEC_MIME_TYPE][\"id\"];\n",
       "    }\n",
       "    if (output.metadata[EXEC_MIME_TYPE][\"server_id\"] !== undefined) {\n",
       "      var bk_div = document.createElement(\"div\");\n",
       "      bk_div.innerHTML = output.data[HTML_MIME_TYPE];\n",
       "      var script_attrs = bk_div.children[0].attributes;\n",
       "      for (var i = 0; i < script_attrs.length; i++) {\n",
       "        toinsert[toinsert.length - 1].firstChild.setAttribute(script_attrs[i].name, script_attrs[i].value);\n",
       "        toinsert[toinsert.length - 1].firstChild.textContent = bk_div.children[0].textContent\n",
       "      }\n",
       "      // store reference to server id on output_area\n",
       "      output_area._bokeh_server_id = output.metadata[EXEC_MIME_TYPE][\"server_id\"];\n",
       "    }\n",
       "  }\n",
       "\n",
       "  function register_renderer(events, OutputArea) {\n",
       "\n",
       "    function append_mime(data, metadata, element) {\n",
       "      // create a DOM node to render to\n",
       "      var toinsert = this.create_output_subarea(\n",
       "        metadata,\n",
       "        CLASS_NAME,\n",
       "        EXEC_MIME_TYPE\n",
       "      );\n",
       "      this.keyboard_manager.register_events(toinsert);\n",
       "      // Render to node\n",
       "      var props = {data: data, metadata: metadata[EXEC_MIME_TYPE]};\n",
       "      render(props, toinsert[toinsert.length - 1]);\n",
       "      element.append(toinsert);\n",
       "      return toinsert\n",
       "    }\n",
       "\n",
       "    /* Handle when an output is cleared or removed */\n",
       "    events.on('clear_output.CodeCell', handleClearOutput);\n",
       "    events.on('delete.Cell', handleClearOutput);\n",
       "\n",
       "    /* Handle when a new output is added */\n",
       "    events.on('output_added.OutputArea', handleAddOutput);\n",
       "\n",
       "    /**\n",
       "     * Register the mime type and append_mime function with output_area\n",
       "     */\n",
       "    OutputArea.prototype.register_mime_type(EXEC_MIME_TYPE, append_mime, {\n",
       "      /* Is output safe? */\n",
       "      safe: true,\n",
       "      /* Index of renderer in `output_area.display_order` */\n",
       "      index: 0\n",
       "    });\n",
       "  }\n",
       "\n",
       "  // register the mime type if in Jupyter Notebook environment and previously unregistered\n",
       "  if (root.Jupyter !== undefined) {\n",
       "    var events = require('base/js/events');\n",
       "    var OutputArea = require('notebook/js/outputarea').OutputArea;\n",
       "\n",
       "    if (OutputArea.prototype.mime_types().indexOf(EXEC_MIME_TYPE) == -1) {\n",
       "      register_renderer(events, OutputArea);\n",
       "    }\n",
       "  }\n",
       "\n",
       "  \n",
       "  if (typeof (root._bokeh_timeout) === \"undefined\" || force === true) {\n",
       "    root._bokeh_timeout = Date.now() + 5000;\n",
       "    root._bokeh_failed_load = false;\n",
       "  }\n",
       "\n",
       "  var NB_LOAD_WARNING = {'data': {'text/html':\n",
       "     \"<div style='background-color: #fdd'>\\n\"+\n",
       "     \"<p>\\n\"+\n",
       "     \"BokehJS does not appear to have successfully loaded. If loading BokehJS from CDN, this \\n\"+\n",
       "     \"may be due to a slow or bad network connection. Possible fixes:\\n\"+\n",
       "     \"</p>\\n\"+\n",
       "     \"<ul>\\n\"+\n",
       "     \"<li>re-rerun `output_notebook()` to attempt to load from CDN again, or</li>\\n\"+\n",
       "     \"<li>use INLINE resources instead, as so:</li>\\n\"+\n",
       "     \"</ul>\\n\"+\n",
       "     \"<code>\\n\"+\n",
       "     \"from bokeh.resources import INLINE\\n\"+\n",
       "     \"output_notebook(resources=INLINE)\\n\"+\n",
       "     \"</code>\\n\"+\n",
       "     \"</div>\"}};\n",
       "\n",
       "  function display_loaded() {\n",
       "    var el = document.getElementById(\"77375\");\n",
       "    if (el != null) {\n",
       "      el.textContent = \"BokehJS is loading...\";\n",
       "    }\n",
       "    if (root.Bokeh !== undefined) {\n",
       "      if (el != null) {\n",
       "        el.textContent = \"BokehJS \" + root.Bokeh.version + \" successfully loaded.\";\n",
       "      }\n",
       "    } else if (Date.now() < root._bokeh_timeout) {\n",
       "      setTimeout(display_loaded, 100)\n",
       "    }\n",
       "  }\n",
       "\n",
       "\n",
       "  function run_callbacks() {\n",
       "    try {\n",
       "      root._bokeh_onload_callbacks.forEach(function(callback) {\n",
       "        if (callback != null)\n",
       "          callback();\n",
       "      });\n",
       "    } finally {\n",
       "      delete root._bokeh_onload_callbacks\n",
       "    }\n",
       "    console.debug(\"Bokeh: all callbacks have finished\");\n",
       "  }\n",
       "\n",
       "  function load_libs(css_urls, js_urls, callback) {\n",
       "    if (css_urls == null) css_urls = [];\n",
       "    if (js_urls == null) js_urls = [];\n",
       "\n",
       "    root._bokeh_onload_callbacks.push(callback);\n",
       "    if (root._bokeh_is_loading > 0) {\n",
       "      console.debug(\"Bokeh: BokehJS is being loaded, scheduling callback at\", now());\n",
       "      return null;\n",
       "    }\n",
       "    if (js_urls == null || js_urls.length === 0) {\n",
       "      run_callbacks();\n",
       "      return null;\n",
       "    }\n",
       "    console.debug(\"Bokeh: BokehJS not loaded, scheduling load and callback at\", now());\n",
       "    root._bokeh_is_loading = css_urls.length + js_urls.length;\n",
       "\n",
       "    function on_load() {\n",
       "      root._bokeh_is_loading--;\n",
       "      if (root._bokeh_is_loading === 0) {\n",
       "        console.debug(\"Bokeh: all BokehJS libraries/stylesheets loaded\");\n",
       "        run_callbacks()\n",
       "      }\n",
       "    }\n",
       "\n",
       "    function on_error() {\n",
       "      console.error(\"failed to load \" + url);\n",
       "    }\n",
       "\n",
       "    for (var i = 0; i < css_urls.length; i++) {\n",
       "      var url = css_urls[i];\n",
       "      const element = document.createElement(\"link\");\n",
       "      element.onload = on_load;\n",
       "      element.onerror = on_error;\n",
       "      element.rel = \"stylesheet\";\n",
       "      element.type = \"text/css\";\n",
       "      element.href = url;\n",
       "      console.debug(\"Bokeh: injecting link tag for BokehJS stylesheet: \", url);\n",
       "      document.body.appendChild(element);\n",
       "    }\n",
       "\n",
       "    const hashes = {\"https://cdn.bokeh.org/bokeh/release/bokeh-2.1.1.min.js\": \"kLr4fYcqcSpbuI95brIH3vnnYCquzzSxHPU6XGQCIkQRGJwhg0StNbj1eegrHs12\", \"https://cdn.bokeh.org/bokeh/release/bokeh-widgets-2.1.1.min.js\": \"xIGPmVtaOm+z0BqfSOMn4lOR6ciex448GIKG4eE61LsAvmGj48XcMQZtKcE/UXZe\", \"https://cdn.bokeh.org/bokeh/release/bokeh-tables-2.1.1.min.js\": \"Dc9u1wF/0zApGIWoBbH77iWEHtdmkuYWG839Uzmv8y8yBLXebjO9ZnERsde5Ln/P\", \"https://cdn.bokeh.org/bokeh/release/bokeh-gl-2.1.1.min.js\": \"cT9JaBz7GiRXdENrJLZNSC6eMNF3nh3fa5fTF51Svp+ukxPdwcU5kGXGPBgDCa2j\"};\n",
       "\n",
       "    for (var i = 0; i < js_urls.length; i++) {\n",
       "      var url = js_urls[i];\n",
       "      var element = document.createElement('script');\n",
       "      element.onload = on_load;\n",
       "      element.onerror = on_error;\n",
       "      element.async = false;\n",
       "      element.src = url;\n",
       "      if (url in hashes) {\n",
       "        element.crossOrigin = \"anonymous\";\n",
       "        element.integrity = \"sha384-\" + hashes[url];\n",
       "      }\n",
       "      console.debug(\"Bokeh: injecting script tag for BokehJS library: \", url);\n",
       "      document.head.appendChild(element);\n",
       "    }\n",
       "  };\n",
       "\n",
       "  function inject_raw_css(css) {\n",
       "    const element = document.createElement(\"style\");\n",
       "    element.appendChild(document.createTextNode(css));\n",
       "    document.body.appendChild(element);\n",
       "  }\n",
       "\n",
       "  \n",
       "  var js_urls = [\"https://cdn.bokeh.org/bokeh/release/bokeh-2.1.1.min.js\", \"https://cdn.bokeh.org/bokeh/release/bokeh-widgets-2.1.1.min.js\", \"https://cdn.bokeh.org/bokeh/release/bokeh-tables-2.1.1.min.js\", \"https://cdn.bokeh.org/bokeh/release/bokeh-gl-2.1.1.min.js\"];\n",
       "  var css_urls = [];\n",
       "  \n",
       "\n",
       "  var inline_js = [\n",
       "    function(Bokeh) {\n",
       "      Bokeh.set_log_level(\"info\");\n",
       "    },\n",
       "    function(Bokeh) {\n",
       "    \n",
       "    \n",
       "    }\n",
       "  ];\n",
       "\n",
       "  function run_inline_js() {\n",
       "    \n",
       "    if (root.Bokeh !== undefined || force === true) {\n",
       "      \n",
       "    for (var i = 0; i < inline_js.length; i++) {\n",
       "      inline_js[i].call(root, root.Bokeh);\n",
       "    }\n",
       "    if (force === true) {\n",
       "        display_loaded();\n",
       "      }} else if (Date.now() < root._bokeh_timeout) {\n",
       "      setTimeout(run_inline_js, 100);\n",
       "    } else if (!root._bokeh_failed_load) {\n",
       "      console.log(\"Bokeh: BokehJS failed to load within specified timeout.\");\n",
       "      root._bokeh_failed_load = true;\n",
       "    } else if (force !== true) {\n",
       "      var cell = $(document.getElementById(\"77375\")).parents('.cell').data().cell;\n",
       "      cell.output_area.append_execute_result(NB_LOAD_WARNING)\n",
       "    }\n",
       "\n",
       "  }\n",
       "\n",
       "  if (root._bokeh_is_loading === 0) {\n",
       "    console.debug(\"Bokeh: BokehJS loaded, going straight to plotting\");\n",
       "    run_inline_js();\n",
       "  } else {\n",
       "    load_libs(css_urls, js_urls, function() {\n",
       "      console.debug(\"Bokeh: BokehJS plotting callback run at\", now());\n",
       "      run_inline_js();\n",
       "    });\n",
       "  }\n",
       "}(window));"
      ],
      "application/vnd.bokehjs_load.v0+json": "\n(function(root) {\n  function now() {\n    return new Date();\n  }\n\n  var force = true;\n\n  if (typeof root._bokeh_onload_callbacks === \"undefined\" || force === true) {\n    root._bokeh_onload_callbacks = [];\n    root._bokeh_is_loading = undefined;\n  }\n\n  \n\n  \n  if (typeof (root._bokeh_timeout) === \"undefined\" || force === true) {\n    root._bokeh_timeout = Date.now() + 5000;\n    root._bokeh_failed_load = false;\n  }\n\n  var NB_LOAD_WARNING = {'data': {'text/html':\n     \"<div style='background-color: #fdd'>\\n\"+\n     \"<p>\\n\"+\n     \"BokehJS does not appear to have successfully loaded. If loading BokehJS from CDN, this \\n\"+\n     \"may be due to a slow or bad network connection. Possible fixes:\\n\"+\n     \"</p>\\n\"+\n     \"<ul>\\n\"+\n     \"<li>re-rerun `output_notebook()` to attempt to load from CDN again, or</li>\\n\"+\n     \"<li>use INLINE resources instead, as so:</li>\\n\"+\n     \"</ul>\\n\"+\n     \"<code>\\n\"+\n     \"from bokeh.resources import INLINE\\n\"+\n     \"output_notebook(resources=INLINE)\\n\"+\n     \"</code>\\n\"+\n     \"</div>\"}};\n\n  function display_loaded() {\n    var el = document.getElementById(\"77375\");\n    if (el != null) {\n      el.textContent = \"BokehJS is loading...\";\n    }\n    if (root.Bokeh !== undefined) {\n      if (el != null) {\n        el.textContent = \"BokehJS \" + root.Bokeh.version + \" successfully loaded.\";\n      }\n    } else if (Date.now() < root._bokeh_timeout) {\n      setTimeout(display_loaded, 100)\n    }\n  }\n\n\n  function run_callbacks() {\n    try {\n      root._bokeh_onload_callbacks.forEach(function(callback) {\n        if (callback != null)\n          callback();\n      });\n    } finally {\n      delete root._bokeh_onload_callbacks\n    }\n    console.debug(\"Bokeh: all callbacks have finished\");\n  }\n\n  function load_libs(css_urls, js_urls, callback) {\n    if (css_urls == null) css_urls = [];\n    if (js_urls == null) js_urls = [];\n\n    root._bokeh_onload_callbacks.push(callback);\n    if (root._bokeh_is_loading > 0) {\n      console.debug(\"Bokeh: BokehJS is being loaded, scheduling callback at\", now());\n      return null;\n    }\n    if (js_urls == null || js_urls.length === 0) {\n      run_callbacks();\n      return null;\n    }\n    console.debug(\"Bokeh: BokehJS not loaded, scheduling load and callback at\", now());\n    root._bokeh_is_loading = css_urls.length + js_urls.length;\n\n    function on_load() {\n      root._bokeh_is_loading--;\n      if (root._bokeh_is_loading === 0) {\n        console.debug(\"Bokeh: all BokehJS libraries/stylesheets loaded\");\n        run_callbacks()\n      }\n    }\n\n    function on_error() {\n      console.error(\"failed to load \" + url);\n    }\n\n    for (var i = 0; i < css_urls.length; i++) {\n      var url = css_urls[i];\n      const element = document.createElement(\"link\");\n      element.onload = on_load;\n      element.onerror = on_error;\n      element.rel = \"stylesheet\";\n      element.type = \"text/css\";\n      element.href = url;\n      console.debug(\"Bokeh: injecting link tag for BokehJS stylesheet: \", url);\n      document.body.appendChild(element);\n    }\n\n    const hashes = {\"https://cdn.bokeh.org/bokeh/release/bokeh-2.1.1.min.js\": \"kLr4fYcqcSpbuI95brIH3vnnYCquzzSxHPU6XGQCIkQRGJwhg0StNbj1eegrHs12\", \"https://cdn.bokeh.org/bokeh/release/bokeh-widgets-2.1.1.min.js\": \"xIGPmVtaOm+z0BqfSOMn4lOR6ciex448GIKG4eE61LsAvmGj48XcMQZtKcE/UXZe\", \"https://cdn.bokeh.org/bokeh/release/bokeh-tables-2.1.1.min.js\": \"Dc9u1wF/0zApGIWoBbH77iWEHtdmkuYWG839Uzmv8y8yBLXebjO9ZnERsde5Ln/P\", \"https://cdn.bokeh.org/bokeh/release/bokeh-gl-2.1.1.min.js\": \"cT9JaBz7GiRXdENrJLZNSC6eMNF3nh3fa5fTF51Svp+ukxPdwcU5kGXGPBgDCa2j\"};\n\n    for (var i = 0; i < js_urls.length; i++) {\n      var url = js_urls[i];\n      var element = document.createElement('script');\n      element.onload = on_load;\n      element.onerror = on_error;\n      element.async = false;\n      element.src = url;\n      if (url in hashes) {\n        element.crossOrigin = \"anonymous\";\n        element.integrity = \"sha384-\" + hashes[url];\n      }\n      console.debug(\"Bokeh: injecting script tag for BokehJS library: \", url);\n      document.head.appendChild(element);\n    }\n  };\n\n  function inject_raw_css(css) {\n    const element = document.createElement(\"style\");\n    element.appendChild(document.createTextNode(css));\n    document.body.appendChild(element);\n  }\n\n  \n  var js_urls = [\"https://cdn.bokeh.org/bokeh/release/bokeh-2.1.1.min.js\", \"https://cdn.bokeh.org/bokeh/release/bokeh-widgets-2.1.1.min.js\", \"https://cdn.bokeh.org/bokeh/release/bokeh-tables-2.1.1.min.js\", \"https://cdn.bokeh.org/bokeh/release/bokeh-gl-2.1.1.min.js\"];\n  var css_urls = [];\n  \n\n  var inline_js = [\n    function(Bokeh) {\n      Bokeh.set_log_level(\"info\");\n    },\n    function(Bokeh) {\n    \n    \n    }\n  ];\n\n  function run_inline_js() {\n    \n    if (root.Bokeh !== undefined || force === true) {\n      \n    for (var i = 0; i < inline_js.length; i++) {\n      inline_js[i].call(root, root.Bokeh);\n    }\n    if (force === true) {\n        display_loaded();\n      }} else if (Date.now() < root._bokeh_timeout) {\n      setTimeout(run_inline_js, 100);\n    } else if (!root._bokeh_failed_load) {\n      console.log(\"Bokeh: BokehJS failed to load within specified timeout.\");\n      root._bokeh_failed_load = true;\n    } else if (force !== true) {\n      var cell = $(document.getElementById(\"77375\")).parents('.cell').data().cell;\n      cell.output_area.append_execute_result(NB_LOAD_WARNING)\n    }\n\n  }\n\n  if (root._bokeh_is_loading === 0) {\n    console.debug(\"Bokeh: BokehJS loaded, going straight to plotting\");\n    run_inline_js();\n  } else {\n    load_libs(css_urls, js_urls, function() {\n      console.debug(\"Bokeh: BokehJS plotting callback run at\", now());\n      run_inline_js();\n    });\n  }\n}(window));"
     },
     "metadata": {},
     "output_type": "display_data"
    },
    {
     "data": {
      "text/html": [
       "\n",
       "\n",
       "\n",
       "\n",
       "\n",
       "\n",
       "  <div class=\"bk-root\" id=\"e2423851-d07b-4c4d-ba4a-ecd9faae5aa9\" data-root-id=\"77376\"></div>\n"
      ]
     },
     "metadata": {},
     "output_type": "display_data"
    },
    {
     "data": {
      "application/javascript": [
       "(function(root) {\n",
       "  function embed_document(root) {\n",
       "    \n",
       "  var docs_json = {\"f574289b-6f37-4c56-bbb2-d7b14252c05b\":{\"roots\":{\"references\":[{\"attributes\":{\"below\":[{\"id\":\"77387\"}],\"center\":[{\"id\":\"77390\"},{\"id\":\"77394\"}],\"left\":[{\"id\":\"77391\"}],\"plot_width\":800,\"renderers\":[{\"id\":\"77412\"},{\"id\":\"77417\"},{\"id\":\"77422\"},{\"id\":\"77427\"},{\"id\":\"77432\"},{\"id\":\"77437\"},{\"id\":\"77442\"}],\"title\":{\"id\":\"77377\"},\"toolbar\":{\"id\":\"77402\"},\"x_range\":{\"id\":\"77379\"},\"x_scale\":{\"id\":\"77383\"},\"y_range\":{\"id\":\"77381\"},\"y_scale\":{\"id\":\"77385\"}},\"id\":\"77376\",\"subtype\":\"Figure\",\"type\":\"Plot\"},{\"attributes\":{\"fill_alpha\":{\"value\":0.1},\"fill_color\":{\"value\":\"red\"},\"line_alpha\":{\"value\":0.1},\"line_color\":{\"value\":\"#1f77b4\"},\"size\":{\"units\":\"screen\",\"value\":9},\"x\":{\"field\":\"x\"},\"y\":{\"field\":\"y\"}},\"id\":\"77421\",\"type\":\"Circle\"},{\"attributes\":{\"data_source\":{\"id\":\"77419\"},\"glyph\":{\"id\":\"77420\"},\"hover_glyph\":null,\"muted_glyph\":null,\"nonselection_glyph\":{\"id\":\"77421\"},\"selection_glyph\":null,\"view\":{\"id\":\"77423\"}},\"id\":\"77422\",\"type\":\"GlyphRenderer\"},{\"attributes\":{},\"id\":\"78864\",\"type\":\"UnionRenderers\"},{\"attributes\":{},\"id\":\"78861\",\"type\":\"Selection\"},{\"attributes\":{},\"id\":\"77383\",\"type\":\"LinearScale\"},{\"attributes\":{\"fill_color\":{\"value\":\"#1f77b4\"},\"line_color\":{\"value\":\"#1f77b4\"},\"x\":{\"field\":\"x\"},\"y\":{\"field\":\"y\"}},\"id\":\"77435\",\"type\":\"Scatter\"},{\"attributes\":{\"line_alpha\":0.1,\"line_color\":\"orange\",\"line_dash\":[6],\"line_width\":2,\"x\":{\"field\":\"x\"},\"y\":{\"field\":\"y\"}},\"id\":\"77426\",\"type\":\"Line\"},{\"attributes\":{\"source\":{\"id\":\"77419\"}},\"id\":\"77423\",\"type\":\"CDSView\"},{\"attributes\":{\"fill_color\":{\"value\":\"#1f77b4\"},\"line_color\":{\"value\":\"#1f77b4\"},\"size\":{\"units\":\"screen\",\"value\":3},\"x\":{\"field\":\"x\"},\"y\":{\"field\":\"y\"}},\"id\":\"77430\",\"type\":\"Square\"},{\"attributes\":{},\"id\":\"78862\",\"type\":\"UnionRenderers\"},{\"attributes\":{\"bottom_units\":\"screen\",\"fill_alpha\":0.5,\"fill_color\":\"lightgrey\",\"left_units\":\"screen\",\"level\":\"overlay\",\"line_alpha\":1.0,\"line_color\":\"black\",\"line_dash\":[4,4],\"line_width\":2,\"right_units\":\"screen\",\"top_units\":\"screen\"},\"id\":\"77401\",\"type\":\"BoxAnnotation\"},{\"attributes\":{\"data\":{\"x\":[1,2,3,4,5,6],\"y\":[0.1,0.8,2.7,6.4,12.5,21.6]},\"selected\":{\"id\":\"78867\"},\"selection_policy\":{\"id\":\"78866\"}},\"id\":\"77429\",\"type\":\"ColumnDataSource\"},{\"attributes\":{},\"id\":\"78870\",\"type\":\"UnionRenderers\"},{\"attributes\":{\"source\":{\"id\":\"77424\"}},\"id\":\"77428\",\"type\":\"CDSView\"},{\"attributes\":{},\"id\":\"78863\",\"type\":\"Selection\"},{\"attributes\":{\"data_source\":{\"id\":\"77424\"},\"glyph\":{\"id\":\"77425\"},\"hover_glyph\":null,\"muted_glyph\":null,\"nonselection_glyph\":{\"id\":\"77426\"},\"selection_glyph\":null,\"view\":{\"id\":\"77428\"}},\"id\":\"77427\",\"type\":\"GlyphRenderer\"},{\"attributes\":{},\"id\":\"78871\",\"type\":\"Selection\"},{\"attributes\":{\"data\":{\"x\":[1,2,3,4,5,6],\"y\":[0.5,4.0,13.5,32.0,62.5,108.0]},\"selected\":{\"id\":\"78869\"},\"selection_policy\":{\"id\":\"78868\"}},\"id\":\"77434\",\"type\":\"ColumnDataSource\"},{\"attributes\":{\"axis_label\":\"x\",\"formatter\":{\"id\":\"78857\"},\"ticker\":{\"id\":\"77388\"}},\"id\":\"77387\",\"type\":\"LinearAxis\"},{\"attributes\":{},\"id\":\"78868\",\"type\":\"UnionRenderers\"},{\"attributes\":{\"fill_alpha\":{\"value\":0.1},\"fill_color\":{\"value\":\"#1f77b4\"},\"line_alpha\":{\"value\":0.1},\"line_color\":{\"value\":\"#1f77b4\"},\"size\":{\"units\":\"screen\",\"value\":3},\"x\":{\"field\":\"x\"},\"y\":{\"field\":\"y\"}},\"id\":\"77431\",\"type\":\"Square\"},{\"attributes\":{},\"id\":\"77392\",\"type\":\"BasicTicker\"},{\"attributes\":{\"fill_alpha\":{\"value\":0.1},\"fill_color\":{\"value\":\"blue\"},\"line_alpha\":{\"value\":0.1},\"line_color\":{\"value\":\"blue\"},\"top\":{\"field\":\"top\"},\"width\":{\"value\":0.1},\"x\":{\"field\":\"x\"}},\"id\":\"77441\",\"type\":\"VBar\"},{\"attributes\":{\"data\":{\"x\":[1,2,3,4,5,6],\"y\":[1,4,9,16,25,36]},\"selected\":{\"id\":\"78859\"},\"selection_policy\":{\"id\":\"78858\"}},\"id\":\"77409\",\"type\":\"ColumnDataSource\"},{\"attributes\":{\"fill_alpha\":{\"value\":0.1},\"fill_color\":{\"value\":\"#1f77b4\"},\"line_alpha\":{\"value\":0.1},\"line_color\":{\"value\":\"#1f77b4\"},\"x\":{\"field\":\"x\"},\"y\":{\"field\":\"y\"}},\"id\":\"77436\",\"type\":\"Scatter\"},{\"attributes\":{},\"id\":\"78858\",\"type\":\"UnionRenderers\"},{\"attributes\":{\"line_alpha\":0.1,\"line_color\":\"red\",\"line_dash\":[2,4],\"line_width\":2,\"x\":{\"field\":\"x\"},\"y\":{\"field\":\"y\"}},\"id\":\"77411\",\"type\":\"Line\"},{\"attributes\":{\"data_source\":{\"id\":\"77429\"},\"glyph\":{\"id\":\"77430\"},\"hover_glyph\":null,\"muted_glyph\":null,\"nonselection_glyph\":{\"id\":\"77431\"},\"selection_glyph\":null,\"view\":{\"id\":\"77433\"}},\"id\":\"77432\",\"type\":\"GlyphRenderer\"},{\"attributes\":{},\"id\":\"77396\",\"type\":\"WheelZoomTool\"},{\"attributes\":{\"axis\":{\"id\":\"77387\"},\"grid_line_color\":null,\"ticker\":null},\"id\":\"77390\",\"type\":\"Grid\"},{\"attributes\":{\"source\":{\"id\":\"77429\"}},\"id\":\"77433\",\"type\":\"CDSView\"},{\"attributes\":{\"data\":{\"top\":[0.7,5.6,18.9,44.8,87.5,151.2],\"x\":[1,2,3,4,5,6]},\"selected\":{\"id\":\"78871\"},\"selection_policy\":{\"id\":\"78870\"}},\"id\":\"77439\",\"type\":\"ColumnDataSource\"},{\"attributes\":{},\"id\":\"77400\",\"type\":\"HelpTool\"},{\"attributes\":{},\"id\":\"78865\",\"type\":\"Selection\"},{\"attributes\":{\"axis_label\":\"f(x)\",\"formatter\":{\"id\":\"78855\"},\"ticker\":{\"id\":\"77392\"}},\"id\":\"77391\",\"type\":\"LinearAxis\"},{\"attributes\":{\"data\":{\"x\":[1,2,3,4,5,6],\"y\":[1,8,27,64,125,216]},\"selected\":{\"id\":\"78861\"},\"selection_policy\":{\"id\":\"78860\"}},\"id\":\"77414\",\"type\":\"ColumnDataSource\"},{\"attributes\":{\"axis\":{\"id\":\"77391\"},\"dimension\":1,\"grid_line_alpha\":0.5,\"ticker\":null},\"id\":\"77394\",\"type\":\"Grid\"},{\"attributes\":{\"data_source\":{\"id\":\"77409\"},\"glyph\":{\"id\":\"77410\"},\"hover_glyph\":null,\"muted_glyph\":null,\"nonselection_glyph\":{\"id\":\"77411\"},\"selection_glyph\":null,\"view\":{\"id\":\"77413\"}},\"id\":\"77412\",\"type\":\"GlyphRenderer\"},{\"attributes\":{},\"id\":\"77381\",\"type\":\"DataRange1d\"},{\"attributes\":{\"source\":{\"id\":\"77434\"}},\"id\":\"77438\",\"type\":\"CDSView\"},{\"attributes\":{\"data_source\":{\"id\":\"77434\"},\"glyph\":{\"id\":\"77435\"},\"hover_glyph\":null,\"muted_glyph\":null,\"nonselection_glyph\":{\"id\":\"77436\"},\"selection_glyph\":null,\"view\":{\"id\":\"77438\"}},\"id\":\"77437\",\"type\":\"GlyphRenderer\"},{\"attributes\":{},\"id\":\"78859\",\"type\":\"Selection\"},{\"attributes\":{},\"id\":\"77395\",\"type\":\"PanTool\"},{\"attributes\":{},\"id\":\"78857\",\"type\":\"BasicTickFormatter\"},{\"attributes\":{\"line_color\":\"red\",\"line_dash\":[2,4],\"line_width\":2,\"x\":{\"field\":\"x\"},\"y\":{\"field\":\"y\"}},\"id\":\"77410\",\"type\":\"Line\"},{\"attributes\":{},\"id\":\"77385\",\"type\":\"LinearScale\"},{\"attributes\":{\"source\":{\"id\":\"77439\"}},\"id\":\"77443\",\"type\":\"CDSView\"},{\"attributes\":{\"active_drag\":\"auto\",\"active_inspect\":\"auto\",\"active_multi\":null,\"active_scroll\":\"auto\",\"active_tap\":\"auto\",\"tools\":[{\"id\":\"77395\"},{\"id\":\"77396\"},{\"id\":\"77397\"},{\"id\":\"77398\"},{\"id\":\"77399\"},{\"id\":\"77400\"}]},\"id\":\"77402\",\"type\":\"Toolbar\"},{\"attributes\":{},\"id\":\"78866\",\"type\":\"UnionRenderers\"},{\"attributes\":{\"data_source\":{\"id\":\"77439\"},\"glyph\":{\"id\":\"77440\"},\"hover_glyph\":null,\"muted_glyph\":null,\"nonselection_glyph\":{\"id\":\"77441\"},\"selection_glyph\":null,\"view\":{\"id\":\"77443\"}},\"id\":\"77442\",\"type\":\"GlyphRenderer\"},{\"attributes\":{\"overlay\":{\"id\":\"77401\"}},\"id\":\"77397\",\"type\":\"BoxZoomTool\"},{\"attributes\":{},\"id\":\"77398\",\"type\":\"SaveTool\"},{\"attributes\":{},\"id\":\"78867\",\"type\":\"Selection\"},{\"attributes\":{\"data\":{\"x\":[1,2,3,4,5,6],\"y\":[0.1,0.8,2.7,6.4,12.5,21.6]},\"selected\":{\"id\":\"78865\"},\"selection_policy\":{\"id\":\"78864\"}},\"id\":\"77424\",\"type\":\"ColumnDataSource\"},{\"attributes\":{},\"id\":\"77399\",\"type\":\"ResetTool\"},{\"attributes\":{\"fill_alpha\":{\"value\":0.2},\"fill_color\":{\"value\":\"blue\"},\"line_alpha\":{\"value\":0.2},\"line_color\":{\"value\":\"blue\"},\"top\":{\"field\":\"top\"},\"width\":{\"value\":0.1},\"x\":{\"field\":\"x\"}},\"id\":\"77440\",\"type\":\"VBar\"},{\"attributes\":{},\"id\":\"77388\",\"type\":\"BasicTicker\"},{\"attributes\":{\"fill_color\":{\"value\":\"red\"},\"line_color\":{\"value\":\"#1f77b4\"},\"size\":{\"units\":\"screen\",\"value\":9},\"x\":{\"field\":\"x\"},\"y\":{\"field\":\"y\"}},\"id\":\"77420\",\"type\":\"Circle\"},{\"attributes\":{\"source\":{\"id\":\"77409\"}},\"id\":\"77413\",\"type\":\"CDSView\"},{\"attributes\":{\"line_alpha\":0.1,\"line_color\":\"green\",\"line_dash\":[6],\"line_width\":2,\"x\":{\"field\":\"x\"},\"y\":{\"field\":\"y\"}},\"id\":\"77416\",\"type\":\"Line\"},{\"attributes\":{\"text\":\"Some Plots\"},\"id\":\"77377\",\"type\":\"Title\"},{\"attributes\":{\"line_color\":\"green\",\"line_dash\":[6],\"line_width\":2,\"x\":{\"field\":\"x\"},\"y\":{\"field\":\"y\"}},\"id\":\"77415\",\"type\":\"Line\"},{\"attributes\":{\"data\":{\"x\":[1,2,3,4,5,6],\"y\":[1,8,27,64,125,216]},\"selected\":{\"id\":\"78863\"},\"selection_policy\":{\"id\":\"78862\"}},\"id\":\"77419\",\"type\":\"ColumnDataSource\"},{\"attributes\":{},\"id\":\"78855\",\"type\":\"BasicTickFormatter\"},{\"attributes\":{},\"id\":\"78860\",\"type\":\"UnionRenderers\"},{\"attributes\":{\"source\":{\"id\":\"77414\"}},\"id\":\"77418\",\"type\":\"CDSView\"},{\"attributes\":{},\"id\":\"77379\",\"type\":\"DataRange1d\"},{\"attributes\":{\"data_source\":{\"id\":\"77414\"},\"glyph\":{\"id\":\"77415\"},\"hover_glyph\":null,\"muted_glyph\":null,\"nonselection_glyph\":{\"id\":\"77416\"},\"selection_glyph\":null,\"view\":{\"id\":\"77418\"}},\"id\":\"77417\",\"type\":\"GlyphRenderer\"},{\"attributes\":{},\"id\":\"78869\",\"type\":\"Selection\"},{\"attributes\":{\"line_color\":\"orange\",\"line_dash\":[6],\"line_width\":2,\"x\":{\"field\":\"x\"},\"y\":{\"field\":\"y\"}},\"id\":\"77425\",\"type\":\"Line\"}],\"root_ids\":[\"77376\"]},\"title\":\"Bokeh Application\",\"version\":\"2.1.1\"}};\n",
       "  var render_items = [{\"docid\":\"f574289b-6f37-4c56-bbb2-d7b14252c05b\",\"root_ids\":[\"77376\"],\"roots\":{\"77376\":\"e2423851-d07b-4c4d-ba4a-ecd9faae5aa9\"}}];\n",
       "  root.Bokeh.embed.embed_items_notebook(docs_json, render_items);\n",
       "\n",
       "  }\n",
       "  if (root.Bokeh !== undefined) {\n",
       "    embed_document(root);\n",
       "  } else {\n",
       "    var attempts = 0;\n",
       "    var timer = setInterval(function(root) {\n",
       "      if (root.Bokeh !== undefined) {\n",
       "        clearInterval(timer);\n",
       "        embed_document(root);\n",
       "      } else {\n",
       "        attempts++;\n",
       "        if (attempts > 100) {\n",
       "          clearInterval(timer);\n",
       "          console.log(\"Bokeh: ERROR: Unable to run BokehJS code because BokehJS library is missing\");\n",
       "        }\n",
       "      }\n",
       "    }, 10, root)\n",
       "  }\n",
       "})(window);"
      ],
      "application/vnd.bokehjs_exec.v0+json": ""
     },
     "metadata": {
      "application/vnd.bokehjs_exec.v0+json": {
       "id": "77376"
      }
     },
     "output_type": "display_data"
    }
   ],
   "source": [
    "# prepare some data\n",
    "x = [1, 2, 3, 4, 5, 6]\n",
    "y = [i ** 2 for i in x]\n",
    "y1 = [i ** 3 for i in x]\n",
    "y2 = [(i ** 3) * .1 for i in x]\n",
    "y3 = [(i ** 3) * .5 for i in x]\n",
    "y4 = [(i ** 3) * .7 for i in x]\n",
    "\n",
    "# set output\n",
    "bp.output_notebook()\n",
    "\n",
    "# create a new plot\n",
    "p = bp.figure(title='Some Plots', \n",
    "              x_axis_label='x', \n",
    "              y_axis_label='f(x)', \n",
    "              plot_width=800, \n",
    "              plot_height=600)\n",
    "p.xgrid.grid_line_color = None\n",
    "p.ygrid.grid_line_alpha = .5\n",
    "\n",
    "# add a line and format it a little\n",
    "p.line(x, y, line_width=2, line_dash='dotted', line_color='red')\n",
    "p.line(x, y1, line_width=2, line_dash='dashed', line_color='green')\n",
    "p.circle(x, y1, size=9, fill_color='red')\n",
    "p.line(x, y2, line_width=2, line_dash='dashed', line_color='orange')\n",
    "p.square(x, y2, size=3)\n",
    "p.scatter(x, y3)\n",
    "p.vbar(x, width=.1, bottom=0, top=y4, color='blue', alpha=.2)\n",
    "\n",
    "# brrrrr\n",
    "bp.show(p)"
   ]
  },
  {
   "cell_type": "markdown",
   "metadata": {},
   "source": [
    "## Break it down"
   ]
  },
  {
   "cell_type": "markdown",
   "metadata": {},
   "source": [
    "### Prepare Data"
   ]
  },
  {
   "cell_type": "code",
   "execution_count": 160,
   "metadata": {},
   "outputs": [],
   "source": [
    "# prepare some data\n",
    "x = [1, 2, 3, 4, 5, 6]\n",
    "y = [i ** 2 for i in x]\n",
    "y1 = [i ** 3 for i in x]\n",
    "y2 = [(i ** 3) * .1 for i in x]\n",
    "y3 = [(i ** 3) * .5 for i in x]\n",
    "y4 = [(i ** 3) * .7 for i in x]"
   ]
  },
  {
   "cell_type": "markdown",
   "metadata": {},
   "source": [
    "### Set Output Target"
   ]
  },
  {
   "cell_type": "code",
   "execution_count": 161,
   "metadata": {},
   "outputs": [
    {
     "data": {
      "text/html": [
       "\n",
       "    <div class=\"bk-root\">\n",
       "        <a href=\"https://bokeh.org\" target=\"_blank\" class=\"bk-logo bk-logo-small bk-logo-notebook\"></a>\n",
       "        <span id=\"48990\">Loading BokehJS ...</span>\n",
       "    </div>"
      ]
     },
     "metadata": {},
     "output_type": "display_data"
    },
    {
     "data": {
      "application/javascript": [
       "\n",
       "(function(root) {\n",
       "  function now() {\n",
       "    return new Date();\n",
       "  }\n",
       "\n",
       "  var force = true;\n",
       "\n",
       "  if (typeof root._bokeh_onload_callbacks === \"undefined\" || force === true) {\n",
       "    root._bokeh_onload_callbacks = [];\n",
       "    root._bokeh_is_loading = undefined;\n",
       "  }\n",
       "\n",
       "  var JS_MIME_TYPE = 'application/javascript';\n",
       "  var HTML_MIME_TYPE = 'text/html';\n",
       "  var EXEC_MIME_TYPE = 'application/vnd.bokehjs_exec.v0+json';\n",
       "  var CLASS_NAME = 'output_bokeh rendered_html';\n",
       "\n",
       "  /**\n",
       "   * Render data to the DOM node\n",
       "   */\n",
       "  function render(props, node) {\n",
       "    var script = document.createElement(\"script\");\n",
       "    node.appendChild(script);\n",
       "  }\n",
       "\n",
       "  /**\n",
       "   * Handle when an output is cleared or removed\n",
       "   */\n",
       "  function handleClearOutput(event, handle) {\n",
       "    var cell = handle.cell;\n",
       "\n",
       "    var id = cell.output_area._bokeh_element_id;\n",
       "    var server_id = cell.output_area._bokeh_server_id;\n",
       "    // Clean up Bokeh references\n",
       "    if (id != null && id in Bokeh.index) {\n",
       "      Bokeh.index[id].model.document.clear();\n",
       "      delete Bokeh.index[id];\n",
       "    }\n",
       "\n",
       "    if (server_id !== undefined) {\n",
       "      // Clean up Bokeh references\n",
       "      var cmd = \"from bokeh.io.state import curstate; print(curstate().uuid_to_server['\" + server_id + \"'].get_sessions()[0].document.roots[0]._id)\";\n",
       "      cell.notebook.kernel.execute(cmd, {\n",
       "        iopub: {\n",
       "          output: function(msg) {\n",
       "            var id = msg.content.text.trim();\n",
       "            if (id in Bokeh.index) {\n",
       "              Bokeh.index[id].model.document.clear();\n",
       "              delete Bokeh.index[id];\n",
       "            }\n",
       "          }\n",
       "        }\n",
       "      });\n",
       "      // Destroy server and session\n",
       "      var cmd = \"import bokeh.io.notebook as ion; ion.destroy_server('\" + server_id + \"')\";\n",
       "      cell.notebook.kernel.execute(cmd);\n",
       "    }\n",
       "  }\n",
       "\n",
       "  /**\n",
       "   * Handle when a new output is added\n",
       "   */\n",
       "  function handleAddOutput(event, handle) {\n",
       "    var output_area = handle.output_area;\n",
       "    var output = handle.output;\n",
       "\n",
       "    // limit handleAddOutput to display_data with EXEC_MIME_TYPE content only\n",
       "    if ((output.output_type != \"display_data\") || (!output.data.hasOwnProperty(EXEC_MIME_TYPE))) {\n",
       "      return\n",
       "    }\n",
       "\n",
       "    var toinsert = output_area.element.find(\".\" + CLASS_NAME.split(' ')[0]);\n",
       "\n",
       "    if (output.metadata[EXEC_MIME_TYPE][\"id\"] !== undefined) {\n",
       "      toinsert[toinsert.length - 1].firstChild.textContent = output.data[JS_MIME_TYPE];\n",
       "      // store reference to embed id on output_area\n",
       "      output_area._bokeh_element_id = output.metadata[EXEC_MIME_TYPE][\"id\"];\n",
       "    }\n",
       "    if (output.metadata[EXEC_MIME_TYPE][\"server_id\"] !== undefined) {\n",
       "      var bk_div = document.createElement(\"div\");\n",
       "      bk_div.innerHTML = output.data[HTML_MIME_TYPE];\n",
       "      var script_attrs = bk_div.children[0].attributes;\n",
       "      for (var i = 0; i < script_attrs.length; i++) {\n",
       "        toinsert[toinsert.length - 1].firstChild.setAttribute(script_attrs[i].name, script_attrs[i].value);\n",
       "        toinsert[toinsert.length - 1].firstChild.textContent = bk_div.children[0].textContent\n",
       "      }\n",
       "      // store reference to server id on output_area\n",
       "      output_area._bokeh_server_id = output.metadata[EXEC_MIME_TYPE][\"server_id\"];\n",
       "    }\n",
       "  }\n",
       "\n",
       "  function register_renderer(events, OutputArea) {\n",
       "\n",
       "    function append_mime(data, metadata, element) {\n",
       "      // create a DOM node to render to\n",
       "      var toinsert = this.create_output_subarea(\n",
       "        metadata,\n",
       "        CLASS_NAME,\n",
       "        EXEC_MIME_TYPE\n",
       "      );\n",
       "      this.keyboard_manager.register_events(toinsert);\n",
       "      // Render to node\n",
       "      var props = {data: data, metadata: metadata[EXEC_MIME_TYPE]};\n",
       "      render(props, toinsert[toinsert.length - 1]);\n",
       "      element.append(toinsert);\n",
       "      return toinsert\n",
       "    }\n",
       "\n",
       "    /* Handle when an output is cleared or removed */\n",
       "    events.on('clear_output.CodeCell', handleClearOutput);\n",
       "    events.on('delete.Cell', handleClearOutput);\n",
       "\n",
       "    /* Handle when a new output is added */\n",
       "    events.on('output_added.OutputArea', handleAddOutput);\n",
       "\n",
       "    /**\n",
       "     * Register the mime type and append_mime function with output_area\n",
       "     */\n",
       "    OutputArea.prototype.register_mime_type(EXEC_MIME_TYPE, append_mime, {\n",
       "      /* Is output safe? */\n",
       "      safe: true,\n",
       "      /* Index of renderer in `output_area.display_order` */\n",
       "      index: 0\n",
       "    });\n",
       "  }\n",
       "\n",
       "  // register the mime type if in Jupyter Notebook environment and previously unregistered\n",
       "  if (root.Jupyter !== undefined) {\n",
       "    var events = require('base/js/events');\n",
       "    var OutputArea = require('notebook/js/outputarea').OutputArea;\n",
       "\n",
       "    if (OutputArea.prototype.mime_types().indexOf(EXEC_MIME_TYPE) == -1) {\n",
       "      register_renderer(events, OutputArea);\n",
       "    }\n",
       "  }\n",
       "\n",
       "  \n",
       "  if (typeof (root._bokeh_timeout) === \"undefined\" || force === true) {\n",
       "    root._bokeh_timeout = Date.now() + 5000;\n",
       "    root._bokeh_failed_load = false;\n",
       "  }\n",
       "\n",
       "  var NB_LOAD_WARNING = {'data': {'text/html':\n",
       "     \"<div style='background-color: #fdd'>\\n\"+\n",
       "     \"<p>\\n\"+\n",
       "     \"BokehJS does not appear to have successfully loaded. If loading BokehJS from CDN, this \\n\"+\n",
       "     \"may be due to a slow or bad network connection. Possible fixes:\\n\"+\n",
       "     \"</p>\\n\"+\n",
       "     \"<ul>\\n\"+\n",
       "     \"<li>re-rerun `output_notebook()` to attempt to load from CDN again, or</li>\\n\"+\n",
       "     \"<li>use INLINE resources instead, as so:</li>\\n\"+\n",
       "     \"</ul>\\n\"+\n",
       "     \"<code>\\n\"+\n",
       "     \"from bokeh.resources import INLINE\\n\"+\n",
       "     \"output_notebook(resources=INLINE)\\n\"+\n",
       "     \"</code>\\n\"+\n",
       "     \"</div>\"}};\n",
       "\n",
       "  function display_loaded() {\n",
       "    var el = document.getElementById(\"48990\");\n",
       "    if (el != null) {\n",
       "      el.textContent = \"BokehJS is loading...\";\n",
       "    }\n",
       "    if (root.Bokeh !== undefined) {\n",
       "      if (el != null) {\n",
       "        el.textContent = \"BokehJS \" + root.Bokeh.version + \" successfully loaded.\";\n",
       "      }\n",
       "    } else if (Date.now() < root._bokeh_timeout) {\n",
       "      setTimeout(display_loaded, 100)\n",
       "    }\n",
       "  }\n",
       "\n",
       "\n",
       "  function run_callbacks() {\n",
       "    try {\n",
       "      root._bokeh_onload_callbacks.forEach(function(callback) {\n",
       "        if (callback != null)\n",
       "          callback();\n",
       "      });\n",
       "    } finally {\n",
       "      delete root._bokeh_onload_callbacks\n",
       "    }\n",
       "    console.debug(\"Bokeh: all callbacks have finished\");\n",
       "  }\n",
       "\n",
       "  function load_libs(css_urls, js_urls, callback) {\n",
       "    if (css_urls == null) css_urls = [];\n",
       "    if (js_urls == null) js_urls = [];\n",
       "\n",
       "    root._bokeh_onload_callbacks.push(callback);\n",
       "    if (root._bokeh_is_loading > 0) {\n",
       "      console.debug(\"Bokeh: BokehJS is being loaded, scheduling callback at\", now());\n",
       "      return null;\n",
       "    }\n",
       "    if (js_urls == null || js_urls.length === 0) {\n",
       "      run_callbacks();\n",
       "      return null;\n",
       "    }\n",
       "    console.debug(\"Bokeh: BokehJS not loaded, scheduling load and callback at\", now());\n",
       "    root._bokeh_is_loading = css_urls.length + js_urls.length;\n",
       "\n",
       "    function on_load() {\n",
       "      root._bokeh_is_loading--;\n",
       "      if (root._bokeh_is_loading === 0) {\n",
       "        console.debug(\"Bokeh: all BokehJS libraries/stylesheets loaded\");\n",
       "        run_callbacks()\n",
       "      }\n",
       "    }\n",
       "\n",
       "    function on_error() {\n",
       "      console.error(\"failed to load \" + url);\n",
       "    }\n",
       "\n",
       "    for (var i = 0; i < css_urls.length; i++) {\n",
       "      var url = css_urls[i];\n",
       "      const element = document.createElement(\"link\");\n",
       "      element.onload = on_load;\n",
       "      element.onerror = on_error;\n",
       "      element.rel = \"stylesheet\";\n",
       "      element.type = \"text/css\";\n",
       "      element.href = url;\n",
       "      console.debug(\"Bokeh: injecting link tag for BokehJS stylesheet: \", url);\n",
       "      document.body.appendChild(element);\n",
       "    }\n",
       "\n",
       "    const hashes = {\"https://cdn.bokeh.org/bokeh/release/bokeh-2.1.1.min.js\": \"kLr4fYcqcSpbuI95brIH3vnnYCquzzSxHPU6XGQCIkQRGJwhg0StNbj1eegrHs12\", \"https://cdn.bokeh.org/bokeh/release/bokeh-widgets-2.1.1.min.js\": \"xIGPmVtaOm+z0BqfSOMn4lOR6ciex448GIKG4eE61LsAvmGj48XcMQZtKcE/UXZe\", \"https://cdn.bokeh.org/bokeh/release/bokeh-tables-2.1.1.min.js\": \"Dc9u1wF/0zApGIWoBbH77iWEHtdmkuYWG839Uzmv8y8yBLXebjO9ZnERsde5Ln/P\", \"https://cdn.bokeh.org/bokeh/release/bokeh-gl-2.1.1.min.js\": \"cT9JaBz7GiRXdENrJLZNSC6eMNF3nh3fa5fTF51Svp+ukxPdwcU5kGXGPBgDCa2j\"};\n",
       "\n",
       "    for (var i = 0; i < js_urls.length; i++) {\n",
       "      var url = js_urls[i];\n",
       "      var element = document.createElement('script');\n",
       "      element.onload = on_load;\n",
       "      element.onerror = on_error;\n",
       "      element.async = false;\n",
       "      element.src = url;\n",
       "      if (url in hashes) {\n",
       "        element.crossOrigin = \"anonymous\";\n",
       "        element.integrity = \"sha384-\" + hashes[url];\n",
       "      }\n",
       "      console.debug(\"Bokeh: injecting script tag for BokehJS library: \", url);\n",
       "      document.head.appendChild(element);\n",
       "    }\n",
       "  };\n",
       "\n",
       "  function inject_raw_css(css) {\n",
       "    const element = document.createElement(\"style\");\n",
       "    element.appendChild(document.createTextNode(css));\n",
       "    document.body.appendChild(element);\n",
       "  }\n",
       "\n",
       "  \n",
       "  var js_urls = [\"https://cdn.bokeh.org/bokeh/release/bokeh-2.1.1.min.js\", \"https://cdn.bokeh.org/bokeh/release/bokeh-widgets-2.1.1.min.js\", \"https://cdn.bokeh.org/bokeh/release/bokeh-tables-2.1.1.min.js\", \"https://cdn.bokeh.org/bokeh/release/bokeh-gl-2.1.1.min.js\"];\n",
       "  var css_urls = [];\n",
       "  \n",
       "\n",
       "  var inline_js = [\n",
       "    function(Bokeh) {\n",
       "      Bokeh.set_log_level(\"info\");\n",
       "    },\n",
       "    function(Bokeh) {\n",
       "    \n",
       "    \n",
       "    }\n",
       "  ];\n",
       "\n",
       "  function run_inline_js() {\n",
       "    \n",
       "    if (root.Bokeh !== undefined || force === true) {\n",
       "      \n",
       "    for (var i = 0; i < inline_js.length; i++) {\n",
       "      inline_js[i].call(root, root.Bokeh);\n",
       "    }\n",
       "    if (force === true) {\n",
       "        display_loaded();\n",
       "      }} else if (Date.now() < root._bokeh_timeout) {\n",
       "      setTimeout(run_inline_js, 100);\n",
       "    } else if (!root._bokeh_failed_load) {\n",
       "      console.log(\"Bokeh: BokehJS failed to load within specified timeout.\");\n",
       "      root._bokeh_failed_load = true;\n",
       "    } else if (force !== true) {\n",
       "      var cell = $(document.getElementById(\"48990\")).parents('.cell').data().cell;\n",
       "      cell.output_area.append_execute_result(NB_LOAD_WARNING)\n",
       "    }\n",
       "\n",
       "  }\n",
       "\n",
       "  if (root._bokeh_is_loading === 0) {\n",
       "    console.debug(\"Bokeh: BokehJS loaded, going straight to plotting\");\n",
       "    run_inline_js();\n",
       "  } else {\n",
       "    load_libs(css_urls, js_urls, function() {\n",
       "      console.debug(\"Bokeh: BokehJS plotting callback run at\", now());\n",
       "      run_inline_js();\n",
       "    });\n",
       "  }\n",
       "}(window));"
      ],
      "application/vnd.bokehjs_load.v0+json": "\n(function(root) {\n  function now() {\n    return new Date();\n  }\n\n  var force = true;\n\n  if (typeof root._bokeh_onload_callbacks === \"undefined\" || force === true) {\n    root._bokeh_onload_callbacks = [];\n    root._bokeh_is_loading = undefined;\n  }\n\n  \n\n  \n  if (typeof (root._bokeh_timeout) === \"undefined\" || force === true) {\n    root._bokeh_timeout = Date.now() + 5000;\n    root._bokeh_failed_load = false;\n  }\n\n  var NB_LOAD_WARNING = {'data': {'text/html':\n     \"<div style='background-color: #fdd'>\\n\"+\n     \"<p>\\n\"+\n     \"BokehJS does not appear to have successfully loaded. If loading BokehJS from CDN, this \\n\"+\n     \"may be due to a slow or bad network connection. Possible fixes:\\n\"+\n     \"</p>\\n\"+\n     \"<ul>\\n\"+\n     \"<li>re-rerun `output_notebook()` to attempt to load from CDN again, or</li>\\n\"+\n     \"<li>use INLINE resources instead, as so:</li>\\n\"+\n     \"</ul>\\n\"+\n     \"<code>\\n\"+\n     \"from bokeh.resources import INLINE\\n\"+\n     \"output_notebook(resources=INLINE)\\n\"+\n     \"</code>\\n\"+\n     \"</div>\"}};\n\n  function display_loaded() {\n    var el = document.getElementById(\"48990\");\n    if (el != null) {\n      el.textContent = \"BokehJS is loading...\";\n    }\n    if (root.Bokeh !== undefined) {\n      if (el != null) {\n        el.textContent = \"BokehJS \" + root.Bokeh.version + \" successfully loaded.\";\n      }\n    } else if (Date.now() < root._bokeh_timeout) {\n      setTimeout(display_loaded, 100)\n    }\n  }\n\n\n  function run_callbacks() {\n    try {\n      root._bokeh_onload_callbacks.forEach(function(callback) {\n        if (callback != null)\n          callback();\n      });\n    } finally {\n      delete root._bokeh_onload_callbacks\n    }\n    console.debug(\"Bokeh: all callbacks have finished\");\n  }\n\n  function load_libs(css_urls, js_urls, callback) {\n    if (css_urls == null) css_urls = [];\n    if (js_urls == null) js_urls = [];\n\n    root._bokeh_onload_callbacks.push(callback);\n    if (root._bokeh_is_loading > 0) {\n      console.debug(\"Bokeh: BokehJS is being loaded, scheduling callback at\", now());\n      return null;\n    }\n    if (js_urls == null || js_urls.length === 0) {\n      run_callbacks();\n      return null;\n    }\n    console.debug(\"Bokeh: BokehJS not loaded, scheduling load and callback at\", now());\n    root._bokeh_is_loading = css_urls.length + js_urls.length;\n\n    function on_load() {\n      root._bokeh_is_loading--;\n      if (root._bokeh_is_loading === 0) {\n        console.debug(\"Bokeh: all BokehJS libraries/stylesheets loaded\");\n        run_callbacks()\n      }\n    }\n\n    function on_error() {\n      console.error(\"failed to load \" + url);\n    }\n\n    for (var i = 0; i < css_urls.length; i++) {\n      var url = css_urls[i];\n      const element = document.createElement(\"link\");\n      element.onload = on_load;\n      element.onerror = on_error;\n      element.rel = \"stylesheet\";\n      element.type = \"text/css\";\n      element.href = url;\n      console.debug(\"Bokeh: injecting link tag for BokehJS stylesheet: \", url);\n      document.body.appendChild(element);\n    }\n\n    const hashes = {\"https://cdn.bokeh.org/bokeh/release/bokeh-2.1.1.min.js\": \"kLr4fYcqcSpbuI95brIH3vnnYCquzzSxHPU6XGQCIkQRGJwhg0StNbj1eegrHs12\", \"https://cdn.bokeh.org/bokeh/release/bokeh-widgets-2.1.1.min.js\": \"xIGPmVtaOm+z0BqfSOMn4lOR6ciex448GIKG4eE61LsAvmGj48XcMQZtKcE/UXZe\", \"https://cdn.bokeh.org/bokeh/release/bokeh-tables-2.1.1.min.js\": \"Dc9u1wF/0zApGIWoBbH77iWEHtdmkuYWG839Uzmv8y8yBLXebjO9ZnERsde5Ln/P\", \"https://cdn.bokeh.org/bokeh/release/bokeh-gl-2.1.1.min.js\": \"cT9JaBz7GiRXdENrJLZNSC6eMNF3nh3fa5fTF51Svp+ukxPdwcU5kGXGPBgDCa2j\"};\n\n    for (var i = 0; i < js_urls.length; i++) {\n      var url = js_urls[i];\n      var element = document.createElement('script');\n      element.onload = on_load;\n      element.onerror = on_error;\n      element.async = false;\n      element.src = url;\n      if (url in hashes) {\n        element.crossOrigin = \"anonymous\";\n        element.integrity = \"sha384-\" + hashes[url];\n      }\n      console.debug(\"Bokeh: injecting script tag for BokehJS library: \", url);\n      document.head.appendChild(element);\n    }\n  };\n\n  function inject_raw_css(css) {\n    const element = document.createElement(\"style\");\n    element.appendChild(document.createTextNode(css));\n    document.body.appendChild(element);\n  }\n\n  \n  var js_urls = [\"https://cdn.bokeh.org/bokeh/release/bokeh-2.1.1.min.js\", \"https://cdn.bokeh.org/bokeh/release/bokeh-widgets-2.1.1.min.js\", \"https://cdn.bokeh.org/bokeh/release/bokeh-tables-2.1.1.min.js\", \"https://cdn.bokeh.org/bokeh/release/bokeh-gl-2.1.1.min.js\"];\n  var css_urls = [];\n  \n\n  var inline_js = [\n    function(Bokeh) {\n      Bokeh.set_log_level(\"info\");\n    },\n    function(Bokeh) {\n    \n    \n    }\n  ];\n\n  function run_inline_js() {\n    \n    if (root.Bokeh !== undefined || force === true) {\n      \n    for (var i = 0; i < inline_js.length; i++) {\n      inline_js[i].call(root, root.Bokeh);\n    }\n    if (force === true) {\n        display_loaded();\n      }} else if (Date.now() < root._bokeh_timeout) {\n      setTimeout(run_inline_js, 100);\n    } else if (!root._bokeh_failed_load) {\n      console.log(\"Bokeh: BokehJS failed to load within specified timeout.\");\n      root._bokeh_failed_load = true;\n    } else if (force !== true) {\n      var cell = $(document.getElementById(\"48990\")).parents('.cell').data().cell;\n      cell.output_area.append_execute_result(NB_LOAD_WARNING)\n    }\n\n  }\n\n  if (root._bokeh_is_loading === 0) {\n    console.debug(\"Bokeh: BokehJS loaded, going straight to plotting\");\n    run_inline_js();\n  } else {\n    load_libs(css_urls, js_urls, function() {\n      console.debug(\"Bokeh: BokehJS plotting callback run at\", now());\n      run_inline_js();\n    });\n  }\n}(window));"
     },
     "metadata": {},
     "output_type": "display_data"
    }
   ],
   "source": [
    "# set output\n",
    "bp.output_notebook()\n",
    "# or\n",
    "# bp.output_file('some_file.html')"
   ]
  },
  {
   "cell_type": "markdown",
   "metadata": {},
   "source": [
    "### Create and Customize the Canvas"
   ]
  },
  {
   "cell_type": "code",
   "execution_count": 162,
   "metadata": {},
   "outputs": [],
   "source": [
    "# create a new plot\n",
    "p = bp.figure(title='Some Plots', \n",
    "              x_axis_label='x', \n",
    "              y_axis_label='f(x)', \n",
    "              plot_width=800, \n",
    "              plot_height=600)\n",
    "p.xgrid.grid_line_color = None\n",
    "p.ygrid.grid_line_alpha = .5"
   ]
  },
  {
   "cell_type": "markdown",
   "metadata": {},
   "source": [
    "### Add Glyphs"
   ]
  },
  {
   "cell_type": "code",
   "execution_count": 163,
   "metadata": {},
   "outputs": [
    {
     "data": {
      "text/html": [
       "<div style=\"display: table;\"><div style=\"display: table-row;\"><div style=\"display: table-cell;\"><b title=\"bokeh.models.renderers.GlyphRenderer\">GlyphRenderer</b>(</div><div style=\"display: table-cell;\">id&nbsp;=&nbsp;'49057', <span id=\"49060\" style=\"cursor: pointer;\">&hellip;)</span></div></div><div class=\"49059\" style=\"display: none;\"><div style=\"display: table-cell;\"></div><div style=\"display: table-cell;\">data_source&nbsp;=&nbsp;ColumnDataSource(id='49054', ...),</div></div><div class=\"49059\" style=\"display: none;\"><div style=\"display: table-cell;\"></div><div style=\"display: table-cell;\">glyph&nbsp;=&nbsp;VBar(id='49055', ...),</div></div><div class=\"49059\" style=\"display: none;\"><div style=\"display: table-cell;\"></div><div style=\"display: table-cell;\">hover_glyph&nbsp;=&nbsp;None,</div></div><div class=\"49059\" style=\"display: none;\"><div style=\"display: table-cell;\"></div><div style=\"display: table-cell;\">js_event_callbacks&nbsp;=&nbsp;{},</div></div><div class=\"49059\" style=\"display: none;\"><div style=\"display: table-cell;\"></div><div style=\"display: table-cell;\">js_property_callbacks&nbsp;=&nbsp;{},</div></div><div class=\"49059\" style=\"display: none;\"><div style=\"display: table-cell;\"></div><div style=\"display: table-cell;\">level&nbsp;=&nbsp;'glyph',</div></div><div class=\"49059\" style=\"display: none;\"><div style=\"display: table-cell;\"></div><div style=\"display: table-cell;\">muted&nbsp;=&nbsp;False,</div></div><div class=\"49059\" style=\"display: none;\"><div style=\"display: table-cell;\"></div><div style=\"display: table-cell;\">muted_glyph&nbsp;=&nbsp;None,</div></div><div class=\"49059\" style=\"display: none;\"><div style=\"display: table-cell;\"></div><div style=\"display: table-cell;\">name&nbsp;=&nbsp;None,</div></div><div class=\"49059\" style=\"display: none;\"><div style=\"display: table-cell;\"></div><div style=\"display: table-cell;\">nonselection_glyph&nbsp;=&nbsp;VBar(id='49056', ...),</div></div><div class=\"49059\" style=\"display: none;\"><div style=\"display: table-cell;\"></div><div style=\"display: table-cell;\">selection_glyph&nbsp;=&nbsp;None,</div></div><div class=\"49059\" style=\"display: none;\"><div style=\"display: table-cell;\"></div><div style=\"display: table-cell;\">subscribed_events&nbsp;=&nbsp;[],</div></div><div class=\"49059\" style=\"display: none;\"><div style=\"display: table-cell;\"></div><div style=\"display: table-cell;\">tags&nbsp;=&nbsp;[],</div></div><div class=\"49059\" style=\"display: none;\"><div style=\"display: table-cell;\"></div><div style=\"display: table-cell;\">view&nbsp;=&nbsp;CDSView(id='49058', ...),</div></div><div class=\"49059\" style=\"display: none;\"><div style=\"display: table-cell;\"></div><div style=\"display: table-cell;\">visible&nbsp;=&nbsp;True,</div></div><div class=\"49059\" style=\"display: none;\"><div style=\"display: table-cell;\"></div><div style=\"display: table-cell;\">x_range_name&nbsp;=&nbsp;'default',</div></div><div class=\"49059\" style=\"display: none;\"><div style=\"display: table-cell;\"></div><div style=\"display: table-cell;\">y_range_name&nbsp;=&nbsp;'default')</div></div></div>\n",
       "<script>\n",
       "(function() {\n",
       "  var expanded = false;\n",
       "  var ellipsis = document.getElementById(\"49060\");\n",
       "  ellipsis.addEventListener(\"click\", function() {\n",
       "    var rows = document.getElementsByClassName(\"49059\");\n",
       "    for (var i = 0; i < rows.length; i++) {\n",
       "      var el = rows[i];\n",
       "      el.style.display = expanded ? \"none\" : \"table-row\";\n",
       "    }\n",
       "    ellipsis.innerHTML = expanded ? \"&hellip;)\" : \"&lsaquo;&lsaquo;&lsaquo;\";\n",
       "    expanded = !expanded;\n",
       "  });\n",
       "})();\n",
       "</script>\n"
      ],
      "text/plain": [
       "GlyphRenderer(id='49057', ...)"
      ]
     },
     "execution_count": 163,
     "metadata": {},
     "output_type": "execute_result"
    }
   ],
   "source": [
    "p.line(x, y, line_width=2, line_dash='dotted', line_color='red')\n",
    "p.line(x, y1, line_width=2, line_dash='dashed', line_color='green')\n",
    "p.circle(x, y1, size=9, fill_color='red')\n",
    "p.line(x, y2, line_width=2, line_dash='dashed', line_color='orange')\n",
    "p.square(x, y2, size=3)\n",
    "p.scatter(x, y3)\n",
    "p.vbar(x, width=.1, bottom=0, top=y4, color='blue', alpha=.2)"
   ]
  },
  {
   "cell_type": "markdown",
   "metadata": {},
   "source": [
    "### Show the plot"
   ]
  },
  {
   "cell_type": "code",
   "execution_count": 164,
   "metadata": {},
   "outputs": [
    {
     "data": {
      "text/html": [
       "\n",
       "\n",
       "\n",
       "\n",
       "\n",
       "\n",
       "  <div class=\"bk-root\" id=\"bbd04e2f-35c4-4acd-8c6c-fc2089a25425\" data-root-id=\"48991\"></div>\n"
      ]
     },
     "metadata": {},
     "output_type": "display_data"
    },
    {
     "data": {
      "application/javascript": [
       "(function(root) {\n",
       "  function embed_document(root) {\n",
       "    \n",
       "  var docs_json = {\"c44b0beb-5602-479b-bd7d-6a16f35f0c45\":{\"roots\":{\"references\":[{\"attributes\":{\"below\":[{\"id\":\"49002\"}],\"center\":[{\"id\":\"49005\"},{\"id\":\"49009\"}],\"left\":[{\"id\":\"49006\"}],\"plot_width\":800,\"renderers\":[{\"id\":\"49027\"},{\"id\":\"49032\"},{\"id\":\"49037\"},{\"id\":\"49042\"},{\"id\":\"49047\"},{\"id\":\"49052\"},{\"id\":\"49057\"}],\"title\":{\"id\":\"48992\"},\"toolbar\":{\"id\":\"49017\"},\"x_range\":{\"id\":\"48994\"},\"x_scale\":{\"id\":\"48998\"},\"y_range\":{\"id\":\"48996\"},\"y_scale\":{\"id\":\"49000\"}},\"id\":\"48991\",\"subtype\":\"Figure\",\"type\":\"Plot\"},{\"attributes\":{\"data\":{\"x\":[1,2,3,4,5,6],\"y\":[0.5,4.0,13.5,32.0,62.5,108.0]},\"selected\":{\"id\":\"50096\"},\"selection_policy\":{\"id\":\"50095\"}},\"id\":\"49049\",\"type\":\"ColumnDataSource\"},{\"attributes\":{},\"id\":\"49000\",\"type\":\"LinearScale\"},{\"attributes\":{},\"id\":\"50095\",\"type\":\"UnionRenderers\"},{\"attributes\":{\"fill_color\":{\"value\":\"#1f77b4\"},\"line_color\":{\"value\":\"#1f77b4\"},\"x\":{\"field\":\"x\"},\"y\":{\"field\":\"y\"}},\"id\":\"49050\",\"type\":\"Scatter\"},{\"attributes\":{\"line_alpha\":0.1,\"line_color\":\"green\",\"line_dash\":[6],\"line_width\":2,\"x\":{\"field\":\"x\"},\"y\":{\"field\":\"y\"}},\"id\":\"49031\",\"type\":\"Line\"},{\"attributes\":{\"data_source\":{\"id\":\"49054\"},\"glyph\":{\"id\":\"49055\"},\"hover_glyph\":null,\"muted_glyph\":null,\"nonselection_glyph\":{\"id\":\"49056\"},\"selection_glyph\":null,\"view\":{\"id\":\"49058\"}},\"id\":\"49057\",\"type\":\"GlyphRenderer\"},{\"attributes\":{},\"id\":\"50087\",\"type\":\"UnionRenderers\"},{\"attributes\":{\"line_color\":\"orange\",\"line_dash\":[6],\"line_width\":2,\"x\":{\"field\":\"x\"},\"y\":{\"field\":\"y\"}},\"id\":\"49040\",\"type\":\"Line\"},{\"attributes\":{},\"id\":\"50088\",\"type\":\"Selection\"},{\"attributes\":{},\"id\":\"50094\",\"type\":\"Selection\"},{\"attributes\":{\"line_color\":\"green\",\"line_dash\":[6],\"line_width\":2,\"x\":{\"field\":\"x\"},\"y\":{\"field\":\"y\"}},\"id\":\"49030\",\"type\":\"Line\"},{\"attributes\":{\"data\":{\"top\":[0.7,5.6,18.9,44.8,87.5,151.2],\"x\":[1,2,3,4,5,6]},\"selected\":{\"id\":\"50098\"},\"selection_policy\":{\"id\":\"50097\"}},\"id\":\"49054\",\"type\":\"ColumnDataSource\"},{\"attributes\":{},\"id\":\"50089\",\"type\":\"UnionRenderers\"},{\"attributes\":{\"data\":{\"x\":[1,2,3,4,5,6],\"y\":[1,8,27,64,125,216]},\"selected\":{\"id\":\"50088\"},\"selection_policy\":{\"id\":\"50087\"}},\"id\":\"49029\",\"type\":\"ColumnDataSource\"},{\"attributes\":{\"source\":{\"id\":\"49044\"}},\"id\":\"49048\",\"type\":\"CDSView\"},{\"attributes\":{},\"id\":\"50097\",\"type\":\"UnionRenderers\"},{\"attributes\":{\"data_source\":{\"id\":\"49029\"},\"glyph\":{\"id\":\"49030\"},\"hover_glyph\":null,\"muted_glyph\":null,\"nonselection_glyph\":{\"id\":\"49031\"},\"selection_glyph\":null,\"view\":{\"id\":\"49033\"}},\"id\":\"49032\",\"type\":\"GlyphRenderer\"},{\"attributes\":{\"source\":{\"id\":\"49049\"}},\"id\":\"49053\",\"type\":\"CDSView\"},{\"attributes\":{},\"id\":\"50085\",\"type\":\"UnionRenderers\"},{\"attributes\":{\"data\":{\"x\":[1,2,3,4,5,6],\"y\":[1,4,9,16,25,36]},\"selected\":{\"id\":\"50086\"},\"selection_policy\":{\"id\":\"50085\"}},\"id\":\"49024\",\"type\":\"ColumnDataSource\"},{\"attributes\":{\"overlay\":{\"id\":\"49016\"}},\"id\":\"49012\",\"type\":\"BoxZoomTool\"},{\"attributes\":{},\"id\":\"50098\",\"type\":\"Selection\"},{\"attributes\":{\"line_color\":\"red\",\"line_dash\":[2,4],\"line_width\":2,\"x\":{\"field\":\"x\"},\"y\":{\"field\":\"y\"}},\"id\":\"49025\",\"type\":\"Line\"},{\"attributes\":{\"line_alpha\":0.1,\"line_color\":\"red\",\"line_dash\":[2,4],\"line_width\":2,\"x\":{\"field\":\"x\"},\"y\":{\"field\":\"y\"}},\"id\":\"49026\",\"type\":\"Line\"},{\"attributes\":{\"fill_alpha\":{\"value\":0.1},\"fill_color\":{\"value\":\"#1f77b4\"},\"line_alpha\":{\"value\":0.1},\"line_color\":{\"value\":\"#1f77b4\"},\"size\":{\"units\":\"screen\",\"value\":3},\"x\":{\"field\":\"x\"},\"y\":{\"field\":\"y\"}},\"id\":\"49046\",\"type\":\"Square\"},{\"attributes\":{\"text\":\"Some Plots\"},\"id\":\"48992\",\"type\":\"Title\"},{\"attributes\":{},\"id\":\"50084\",\"type\":\"BasicTickFormatter\"},{\"attributes\":{\"source\":{\"id\":\"49054\"}},\"id\":\"49058\",\"type\":\"CDSView\"},{\"attributes\":{\"source\":{\"id\":\"49024\"}},\"id\":\"49028\",\"type\":\"CDSView\"},{\"attributes\":{},\"id\":\"48998\",\"type\":\"LinearScale\"},{\"attributes\":{\"data_source\":{\"id\":\"49024\"},\"glyph\":{\"id\":\"49025\"},\"hover_glyph\":null,\"muted_glyph\":null,\"nonselection_glyph\":{\"id\":\"49026\"},\"selection_glyph\":null,\"view\":{\"id\":\"49028\"}},\"id\":\"49027\",\"type\":\"GlyphRenderer\"},{\"attributes\":{\"data\":{\"x\":[1,2,3,4,5,6],\"y\":[0.1,0.8,2.7,6.4,12.5,21.6]},\"selected\":{\"id\":\"50092\"},\"selection_policy\":{\"id\":\"50091\"}},\"id\":\"49039\",\"type\":\"ColumnDataSource\"},{\"attributes\":{\"data_source\":{\"id\":\"49049\"},\"glyph\":{\"id\":\"49050\"},\"hover_glyph\":null,\"muted_glyph\":null,\"nonselection_glyph\":{\"id\":\"49051\"},\"selection_glyph\":null,\"view\":{\"id\":\"49053\"}},\"id\":\"49052\",\"type\":\"GlyphRenderer\"},{\"attributes\":{\"fill_color\":{\"value\":\"red\"},\"line_color\":{\"value\":\"#1f77b4\"},\"size\":{\"units\":\"screen\",\"value\":9},\"x\":{\"field\":\"x\"},\"y\":{\"field\":\"y\"}},\"id\":\"49035\",\"type\":\"Circle\"},{\"attributes\":{},\"id\":\"49015\",\"type\":\"HelpTool\"},{\"attributes\":{\"data\":{\"x\":[1,2,3,4,5,6],\"y\":[1,8,27,64,125,216]},\"selected\":{\"id\":\"50090\"},\"selection_policy\":{\"id\":\"50089\"}},\"id\":\"49034\",\"type\":\"ColumnDataSource\"},{\"attributes\":{\"data_source\":{\"id\":\"49044\"},\"glyph\":{\"id\":\"49045\"},\"hover_glyph\":null,\"muted_glyph\":null,\"nonselection_glyph\":{\"id\":\"49046\"},\"selection_glyph\":null,\"view\":{\"id\":\"49048\"}},\"id\":\"49047\",\"type\":\"GlyphRenderer\"},{\"attributes\":{\"fill_alpha\":{\"value\":0.1},\"fill_color\":{\"value\":\"#1f77b4\"},\"line_alpha\":{\"value\":0.1},\"line_color\":{\"value\":\"#1f77b4\"},\"x\":{\"field\":\"x\"},\"y\":{\"field\":\"y\"}},\"id\":\"49051\",\"type\":\"Scatter\"},{\"attributes\":{},\"id\":\"49010\",\"type\":\"PanTool\"},{\"attributes\":{\"source\":{\"id\":\"49029\"}},\"id\":\"49033\",\"type\":\"CDSView\"},{\"attributes\":{\"data\":{\"x\":[1,2,3,4,5,6],\"y\":[0.1,0.8,2.7,6.4,12.5,21.6]},\"selected\":{\"id\":\"50094\"},\"selection_policy\":{\"id\":\"50093\"}},\"id\":\"49044\",\"type\":\"ColumnDataSource\"},{\"attributes\":{\"fill_color\":{\"value\":\"#1f77b4\"},\"line_color\":{\"value\":\"#1f77b4\"},\"size\":{\"units\":\"screen\",\"value\":3},\"x\":{\"field\":\"x\"},\"y\":{\"field\":\"y\"}},\"id\":\"49045\",\"type\":\"Square\"},{\"attributes\":{\"axis\":{\"id\":\"49002\"},\"grid_line_color\":null,\"ticker\":null},\"id\":\"49005\",\"type\":\"Grid\"},{\"attributes\":{},\"id\":\"50090\",\"type\":\"Selection\"},{\"attributes\":{},\"id\":\"49003\",\"type\":\"BasicTicker\"},{\"attributes\":{\"fill_alpha\":{\"value\":0.1},\"fill_color\":{\"value\":\"blue\"},\"line_alpha\":{\"value\":0.1},\"line_color\":{\"value\":\"blue\"},\"top\":{\"field\":\"top\"},\"width\":{\"value\":0.1},\"x\":{\"field\":\"x\"}},\"id\":\"49056\",\"type\":\"VBar\"},{\"attributes\":{\"active_drag\":\"auto\",\"active_inspect\":\"auto\",\"active_multi\":null,\"active_scroll\":\"auto\",\"active_tap\":\"auto\",\"tools\":[{\"id\":\"49010\"},{\"id\":\"49011\"},{\"id\":\"49012\"},{\"id\":\"49013\"},{\"id\":\"49014\"},{\"id\":\"49015\"}]},\"id\":\"49017\",\"type\":\"Toolbar\"},{\"attributes\":{},\"id\":\"49011\",\"type\":\"WheelZoomTool\"},{\"attributes\":{\"axis\":{\"id\":\"49006\"},\"dimension\":1,\"grid_line_alpha\":0.5,\"ticker\":null},\"id\":\"49009\",\"type\":\"Grid\"},{\"attributes\":{},\"id\":\"50096\",\"type\":\"Selection\"},{\"attributes\":{\"bottom_units\":\"screen\",\"fill_alpha\":0.5,\"fill_color\":\"lightgrey\",\"left_units\":\"screen\",\"level\":\"overlay\",\"line_alpha\":1.0,\"line_color\":\"black\",\"line_dash\":[4,4],\"line_width\":2,\"right_units\":\"screen\",\"top_units\":\"screen\"},\"id\":\"49016\",\"type\":\"BoxAnnotation\"},{\"attributes\":{},\"id\":\"50082\",\"type\":\"BasicTickFormatter\"},{\"attributes\":{\"source\":{\"id\":\"49039\"}},\"id\":\"49043\",\"type\":\"CDSView\"},{\"attributes\":{},\"id\":\"49014\",\"type\":\"ResetTool\"},{\"attributes\":{},\"id\":\"48996\",\"type\":\"DataRange1d\"},{\"attributes\":{},\"id\":\"50093\",\"type\":\"UnionRenderers\"},{\"attributes\":{\"fill_alpha\":{\"value\":0.1},\"fill_color\":{\"value\":\"red\"},\"line_alpha\":{\"value\":0.1},\"line_color\":{\"value\":\"#1f77b4\"},\"size\":{\"units\":\"screen\",\"value\":9},\"x\":{\"field\":\"x\"},\"y\":{\"field\":\"y\"}},\"id\":\"49036\",\"type\":\"Circle\"},{\"attributes\":{},\"id\":\"49007\",\"type\":\"BasicTicker\"},{\"attributes\":{},\"id\":\"49013\",\"type\":\"SaveTool\"},{\"attributes\":{},\"id\":\"50092\",\"type\":\"Selection\"},{\"attributes\":{\"line_alpha\":0.1,\"line_color\":\"orange\",\"line_dash\":[6],\"line_width\":2,\"x\":{\"field\":\"x\"},\"y\":{\"field\":\"y\"}},\"id\":\"49041\",\"type\":\"Line\"},{\"attributes\":{\"axis_label\":\"x\",\"formatter\":{\"id\":\"50084\"},\"ticker\":{\"id\":\"49003\"}},\"id\":\"49002\",\"type\":\"LinearAxis\"},{\"attributes\":{\"data_source\":{\"id\":\"49039\"},\"glyph\":{\"id\":\"49040\"},\"hover_glyph\":null,\"muted_glyph\":null,\"nonselection_glyph\":{\"id\":\"49041\"},\"selection_glyph\":null,\"view\":{\"id\":\"49043\"}},\"id\":\"49042\",\"type\":\"GlyphRenderer\"},{\"attributes\":{},\"id\":\"48994\",\"type\":\"DataRange1d\"},{\"attributes\":{\"fill_alpha\":{\"value\":0.2},\"fill_color\":{\"value\":\"blue\"},\"line_alpha\":{\"value\":0.2},\"line_color\":{\"value\":\"blue\"},\"top\":{\"field\":\"top\"},\"width\":{\"value\":0.1},\"x\":{\"field\":\"x\"}},\"id\":\"49055\",\"type\":\"VBar\"},{\"attributes\":{\"data_source\":{\"id\":\"49034\"},\"glyph\":{\"id\":\"49035\"},\"hover_glyph\":null,\"muted_glyph\":null,\"nonselection_glyph\":{\"id\":\"49036\"},\"selection_glyph\":null,\"view\":{\"id\":\"49038\"}},\"id\":\"49037\",\"type\":\"GlyphRenderer\"},{\"attributes\":{\"axis_label\":\"f(x)\",\"formatter\":{\"id\":\"50082\"},\"ticker\":{\"id\":\"49007\"}},\"id\":\"49006\",\"type\":\"LinearAxis\"},{\"attributes\":{\"source\":{\"id\":\"49034\"}},\"id\":\"49038\",\"type\":\"CDSView\"},{\"attributes\":{},\"id\":\"50086\",\"type\":\"Selection\"},{\"attributes\":{},\"id\":\"50091\",\"type\":\"UnionRenderers\"}],\"root_ids\":[\"48991\"]},\"title\":\"Bokeh Application\",\"version\":\"2.1.1\"}};\n",
       "  var render_items = [{\"docid\":\"c44b0beb-5602-479b-bd7d-6a16f35f0c45\",\"root_ids\":[\"48991\"],\"roots\":{\"48991\":\"bbd04e2f-35c4-4acd-8c6c-fc2089a25425\"}}];\n",
       "  root.Bokeh.embed.embed_items_notebook(docs_json, render_items);\n",
       "\n",
       "  }\n",
       "  if (root.Bokeh !== undefined) {\n",
       "    embed_document(root);\n",
       "  } else {\n",
       "    var attempts = 0;\n",
       "    var timer = setInterval(function(root) {\n",
       "      if (root.Bokeh !== undefined) {\n",
       "        clearInterval(timer);\n",
       "        embed_document(root);\n",
       "      } else {\n",
       "        attempts++;\n",
       "        if (attempts > 100) {\n",
       "          clearInterval(timer);\n",
       "          console.log(\"Bokeh: ERROR: Unable to run BokehJS code because BokehJS library is missing\");\n",
       "        }\n",
       "      }\n",
       "    }, 10, root)\n",
       "  }\n",
       "})(window);"
      ],
      "application/vnd.bokehjs_exec.v0+json": ""
     },
     "metadata": {
      "application/vnd.bokehjs_exec.v0+json": {
       "id": "48991"
      }
     },
     "output_type": "display_data"
    }
   ],
   "source": [
    "bp.show(p)"
   ]
  },
  {
   "cell_type": "markdown",
   "metadata": {},
   "source": [
    "# The Data\n",
    "Cycling data downloaded from Strava of a Zwift Ride.\n",
    "Data has been transformed from the original XML into a flattened CSV file.\n",
    "\n",
    "Fields:\n",
    "- time: Integers representing seconds.\n",
    "- lat: Latitude\n",
    "- lon: Longitude\n",
    "- ele: Elevation Grade\n",
    "- power: Power in Watts, represents instant power\n",
    "- hr: Heart Rate\n",
    "- cad: Cadence in Revolutions per minute"
   ]
  },
  {
   "cell_type": "code",
   "execution_count": 165,
   "metadata": {},
   "outputs": [
    {
     "data": {
      "text/html": [
       "<div>\n",
       "<style scoped>\n",
       "    .dataframe tbody tr th:only-of-type {\n",
       "        vertical-align: middle;\n",
       "    }\n",
       "\n",
       "    .dataframe tbody tr th {\n",
       "        vertical-align: top;\n",
       "    }\n",
       "\n",
       "    .dataframe thead th {\n",
       "        text-align: right;\n",
       "    }\n",
       "</style>\n",
       "<table border=\"1\" class=\"dataframe\">\n",
       "  <thead>\n",
       "    <tr style=\"text-align: right;\">\n",
       "      <th></th>\n",
       "      <th>time</th>\n",
       "      <th>lat</th>\n",
       "      <th>lon</th>\n",
       "      <th>ele</th>\n",
       "      <th>power</th>\n",
       "      <th>hr</th>\n",
       "      <th>cad</th>\n",
       "    </tr>\n",
       "  </thead>\n",
       "  <tbody>\n",
       "    <tr>\n",
       "      <th>0</th>\n",
       "      <td>0</td>\n",
       "      <td>-11.635755</td>\n",
       "      <td>166.953478</td>\n",
       "      <td>5.0</td>\n",
       "      <td>246</td>\n",
       "      <td>135</td>\n",
       "      <td>104</td>\n",
       "    </tr>\n",
       "    <tr>\n",
       "      <th>1</th>\n",
       "      <td>1</td>\n",
       "      <td>-11.635829</td>\n",
       "      <td>166.953435</td>\n",
       "      <td>5.0</td>\n",
       "      <td>290</td>\n",
       "      <td>135</td>\n",
       "      <td>105</td>\n",
       "    </tr>\n",
       "    <tr>\n",
       "      <th>2</th>\n",
       "      <td>2</td>\n",
       "      <td>-11.635897</td>\n",
       "      <td>166.953360</td>\n",
       "      <td>5.0</td>\n",
       "      <td>287</td>\n",
       "      <td>135</td>\n",
       "      <td>106</td>\n",
       "    </tr>\n",
       "    <tr>\n",
       "      <th>3</th>\n",
       "      <td>3</td>\n",
       "      <td>-11.635955</td>\n",
       "      <td>166.953295</td>\n",
       "      <td>5.0</td>\n",
       "      <td>262</td>\n",
       "      <td>135</td>\n",
       "      <td>108</td>\n",
       "    </tr>\n",
       "    <tr>\n",
       "      <th>4</th>\n",
       "      <td>4</td>\n",
       "      <td>-11.636009</td>\n",
       "      <td>166.953210</td>\n",
       "      <td>5.0</td>\n",
       "      <td>253</td>\n",
       "      <td>134</td>\n",
       "      <td>106</td>\n",
       "    </tr>\n",
       "  </tbody>\n",
       "</table>\n",
       "</div>"
      ],
      "text/plain": [
       "   time        lat         lon  ele  power   hr  cad\n",
       "0     0 -11.635755  166.953478  5.0    246  135  104\n",
       "1     1 -11.635829  166.953435  5.0    290  135  105\n",
       "2     2 -11.635897  166.953360  5.0    287  135  106\n",
       "3     3 -11.635955  166.953295  5.0    262  135  108\n",
       "4     4 -11.636009  166.953210  5.0    253  134  106"
      ]
     },
     "execution_count": 165,
     "metadata": {},
     "output_type": "execute_result"
    }
   ],
   "source": [
    "df.head()"
   ]
  },
  {
   "cell_type": "markdown",
   "metadata": {},
   "source": [
    "# Simple Scatter plots\n"
   ]
  },
  {
   "cell_type": "markdown",
   "metadata": {},
   "source": [
    "### Heart Rate vs Cadence"
   ]
  },
  {
   "cell_type": "code",
   "execution_count": 189,
   "metadata": {},
   "outputs": [
    {
     "data": {
      "text/html": [
       "\n",
       "\n",
       "\n",
       "\n",
       "\n",
       "\n",
       "  <div class=\"bk-root\" id=\"11ce7f12-157e-4b8d-964f-24b3086584b4\" data-root-id=\"78993\"></div>\n"
      ]
     },
     "metadata": {},
     "output_type": "display_data"
    },
    {
     "data": {
      "application/javascript": [
       "(function(root) {\n",
       "  function embed_document(root) {\n",
       "    \n",
       "  var docs_json = {\"615ba628-5a2f-484a-94c1-ec779d556a63\":{\"roots\":{\"references\":[{\"attributes\":{\"below\":[{\"id\":\"79004\"}],\"center\":[{\"id\":\"79007\"},{\"id\":\"79011\"}],\"left\":[{\"id\":\"79008\"}],\"plot_height\":800,\"plot_width\":800,\"renderers\":[{\"id\":\"79029\"}],\"title\":{\"id\":\"78994\"},\"toolbar\":{\"id\":\"79019\"},\"x_range\":{\"id\":\"78996\"},\"x_scale\":{\"id\":\"79000\"},\"y_range\":{\"id\":\"78998\"},\"y_scale\":{\"id\":\"79002\"}},\"id\":\"78993\",\"subtype\":\"Figure\",\"type\":\"Plot\"},{\"attributes\":{},\"id\":\"79012\",\"type\":\"PanTool\"},{\"attributes\":{},\"id\":\"79000\",\"type\":\"LinearScale\"},{\"attributes\":{\"fill_color\":{\"value\":\"#1f77b4\"},\"line_color\":{\"value\":\"#1f77b4\"},\"x\":{\"field\":\"x\"},\"y\":{\"field\":\"y\"}},\"id\":\"79027\",\"type\":\"Scatter\"},{\"attributes\":{},\"id\":\"79016\",\"type\":\"ResetTool\"},{\"attributes\":{\"axis\":{\"id\":\"79004\"},\"ticker\":null},\"id\":\"79007\",\"type\":\"Grid\"},{\"attributes\":{},\"id\":\"80464\",\"type\":\"BasicTickFormatter\"},{\"attributes\":{},\"id\":\"78996\",\"type\":\"DataRange1d\"},{\"attributes\":{\"axis_label\":\"Cadence (RPM)\",\"formatter\":{\"id\":\"80462\"},\"ticker\":{\"id\":\"79009\"}},\"id\":\"79008\",\"type\":\"LinearAxis\"},{\"attributes\":{\"axis_label\":\"Heart Rate (BPM)\",\"formatter\":{\"id\":\"80464\"},\"ticker\":{\"id\":\"79005\"}},\"id\":\"79004\",\"type\":\"LinearAxis\"},{\"attributes\":{},\"id\":\"78998\",\"type\":\"DataRange1d\"},{\"attributes\":{\"text\":\"HR vs Cadence\"},\"id\":\"78994\",\"type\":\"Title\"},{\"attributes\":{\"axis\":{\"id\":\"79008\"},\"dimension\":1,\"ticker\":null},\"id\":\"79011\",\"type\":\"Grid\"},{\"attributes\":{},\"id\":\"79015\",\"type\":\"SaveTool\"},{\"attributes\":{\"active_drag\":\"auto\",\"active_inspect\":\"auto\",\"active_multi\":null,\"active_scroll\":\"auto\",\"active_tap\":\"auto\",\"tools\":[{\"id\":\"79012\"},{\"id\":\"79013\"},{\"id\":\"79014\"},{\"id\":\"79015\"},{\"id\":\"79016\"},{\"id\":\"79017\"}]},\"id\":\"79019\",\"type\":\"Toolbar\"},{\"attributes\":{},\"id\":\"80466\",\"type\":\"Selection\"},{\"attributes\":{\"overlay\":{\"id\":\"79018\"}},\"id\":\"79014\",\"type\":\"BoxZoomTool\"},{\"attributes\":{},\"id\":\"79017\",\"type\":\"HelpTool\"},{\"attributes\":{},\"id\":\"79013\",\"type\":\"WheelZoomTool\"},{\"attributes\":{\"data\":{\"x\":[135,135,135,135,134,134,134,133,134,134,134,134,134,134,135,135,135,135,135,135,136,136,136,136,136,136,136,136,136,136,137,136,137,137,137,137,137,137,138,138,138,138,138,138,138,138,139,139,139,139,139,139,139,140,140,140,140,140,140,140,140,140,141,140,141,141,141,140,141,141,141,141,141,140,141,141,141,141,141,141,141,141,141,142,142,142,142,142,142,142,143,142,142,142,142,142,141,141,141,140,140,141,141,141,142,142,143,143,143,143,143,144,144,144,144,144,144,144,144,144,144,145,144,145,145,145,145,145,144,144,144,144,144,144,145,145,145,145,145,145,145,146,146,146,146,147,147,147,147,147,147,146,146,146,146,146,146,146,146,146,146,146,146,147,147,147,147,147,147,147,146,146,146,146,146,146,146,147,146,146,146,146,146,146,146,146,146,146,146,147,147,147,147,146,147,146,147,147,147,147,146,147,146,147,147,147,147,147,147,147,146,146,145,145,145,145,145,146,146,146,146,146,146,146,147,147,147,147,147,146,146,146,146,146,146,146,146,146,146,146,146,146,146,146,146,146,146,145,146,146,145,146,145,146,146,146,146,147,147,147,147,147,147,147,147,147,147,147,147,147,147,148,148,148,148,148,148,148,149,149,148,149,148,149,149,149,149,149,149,150,150,150,150,150,150,150,150,150,150,150,151,150,151,150,151,151,150,151,150,151,151,150,150,150,150,150,150,150,150,150,150,150,150,150,150,150,150,150,150,151,151,151,152,152,153,153,153,153,153,153,153,153,153,153,154,154,154,154,154,154,154,153,153,154,153,154,154,153,153,154,153,153,153,154,153,153,153,154,153,153,154,153,154,153,153,153,153,153,153,152,152,153,152,152,152,152,152,152,152,152,152,152,152,152,152,151,151,151,151,151,151,151,151,151,151,151,151,151,152,151,151,151,151,151,151,151,151,151,151,150,150,150,150,150,150,151,150,150,151,150,150,151,150,151,150,150,151,150,151,150,150,150,150,150,150,150,150,150,150,150,150,150,150,150,151,151,151,151,151,151,152,152,152,152,151,152,152,152,152,152,152,152,152,152,152,151,151,151,151,151,152,151,151,151,151,151,151,150,150,151,150,151,151,151,151,151,151,151,151,151,151,151,152,152,152,152,151,152,152,152,152,152,152,152,152,152,152,153,153,153,153,152,153,152,153,152,152,153,152,152,152,152,152,152,152,153,153,153,152,152,152,152,152,152,152,152,152,153,153,153,153,153,154,153,154,154,154,154,154,154,154,154,154,154,154,155,154,155,155,155,155,155,155,155,155,155,155,155,155,155,155,155,155,155,155,155,154,154,154,154,154,154,154,153,153,153,153,153,153,153,153,153,153,153,153,153,153,152,153,153,152,152,153,153,153,153,153,154,155,155,155,156,156,156,156,156,156,156,156,156,156,156,156,156,155,155,155,155,155,155,155,155,155,155,155,155,155,155,155,155,156,155,156,156,155,155,156,156,156,155,156,155,156,156,156,155,155,155,155,155,156,156,156,156,156,155,155,155,155,155,155,155,155,154,154,154,154,154,154,154,154,154,155,154,154,154,154,154,154,154,154,154,154,154,154,154,154,154,153,154,154,153,153,153,153,153,153,153,153,152,153,153,153,153,153,153,153,153,153,153,153,153,153,152,152,152,152,152,152,152,152,152,152,152,152,152,152,152,151,151,152,152,151,151,152,151,152,152,152,152,152,152,152,152,153,153,153,153,152,153,152,152,152,152,152,152,152,152,152,152,151,152,152,152,152,152,152,152,152,152,152,152,152,153,152,153,153,152,153,153,153,152,153,152,152,152,152,153,153,153,153,153,153,153,153,153,153,153,153,153,153,153,153,153,154,154,153,154,154,154,154,155,155,155,156,156,156,156,157,157,157,157,157,157,157,158,157,158,157,157,157,157,157,157,157,157,157,157,157,157,157,157,157,157,157,157,156,156,156,155,156,156,155,155,155,155,155,155,155,155,156,156,156,156,157,157,157,158,158,159,159,159,159,158,159,159,159,159,159,159,159,159,160,160,159,160,160,159,160,160,160,159,159,159,159,159,159,160,159,159,160,159,159,159,159,159,159,159,158,158,158,158,158,158,158,157,157,157,157,156,156,156,155,155,155,155,155,155,156,156,156,156,156,157,157,157,156,157,156,156,156,156,156,156,157,157,157,157,157,157,157,157,158,158,158,158,158,158,158,157,157,157,157,157,156,157,156,156,156,155,155,155,155,155,154,154,154,154,155,155,155,155,155,154,155,155,155,155,155,155,155,155,155,156,155,155,156,156,156,156,156,155,155,155,155,156,155,155,155,155,156,156,156,156,156,156,156,156,156,155,156,156,156,156,156,156,156,156,157,157,157,157,157,156,157,156,156,156,156,156,156,157,156,156,157,156,156,157,157,156,156,156,157,157,157,156,156,156,156,156,156,156,156,155,155,155,155,155,155,155,154,155,155,155,155,155,155,155,155,155,155,155,155,154,155,155,155,154,154,154,154,154,154,154,154,155,154,154,155,155,155,155,154,154,154,154,154,154,155,155,154,155,155,155,155,155,155,154,154,154,154,154,154,154,154,154,153,154,154,154,154,154,154,154,154,154,154,153,153,153,154,154,154,154,154,154,154,155,154,155,155,155,155,155,154,155,155,155,155,155,154,155,155,154,155,154,155,155,154,155,155,155,155,155,155,155,155,155,155,155,155,155,156,155,155,155,155,155,155,155,155,155,155,156,156,155,156,156,156,156,156,157,156,157,157,157,157,157,157,157,157,158,158,157,158,157,157,157,157,156,156,155,155,155,154,154,154,154,155,155,155,155,155,156,156,156,157,157,157,157,158,158,158,158,158,158,159,159,159,160,160,160,160,159,160,159,159,159,158,158,158,158,158,158,158,158,159,158,159,159,159,159,158,158,158,159,158,159,158,158,158,158,158,158,158,158,158,158,158,158,159,159,158,158,159,159,159,159,158,158,158,158,157,157,157,157,156,156,156,156,155,155,155,155,155,155,154,154,154,155,154,155,155,154,155,155,155,155,155,155,155,155,154,155,155,155,154,154,155,155,155,155,156,156,156,156,156,156,156,156,155,155,155,156,156,155,155,155,155,155,155,155,155,155,155,155,155,155,156,156,156,157,157,157,157,157,157,157,157,157,157,157,157,157,157,157,157,157,157,157,156,156,157,156,156,156,157,156,156,157,157,157,157,157,157,156,157,157,157,157,157,157,157,157,158,158,158,158,157,158,157,158,157,157,157,157,158,157,157,157,158,157,157,157,156,156,155,156,155,155,155,155,155,155,156,155,156,156,156,156,156,156,156,156,156,156,156,156,156,156,156,155,155,155,155,155,155,154,154,154,153,153,153,153,153,154,154,154,154,154,154,155,155,155,155,155,155,155,155,155,155,155,155,155,155,155,155,155,156,156,156,156,157,156,157,157,157,157,157,157,158,158,159,159,159,160,161,161,161,162,162,162,163,163,163,163,164,164,164,164,164,164,164,164,164,164,164,164,164,163,164,163,163,163,163,163,163,163,163,164,163,164,164,164,164,163,164,164,163,163,164,163,163,163,163,163,163,163,163,163,163,162,162,162,162,162,162,162,162,162,162,162,162,161,161,161,161,161,161,161,161,161,161,160,161,161,161,161,161,161,161,162,162,162,161,161,162,161,162,161,161,161,161,161,161,161,161,161,161,162,161,161,161,161,161,161,161,161,161,160,160,160,160,160,160,160,160,159,159,159,158,158,158,158,158,158,157,157,157,157,157,157,157,157,157,157,157,157,157,157,157,157,157,157,158,158,158,158,158,158,158,158,157,157,158,157,158,158,158,158,158,158,158,158,158,158,158,157,157,157,157,157,157,157,157,156,157,156,156,156,156,156,156,156,156,157,156,157,157,156,156,157,157,156,157,157,157,157,157,158,158,158,157,158,158,158,158,158,158,158,159,159,159,159,159,159,159,160,160,160,160,160,160,160,160,160,160,160,160,160,160,160,160,160,160,160,160,160,160,160,160,160,160,160,160,160,160,160,160,160,160,160,160,159,160,160,160,160,159,160,159,159,160,160,159,160,160,160,160,160,160,160,160,160,160,160,160,160,160,160,160,161,160,160,161,160,160,160,160,160,160,160,160,160,160,160,160,160,160,160,160,160,160,160,160,160,160,160,159,159,159,160,160,160,160,161,161,162,162,163,164,164,165,165,165,166,166,166,166,167,167,167,167,167,167,167,167,167,167,166,166,166,166,166,166,166,167,167,167,166,166,167,167,167,166,166,167,166,166,167,166,167,167,167,167,167,167,167,167,167,167,167,167,166,167,167,167,167,167,167,167,167,166,167,166,166,166,166,166,166,166,166,166,166,166,165,165,165,165,165,165,165,165,165,165,165,166,166,166,166,166,165,165,165,165,164,164,164,164,164,164,164,164,164,163,163,163,164,163,163,164,164,163,164,163,164,164,163,163,163,163,163,163,163,162,162,162,162,162,162,162,163,163,163,162,163,162,163,163,163,163,162,162,162,162,162,162,162,162,162,161,162,162,162,162,162,162,162,162,162,162,162,163,163,163,163,163,163,163,163,163,163,163,163,163,162,162,162,162,162,162,162,162,162,162,162,162,162,162,162,162,162,163,162,163,163,163,164,164,164,164,164,164,164,163,164,164,163,163,164,163,163,164,163,163,163,163,162,162,162,162,162,162,162,162,162,162,162,162,162,163,162,163,163,162,162,162,162,161,161,161,161,160,160,160,160,160,160,160,160,160,160,160,160,160,160,160,160,160,161,161,161,161,162,162,162,162,162,162,162,163,163,164,164,164,165,165,165,166,166,166,166,166,166,166,166,166,166,165,166,166,165,166,165,165,165,165,165,165,165,165,165,166,166,165,166,166,165,166,166,166,166,165,165,165,166,165,166,165,165,165,166,165,166,166,166,166,167,167,167,168,168,168,169,169,169,170,170,170,170,169,170,170,170,170,170,169,169,169,169,169,168,168,168,168,168,168,168,168,168,168,168,168,167,167,167,167,167,167,166,167,166,166,166,167,166,167,166,167,167,167,167,167,167,166,166,167,167,167,166,166,167,166,166,166,166,166,165,165,165,165,165,165,165,164,164,164,164,164,164,164,164,164,164,165,165,164,165,164,164,165,165,164,164,164,164,164,164,164,164,164,164,165,164,164,165,165,165,164,165,165,165,165,165,164,164,164,164,164,164,164,164,164,164,164,164,164,164,164,163,164,164,163,164,164,164,164,164,164,164,164,164,165,165,165,165,165,164,165,165,164,165,165,165,165,165,165,165,165,165,166,166,165,166,165,165,165,165,165,165,164,164,164,164,163,164,163,164,163,163,163,163,163,163,163,162,162,163,163,163,162,163,162,163,162,163,163,163,163,163,163,163,163,163,163,163,163,163,163,164,163,163,164,164,163,164,164,164,164,164,164,164,164,164,164,165,164,165,165,165,165,165,165,165,165,165,165,165,165,164,165,165,165,164,165,164,165,165,164,164,164,165,164,165,165,165,165,165,165,165,166,166,165,166,166,166,166,166,166,166,166,165,166,166,166,166,165,166,165,166,166,166,166,166,166,166,166,166,166,166,166,166,166,165,165,166,165,165,165,165,165,166,166,166,166,165,166,166,165,166,166,166,166,165,166,165,166,166,166,166,166,166,166,166,165,165,166,165,166,166,165,166,166,166,166,166,166,166,166,166,166,166,166,166,166,166,166,165,165,165,166,165,165,166,165,165,164,164,164,164,164,164,163,163,163,164,163,163,163,163,164,163,164,164,164,164,163,164,164,164,164,164,164,165,165,165,165,165,165,166,166,166,165,166,165,165,166,165,165,165,165,165,165,164,164,164,165,165,164,164,164,165,165,165,164,164,164,164,164,164,164,164,164,164,165,164,164,165,165,165,165,165,165,165,165,165,165,165,165,165,165,165,166,166,165,165,165,165,165,164,164,163,163,163,163,163,163,162,162,162,162,162,163,163,163,162,163,163,163,163,163,163,163,162,162,162,162,162,162,162,161,162,161,161,161,162,161,161,162,162,162,162,163,163,163,163,163,164,164,164,164,164,164,164,164,165,164,165,165,164,165,165,165,165,165,165,166,165,166,166,166,166,165,165,166,166,165,166,165,165,165,165,165,166,166,165,166,166,166,166,166,166,166,166,166,167,166,167,167,167,167,167,166,167,166,167,167,166,167,166,167,167,166,166,167,166,167,167,167,167,167,168,168,168,167,168,167,167,167,167,168,167,167,167,167,167,167,167,167,167,167,166,166,166,166,166,165,165,165,165,165,165,166,166,166,166,167,167,167,167,167,168,168,169,169,169,169,169,170,170,170,170,171,171,171,171,171,171,171,170,170,170,170,170,170,169,170,169,169,169,169,169,169,169,169,169,169,169,169,170,170,170,170,170,170,170,170,170,169,170,170,169,169,169,168,168,169,169,168,169,168,168,168,168,168,168,168,168,167,167,167,167,167,167,167,167,167,166,166,166,166,166,166,165,165,165,165,166,165,166,165,165,165,165,165,164,165,164,164,164,164,164,164,163,164,163,163,163,162,162,163,162,162,162,162,162,163,163,162,163,162,163,162,163,163,163,163,163,163,163,163,162,162,162,162,162,162,162,162,162,162,162,162,162,162,162,162,161,162,162,161,161,161,161,161,161,161,161,162,162,161,162,162,162,162,162,162,162,162,162,163,163,163,163,163,164,164,163,164,164,164,164,164,164,164,164,164,164,164,163,163,164,163,163,164,163,163,164,163,163,164,163,163,163,164,164,163,164,164,164,164,164,164,164,164,164,164,163,163,164,164,163,163,163,163,163,163,163,163,164,164,164,164,164,164,164,164,164,164,164,164,164,165,165,165,165,165,165,165,165,165,165,165,165,166,166,166,166,165,166,165,165,165,166,165,165,165,165,166,166,165,165,165,165,165,165,165,166,165,166,165,166,166,165,166,165,166,166,165,166,166,165,165,165,165,165,166,166,166,167,166,167,167,167,167,168,168,168,169,169,169,169,169,169,169,169,169,169,169,169,169,169,169,169,169,169,168,169,169,169,169,170,170,170,170,170,170,170,171,171,171,170,170,171,170,170,170,170,171,170,170,170,170,170,169,169,169,169,169,168,168,168,168,168,168,168,168,167,167,168,167,168,168,167,168,167,167,168,167,167,167,167,167,167,167,167,167,167,167,166,166,166,166,166,166,166,166,166,166,166,166,166,166,166,166,166,166,166,166,166,166,166,166,166,167,167,166,167,167,167,167,167,167,167,167,167,167,167,168,167,167,167,167,167,167,167,167,167,167,166,166,167,167,166,167,167,167,167,167,167,166,167,167,167,167,167,167,167,167,166,166,166,166,167,167,167,166,167,167,166,167,167,167,167,167,167,167,167,167,167,167,167,167,167,167,167,167,167,167,167,167,168,168,168,168,168,168,168,168,168,168,168,169,168,168,168,168,168,168,168,168,168,168,168,168,168,168,168,168,168,168,169,169,169,169,169,169,169,169,169,169,169,169,169,169,169,169,170,170,170,170,170,170,170,170,170,170,170,170,171,171,171,171,171,171,171,171,171,171,171,171,171,171,171,172,172,172,172,172,172,172,172,172,172,172,172,172,172,172,172,171,172,172,172,171,172,172,172,172,171,171,172,171,171,171,171,171,171,171,170,170,170,170,170,171,171,170,170,170,170,171,171,171,171,171,171,171,171,172,172,173,173,173,173,173,173,173,174,174,173,173,173,173,173,173,173,173,172,172,173,173,172,172,172,173,172,173,172,173,172,173,173,172,173,172,173,172,173,172,173,172,173,172,172,172,173,172,172,172,172,172,172,172,172,171,171,171,171,171,171,171,170,170,170,170,171,170,171,170,170,170,170,170,170,170,170,169,169,169,169,169,169,169,169,170,169,169,169,169,169,169,169,169,169,169,169,169,168,168,169,169,169,169,169,169,169,169,169,169,169,169,169,169,170,169,169,169,169,169,169,170,170,169,170,170,170,170,170,169,169,170,170,169,169,170,170,169,169,170,170,170,170,170,169,170,169,170,170,170,170,170,170,169,169,170,169,169,169,169,169,169,170,169,169,170,169,169,170,170,169,169,170,170,170,170,170,170,169,169,169,169,169,169,169,168,168,168,168,168,169,169,169,169,169,169,169,170,169,170,169,170,169,170,170,170,170,170,170,170,170,170,170,170,170,171,171,171,171,171,171,172,172,172,172,172,172,172,172,172,172,173,172,173,173,172,172,172,172,172,172,173,172,172,172,172,172,171,171,171,170,170,170,170,169,169,168,168,168,168,167,167,167,167,167,167,167,167,166,167,167,166,166,167,166,167,167,166,167,167,166,167,167,167,167,167,167,167,167,167,167,167,167,167,167,167,167,167,167,167,167,167,167,167,167,167,167,167,167,167,166,166,166,166,165,165,165,165,165,164,164,164,164,163,163,163,163,163,162,162,162,161,161,160,160,159,159,158,158,158,158,157,157,156,156,156,156,155,155,154,154,154,154,154,153,153,153,153,152,152,152,152,151,151,151,150,150,149,149,148,148,147,147,147,146,146,145,145,144,145,144,144,144,143,143,142,142,142,141,142,141,141,141,141,141,141,141,141,141,141,140,140,139,139,138,138,138,137,137,136,136,135,135,135,134,134,133,133,132,132,132,132,132,132,132,132,132,132,132,132,132,132,131,131,131,131,131,131,131,131,130,131,131,131,131,131,131,131,132,131,131,130,130,130,129,129,129,128,127,127,127,126,126,126,126,125,125,125,125,125,125,125,125,125,125,125,125,126,126,126,126,126,126,125,125,126,125,126,125,125,125,124,123,123,123,123,123,123,123,122,122,122,122,121,122,121,121,120,120,120,120,120,120,119,119,119,118,118,118,117,117,117,117,117,117,117,117,117,118,118,118,117,118,118,119,119,119,120,120,120,120],\"y\":[104,105,106,108,106,106,104,108,108,104,103,102,102,102,103,105,103,104,105,105,104,104,105,106,104,105,103,104,103,103,104,103,102,103,103,102,103,101,102,102,102,103,99,98,95,94,94,95,95,95,92,94,95,96,95,94,93,93,94,94,94,94,95,95,94,95,94,94,94,95,95,94,92,94,94,93,93,92,92,91,91,93,92,92,92,92,91,91,92,93,94,96,93,92,92,93,92,92,92,91,91,90,91,90,91,91,92,91,91,91,91,91,91,92,91,91,92,91,91,91,92,91,90,90,89,89,89,90,89,89,88,90,90,90,91,91,91,90,90,89,89,89,90,89,89,91,91,91,91,90,90,90,92,92,91,89,89,89,90,90,90,89,89,88,89,89,88,88,89,91,90,90,89,89,90,91,91,90,90,90,89,89,88,90,90,89,88,90,90,90,90,89,89,88,88,89,89,89,90,91,91,91,90,89,90,89,89,90,90,90,90,90,89,90,89,88,87,88,90,90,89,88,88,90,90,89,89,89,89,88,89,89,89,88,88,91,92,92,91,91,90,89,87,87,88,86,86,86,87,88,89,89,92,92,91,90,91,92,91,92,92,90,90,90,90,90,90,91,91,91,91,91,90,90,90,92,91,90,90,89,90,90,90,92,91,91,90,92,92,91,92,91,91,92,91,92,91,91,91,90,91,91,91,91,91,90,91,91,91,91,90,89,89,90,90,91,90,90,91,90,92,96,94,89,85,84,83,82,84,87,87,87,88,87,80,78,79,83,85,86,86,85,86,86,85,85,84,85,86,85,85,84,84,85,85,85,84,84,83,83,84,86,87,86,85,86,87,88,88,90,89,89,88,87,89,90,89,89,90,90,90,91,90,90,90,89,90,90,91,90,89,90,89,89,89,91,89,89,89,89,90,90,89,90,90,90,90,90,89,88,89,89,88,89,89,89,89,90,90,91,91,90,89,88,88,88,89,88,88,88,89,89,89,90,89,90,89,89,89,89,88,89,89,90,90,90,90,91,89,91,91,91,90,89,90,91,91,91,90,90,90,90,90,90,91,91,92,90,90,89,89,89,90,90,90,90,89,89,89,87,87,87,87,87,87,89,90,91,90,89,89,90,91,90,91,92,91,90,90,90,89,89,90,90,90,90,88,88,87,88,89,89,90,90,89,89,88,89,89,88,88,88,88,89,89,89,89,89,89,88,88,89,89,89,89,89,88,89,88,89,88,91,90,88,87,89,91,90,91,91,89,88,89,89,88,88,88,89,88,87,86,88,87,87,87,88,88,88,87,88,87,87,88,87,87,87,88,87,87,86,85,84,85,87,87,88,87,86,86,86,88,89,89,89,87,87,89,89,88,88,87,87,87,87,86,86,86,87,89,88,90,89,90,91,90,89,90,90,89,90,91,91,89,88,88,87,87,87,87,87,88,87,88,87,86,85,85,85,85,86,87,89,88,87,88,87,86,85,87,87,88,89,89,89,88,87,89,88,88,88,87,88,87,89,89,90,89,90,90,90,87,88,90,90,89,89,89,86,85,86,87,86,86,87,88,91,91,89,89,89,89,89,89,89,88,88,88,88,86,87,88,89,90,90,89,89,89,90,88,90,89,88,88,87,89,90,90,89,90,90,90,89,90,90,88,87,87,87,88,88,87,87,87,87,87,87,87,87,89,89,89,89,89,89,88,89,89,89,89,88,88,89,88,87,87,87,87,87,87,87,88,88,87,87,86,86,87,87,87,86,87,88,89,90,89,88,88,87,88,87,87,86,87,87,89,89,86,86,86,87,88,88,90,91,90,89,89,87,87,86,86,86,87,85,85,88,89,89,84,87,87,85,85,85,86,87,88,86,86,86,86,87,89,87,85,85,86,87,87,83,83,82,84,85,86,86,86,86,87,86,86,85,84,86,87,88,86,86,86,86,86,86,86,86,86,86,87,87,86,84,84,85,87,87,86,87,84,84,84,84,84,84,85,87,86,85,85,86,84,87,88,87,88,87,88,91,90,88,88,87,87,87,87,87,91,92,90,91,90,89,88,87,88,86,87,89,89,87,86,85,87,87,87,90,88,88,87,86,86,87,87,87,86,85,86,86,86,87,86,87,87,86,85,85,85,84,85,86,87,86,86,85,85,86,91,93,93,93,92,89,89,89,88,87,88,89,88,88,89,89,89,89,87,87,87,88,87,87,87,85,84,85,87,88,87,87,87,87,87,86,86,84,84,84,84,84,85,86,85,83,83,87,87,85,86,87,87,88,86,85,86,88,87,88,89,86,85,84,84,84,85,84,86,86,86,86,86,85,85,85,83,85,87,87,88,88,88,86,86,87,86,87,86,86,85,86,86,86,86,86,86,84,85,84,88,88,84,83,82,83,84,85,85,85,83,82,82,82,82,83,83,83,83,83,83,85,85,84,85,87,87,87,86,85,85,86,85,83,84,83,83,84,86,86,85,84,83,83,84,83,83,83,83,84,84,85,85,85,87,85,85,84,84,84,85,87,88,87,87,87,86,86,86,85,86,85,86,86,86,87,85,86,85,85,85,86,86,85,86,86,87,87,86,86,87,86,85,85,85,85,86,86,87,86,85,85,85,84,83,82,81,81,80,83,84,82,82,83,86,86,87,87,86,86,85,85,85,85,84,84,84,84,84,84,83,83,85,85,83,83,83,82,82,81,81,81,82,82,83,84,84,85,85,85,83,83,83,85,85,85,84,83,84,84,86,86,85,87,87,87,87,87,86,86,86,85,85,83,82,83,82,81,85,86,87,85,82,78,82,85,84,81,82,80,80,80,83,83,82,83,84,83,82,82,83,84,85,83,83,85,82,80,82,83,85,86,85,83,83,83,82,83,84,85,85,86,85,87,87,87,87,86,86,85,85,86,86,85,84,84,85,83,84,85,86,87,86,86,86,87,87,87,86,87,87,86,86,86,87,86,86,87,87,87,89,90,90,89,86,85,86,85,84,84,85,85,86,86,86,85,85,84,84,85,85,85,85,85,85,85,84,85,85,85,85,85,84,85,87,89,91,92,90,90,87,87,87,87,86,86,86,85,85,85,86,85,86,88,89,90,88,87,85,85,87,87,86,87,88,88,87,87,86,86,86,87,86,86,86,86,87,88,88,89,87,87,86,86,85,88,89,87,87,88,88,88,88,87,87,88,87,87,87,86,88,88,88,89,90,89,89,89,89,88,88,88,88,87,87,88,88,87,86,85,84,85,88,89,90,88,87,86,86,86,87,86,86,86,85,84,84,84,84,84,84,84,83,83,84,85,85,87,87,86,85,85,88,89,90,90,90,91,88,87,86,88,88,87,87,87,87,86,87,87,87,88,88,87,88,88,88,87,87,86,87,87,86,86,87,86,85,88,88,86,85,89,87,83,85,87,90,91,91,89,88,89,88,87,87,87,87,88,88,89,88,88,87,87,89,89,89,89,88,87,86,86,85,86,86,87,87,87,88,89,89,88,89,89,91,90,84,86,88,87,87,86,85,84,84,84,84,84,84,83,83,83,82,82,82,82,82,82,83,83,84,83,84,83,83,82,81,82,82,81,82,82,82,83,84,84,82,83,82,83,84,85,85,85,85,85,85,85,85,85,85,84,85,86,86,85,85,85,85,85,85,85,85,86,87,84,83,83,83,82,82,83,84,84,82,82,82,82,82,80,81,81,82,83,85,87,87,86,87,87,87,87,88,87,89,88,88,88,86,86,85,87,86,87,87,86,86,86,86,86,89,87,87,88,87,88,88,88,87,87,87,87,87,87,87,87,88,90,89,88,88,88,87,88,87,88,88,88,87,88,89,88,87,86,88,89,87,85,84,87,87,88,88,88,88,87,87,87,86,86,83,86,87,87,86,85,85,86,87,87,86,87,88,87,87,87,88,88,87,86,86,86,87,87,87,86,86,87,87,86,87,87,87,88,88,88,88,89,90,89,90,89,89,90,90,89,92,92,90,90,90,91,91,90,89,90,90,90,90,91,91,91,89,91,91,90,90,90,90,91,91,92,92,90,90,90,89,89,91,91,90,91,90,90,90,89,90,91,91,90,89,91,92,92,92,90,90,91,91,91,91,90,90,91,92,92,92,90,89,90,89,88,89,85,85,86,86,85,85,85,85,83,83,85,85,84,86,86,86,86,88,88,87,86,85,85,85,85,85,85,84,84,84,88,88,85,83,83,84,84,83,82,84,82,83,83,83,83,82,83,82,80,78,80,81,81,80,80,80,81,82,83,84,83,84,85,85,86,89,89,88,86,87,87,88,87,89,92,92,90,90,90,90,89,89,89,89,89,91,91,91,92,93,93,91,90,87,87,87,87,88,88,89,89,88,88,87,90,93,92,92,94,94,92,91,92,91,89,89,88,87,88,88,88,89,90,90,90,90,90,93,92,91,92,91,91,92,91,92,92,92,92,91,91,92,93,93,93,93,93,91,92,92,90,90,91,90,89,89,90,91,90,90,90,91,89,89,90,90,90,89,91,92,90,91,94,93,92,91,91,91,91,92,91,91,90,91,91,90,90,91,91,92,92,93,92,92,92,92,92,92,92,92,91,91,93,92,92,93,93,93,93,93,93,93,93,92,91,91,92,92,92,92,92,93,93,94,93,94,94,94,92,92,92,93,92,92,92,92,91,90,90,90,90,89,88,87,88,89,89,89,89,90,89,87,89,89,88,88,88,88,88,88,88,89,88,90,91,91,90,89,90,89,89,89,89,89,88,89,90,94,95,96,96,96,95,94,94,94,92,92,92,92,93,94,93,93,94,94,94,91,90,90,90,89,89,90,92,90,88,87,83,82,84,81,78,81,80,81,82,82,82,82,82,83,83,83,86,90,90,89,87,87,87,88,89,90,89,87,88,89,88,87,87,86,87,87,87,86,86,86,87,89,89,88,87,87,88,89,90,89,89,87,84,85,84,85,86,86,84,85,85,85,82,81,82,83,81,81,81,81,78,79,83,87,91,91,91,91,90,90,88,87,87,87,87,86,84,86,86,86,85,84,84,83,84,85,87,86,85,84,84,83,83,87,90,91,90,89,89,88,88,92,93,92,91,90,89,92,91,88,88,88,89,91,90,90,90,92,92,90,91,91,91,90,91,92,90,93,93,93,93,93,92,92,90,89,90,90,90,91,90,90,90,89,90,90,91,91,91,90,89,89,89,89,89,90,90,89,89,88,88,89,90,89,89,88,88,89,88,85,86,86,84,84,90,93,93,93,92,92,89,89,89,88,86,85,86,86,85,85,86,86,84,85,85,85,86,86,85,86,86,86,87,86,85,85,86,87,88,89,89,88,87,88,89,88,88,87,87,88,89,88,88,88,87,87,87,87,88,87,87,86,88,89,88,87,86,86,87,88,88,88,88,89,89,89,87,88,88,89,87,88,89,89,88,88,88,88,89,89,90,88,87,86,89,88,89,89,87,87,88,87,87,87,87,87,87,86,86,86,86,85,86,90,87,86,86,86,85,85,85,84,85,85,85,84,84,84,85,85,84,85,85,85,85,85,85,85,85,85,85,86,85,84,86,86,86,86,86,87,87,86,86,87,86,86,86,86,87,87,87,89,88,88,87,87,86,87,88,87,86,86,88,87,87,88,87,88,87,88,88,86,86,87,86,86,86,86,86,86,86,86,87,86,86,87,87,87,87,88,87,86,86,86,86,87,86,86,86,86,88,88,86,86,86,86,86,87,86,86,87,87,86,86,88,87,88,86,86,88,83,84,87,86,85,85,84,84,84,84,84,85,85,86,87,86,85,85,85,85,84,85,85,87,88,88,88,88,87,86,87,87,90,90,82,80,82,85,87,86,86,87,86,86,86,85,85,86,86,86,86,86,85,85,85,85,85,85,85,86,86,87,87,86,86,85,85,85,89,94,93,92,91,91,91,91,90,91,91,91,92,91,91,91,91,90,91,91,91,91,91,91,92,92,92,92,92,92,91,91,89,89,88,88,89,90,88,88,89,90,89,90,91,90,90,89,88,89,90,89,89,88,88,87,87,88,90,92,91,92,90,90,91,91,91,90,90,90,90,91,87,86,86,87,88,87,87,86,87,87,86,86,86,87,89,90,90,89,89,88,89,88,88,88,88,88,89,89,89,89,89,88,87,88,87,87,89,90,88,89,89,90,90,90,89,89,89,90,90,89,89,88,88,88,88,89,89,87,88,89,88,89,88,88,88,88,87,87,86,86,86,86,86,86,85,85,85,80,82,86,87,85,85,85,86,84,86,87,86,86,85,85,85,86,85,86,86,86,85,85,86,85,86,87,87,86,87,88,89,91,89,85,83,83,82,82,80,81,82,82,82,80,80,79,77,77,79,77,74,74,69,70,72,72,71,70,72,72,72,73,74,70,65,68,74,82,85,84,83,84,83,84,83,82,83,84,84,85,85,85,84,83,83,83,83,82,83,83,84,84,84,85,85,85,85,85,84,84,85,87,87,87,87,88,88,87,86,85,84,85,87,87,87,87,87,86,86,86,85,85,84,85,86,86,86,85,85,85,85,85,85,87,88,87,87,87,87,87,87,86,86,87,86,86,86,86,87,89,90,91,90,89,89,91,92,91,90,89,90,88,88,87,86,90,91,92,92,91,91,93,93,91,91,90,89,89,90,89,90,89,89,89,88,89,90,90,89,90,89,89,91,92,90,90,91,92,91,91,92,93,92,90,91,91,91,90,90,90,90,90,90,89,89,90,90,90,91,90,89,89,90,90,91,91,91,90,89,89,90,90,90,90,89,89,88,88,89,89,88,88,89,90,90,90,90,89,89,89,90,89,89,88,89,90,90,90,90,88,89,89,88,89,89,89,89,89,89,87,86,87,87,87,86,86,87,87,87,88,87,86,86,87,87,86,86,86,86,85,86,86,85,85,86,86,87,88,86,86,87,87,86,88,88,88,88,87,87,87,87,87,86,86,86,87,87,87,86,85,86,85,84,85,86,86,85,85,85,86,86,83,83,83,84,84,83,80,77,76,76,78,79,80,83,87,78,78,80,86,85,83,82,81,81,81,79,80,81,80,80,79,80,80,79,80,82,82,83,83,84,84,86,86,86,85,85,85,85,84,85,85,85,82,85,91,89,87,86,87,87,87,87,86,87,86,86,88,89,88,87,85,88,87,86,86,87,87,86,86,88,89,91,92,90,89,90,89,90,90,90,90,90,91,93,91,90,90,91,92,91,91,93,92,90,90,90,90,90,91,91,90,90,90,90,90,90,91,91,90,90,90,91,91,93,92,92,92,91,91,91,92,92,92,91,92,93,93,94,94,92,91,92,93,94,94,93,92,93,91,93,93,93,92,92,92,91,90,90,92,91,91,90,89,89,89,89,89,91,90,90,90,90,90,90,90,89,90,91,90,89,89,89,89,88,89,89,91,91,91,90,90,89,89,88,89,89,89,90,90,90,90,91,91,91,90,90,90,90,90,90,90,91,92,92,91,91,91,91,90,90,90,90,89,91,91,91,93,93,91,91,91,92,93,93,93,92,90,91,92,92,93,93,93,91,90,89,90,88,87,88,88,88,88,88,88,89,89,92,94,91,89,88,87,89,90,90,89,87,87,87,87,87,87,87,87,87,87,87,87,87,86,86,86,87,86,87,91,92,91,91,89,88,88,87,87,87,88,88,87,87,87,87,86,86,86,86,85,84,85,86,86,86,86,86,86,86,89,89,91,90,88,89,86,82,83,84,84,84,84,84,83,83,83,83,82,82,80,78,78,84,86,89,90,89,90,89,87,86,85,85,85,85,87,88,89,88,88,88,89,88,88,87,88,87,90,90,91,90,87,87,90,92,92,91,89,88,88,88,88,89,88,90,91,90,91,90,90,90,88,87,88,90,89,90,88,89,88,88,90,90,90,90,89,90,90,91,92,92,92,92,93,93,91,90,91,91,92,92,92,92,93,94,93,92,91,92,92,92,91,91,90,90,91,89,89,88,90,90,89,89,89,88,88,89,88,88,87,87,88,88,88,87,87,87,87,86,87,87,87,87,87,88,89,87,87,87,87,85,86,86,86,87,86,86,85,86,87,85,84,84,83,83,86,87,87,87,87,88,88,88,88,88,88,90,91,91,92,92,91,89,89,90,90,90,91,90,89,89,87,87,88,89,89,87,86,87,87,84,83,84,86,86,85,84,84,83,85,88,88,86,85,85,84,84,83,83,83,84,83,81,82,82,82,81,81,81,80,83,86,89,90,95,95,96,96,95,95,94,94,94,94,94,95,95,95,94,94,93,93,93,93,93,93,94,94,95,94,94,94,94,94,93,92,92,92,92,92,95,95,95,94,92,92,95,98,98,98,98,94,92,91,93,93,94,94,93,93,93,93,92,92,92,92,93,93,93,93,93,92,94,94,94,93,93,93,94,95,96,96,95,96,97,99,102,103,101,99,97,95,97,94,85,72,61,53,49,49,47,47,47,46,43,42,45,45,47,47,47,46,46,46,46,46,46,46,45,45,45,46,46,47,49,49,49,48,47,48,48,50,51,51,50,50,50,50,49,49,50,50,53,53,54,54,54,53,53,53,53,53,52,52,52,52,52,52,52,52,54,54,52,52,53,53,51,50,50,49,49,49,50,50,49,50,52,54,54,56,55,54,54,55,56,56,56,57,57,57,57,56,55,55,56,56,56,56,56,56,56,55,55,55,56,56,54,54,53,53,54,55,55,56,56,56,55,54,54,54,55,56,56,57,61,67,72,75,78,80,80,78,78,79,79,76,74,71,68,65,64,64,65,65,65,64,64,64,63,62,62,62,61,60,60,56,56,46,42,49,55,57,59,59,60,60,61,61,62,62,62,62,64,64,64,63,62,61,60,58,57,55,55,53,51,48,48,46,43,39,39,36,36,33,33,33,33,33,33,33,33,33,32,32,32,32,32,32,32,32,32,32,27,27,27,27,0,0,0,0,0,0,0,0,0,0,0,0,0]},\"selected\":{\"id\":\"80466\"},\"selection_policy\":{\"id\":\"80465\"}},\"id\":\"79026\",\"type\":\"ColumnDataSource\"},{\"attributes\":{\"bottom_units\":\"screen\",\"fill_alpha\":0.5,\"fill_color\":\"lightgrey\",\"left_units\":\"screen\",\"level\":\"overlay\",\"line_alpha\":1.0,\"line_color\":\"black\",\"line_dash\":[4,4],\"line_width\":2,\"right_units\":\"screen\",\"top_units\":\"screen\"},\"id\":\"79018\",\"type\":\"BoxAnnotation\"},{\"attributes\":{},\"id\":\"80462\",\"type\":\"BasicTickFormatter\"},{\"attributes\":{},\"id\":\"80465\",\"type\":\"UnionRenderers\"},{\"attributes\":{},\"id\":\"79005\",\"type\":\"BasicTicker\"},{\"attributes\":{},\"id\":\"79002\",\"type\":\"LinearScale\"},{\"attributes\":{},\"id\":\"79009\",\"type\":\"BasicTicker\"},{\"attributes\":{\"fill_alpha\":{\"value\":0.1},\"fill_color\":{\"value\":\"#1f77b4\"},\"line_alpha\":{\"value\":0.1},\"line_color\":{\"value\":\"#1f77b4\"},\"x\":{\"field\":\"x\"},\"y\":{\"field\":\"y\"}},\"id\":\"79028\",\"type\":\"Scatter\"},{\"attributes\":{\"data_source\":{\"id\":\"79026\"},\"glyph\":{\"id\":\"79027\"},\"hover_glyph\":null,\"muted_glyph\":null,\"nonselection_glyph\":{\"id\":\"79028\"},\"selection_glyph\":null,\"view\":{\"id\":\"79030\"}},\"id\":\"79029\",\"type\":\"GlyphRenderer\"},{\"attributes\":{\"source\":{\"id\":\"79026\"}},\"id\":\"79030\",\"type\":\"CDSView\"}],\"root_ids\":[\"78993\"]},\"title\":\"Bokeh Application\",\"version\":\"2.1.1\"}};\n",
       "  var render_items = [{\"docid\":\"615ba628-5a2f-484a-94c1-ec779d556a63\",\"root_ids\":[\"78993\"],\"roots\":{\"78993\":\"11ce7f12-157e-4b8d-964f-24b3086584b4\"}}];\n",
       "  root.Bokeh.embed.embed_items_notebook(docs_json, render_items);\n",
       "\n",
       "  }\n",
       "  if (root.Bokeh !== undefined) {\n",
       "    embed_document(root);\n",
       "  } else {\n",
       "    var attempts = 0;\n",
       "    var timer = setInterval(function(root) {\n",
       "      if (root.Bokeh !== undefined) {\n",
       "        clearInterval(timer);\n",
       "        embed_document(root);\n",
       "      } else {\n",
       "        attempts++;\n",
       "        if (attempts > 100) {\n",
       "          clearInterval(timer);\n",
       "          console.log(\"Bokeh: ERROR: Unable to run BokehJS code because BokehJS library is missing\");\n",
       "        }\n",
       "      }\n",
       "    }, 10, root)\n",
       "  }\n",
       "})(window);"
      ],
      "application/vnd.bokehjs_exec.v0+json": ""
     },
     "metadata": {
      "application/vnd.bokehjs_exec.v0+json": {
       "id": "78993"
      }
     },
     "output_type": "display_data"
    }
   ],
   "source": [
    "# output was set earlier, so we don't have to set it again.\n",
    "\n",
    "p = bp.figure(plot_width=800, \n",
    "              plot_height=800, \n",
    "              title='HR vs Cadence', \n",
    "              x_axis_label='Heart Rate (BPM)', \n",
    "              y_axis_label='Cadence (RPM)')\n",
    "\n",
    "p.scatter(df.hr, df.cad)\n",
    "\n",
    "bp.show(p)"
   ]
  },
  {
   "cell_type": "markdown",
   "metadata": {},
   "source": [
    "#### Hard to tell frequencies.."
   ]
  },
  {
   "cell_type": "code",
   "execution_count": 167,
   "metadata": {},
   "outputs": [
    {
     "data": {
      "text/html": [
       "\n",
       "\n",
       "\n",
       "\n",
       "\n",
       "\n",
       "  <div class=\"bk-root\" id=\"8c361cf0-e1e7-41f7-bd33-f027b09eb30b\" data-root-id=\"51353\"></div>\n"
      ]
     },
     "metadata": {},
     "output_type": "display_data"
    },
    {
     "data": {
      "application/javascript": [
       "(function(root) {\n",
       "  function embed_document(root) {\n",
       "    \n",
       "  var docs_json = {\"39d00971-7d2c-4e53-a465-cbe589dee122\":{\"roots\":{\"references\":[{\"attributes\":{\"below\":[{\"id\":\"51364\"}],\"center\":[{\"id\":\"51367\"},{\"id\":\"51371\"}],\"left\":[{\"id\":\"51368\"}],\"plot_height\":800,\"plot_width\":800,\"renderers\":[{\"id\":\"51389\"}],\"title\":{\"id\":\"51354\"},\"toolbar\":{\"id\":\"51379\"},\"x_range\":{\"id\":\"51356\"},\"x_scale\":{\"id\":\"51360\"},\"y_range\":{\"id\":\"51358\"},\"y_scale\":{\"id\":\"51362\"}},\"id\":\"51353\",\"subtype\":\"Figure\",\"type\":\"Plot\"},{\"attributes\":{},\"id\":\"51377\",\"type\":\"HelpTool\"},{\"attributes\":{\"active_drag\":\"auto\",\"active_inspect\":\"auto\",\"active_multi\":null,\"active_scroll\":\"auto\",\"active_tap\":\"auto\",\"tools\":[{\"id\":\"51372\"},{\"id\":\"51373\"},{\"id\":\"51374\"},{\"id\":\"51375\"},{\"id\":\"51376\"},{\"id\":\"51377\"}]},\"id\":\"51379\",\"type\":\"Toolbar\"},{\"attributes\":{},\"id\":\"51373\",\"type\":\"WheelZoomTool\"},{\"attributes\":{\"overlay\":{\"id\":\"51378\"}},\"id\":\"51374\",\"type\":\"BoxZoomTool\"},{\"attributes\":{},\"id\":\"52443\",\"type\":\"UnionRenderers\"},{\"attributes\":{},\"id\":\"51375\",\"type\":\"SaveTool\"},{\"attributes\":{},\"id\":\"51376\",\"type\":\"ResetTool\"},{\"attributes\":{\"source\":{\"id\":\"51386\"}},\"id\":\"51390\",\"type\":\"CDSView\"},{\"attributes\":{},\"id\":\"52444\",\"type\":\"Selection\"},{\"attributes\":{\"data_source\":{\"id\":\"51386\"},\"glyph\":{\"id\":\"51387\"},\"hover_glyph\":null,\"muted_glyph\":null,\"nonselection_glyph\":{\"id\":\"51388\"},\"selection_glyph\":null,\"view\":{\"id\":\"51390\"}},\"id\":\"51389\",\"type\":\"GlyphRenderer\"},{\"attributes\":{\"fill_alpha\":{\"value\":0.1},\"fill_color\":{\"value\":\"green\"},\"line_alpha\":{\"value\":0.1},\"line_color\":{\"value\":\"green\"},\"x\":{\"field\":\"x\"},\"y\":{\"field\":\"y\"}},\"id\":\"51388\",\"type\":\"Scatter\"},{\"attributes\":{},\"id\":\"52440\",\"type\":\"BasicTickFormatter\"},{\"attributes\":{},\"id\":\"51360\",\"type\":\"LinearScale\"},{\"attributes\":{\"bottom_units\":\"screen\",\"fill_alpha\":0.5,\"fill_color\":\"lightgrey\",\"left_units\":\"screen\",\"level\":\"overlay\",\"line_alpha\":1.0,\"line_color\":\"black\",\"line_dash\":[4,4],\"line_width\":2,\"right_units\":\"screen\",\"top_units\":\"screen\"},\"id\":\"51378\",\"type\":\"BoxAnnotation\"},{\"attributes\":{},\"id\":\"51372\",\"type\":\"PanTool\"},{\"attributes\":{\"fill_alpha\":{\"value\":0.2},\"fill_color\":{\"value\":\"green\"},\"line_alpha\":{\"value\":0.2},\"line_color\":{\"value\":\"green\"},\"x\":{\"field\":\"x\"},\"y\":{\"field\":\"y\"}},\"id\":\"51387\",\"type\":\"Scatter\"},{\"attributes\":{\"text\":\"HR vs Cadence\"},\"id\":\"51354\",\"type\":\"Title\"},{\"attributes\":{\"axis\":{\"id\":\"51368\"},\"dimension\":1,\"ticker\":null},\"id\":\"51371\",\"type\":\"Grid\"},{\"attributes\":{\"data\":{\"x\":[135,135,135,135,134,134,134,133,134,134,134,134,134,134,135,135,135,135,135,135,136,136,136,136,136,136,136,136,136,136,137,136,137,137,137,137,137,137,138,138,138,138,138,138,138,138,139,139,139,139,139,139,139,140,140,140,140,140,140,140,140,140,141,140,141,141,141,140,141,141,141,141,141,140,141,141,141,141,141,141,141,141,141,142,142,142,142,142,142,142,143,142,142,142,142,142,141,141,141,140,140,141,141,141,142,142,143,143,143,143,143,144,144,144,144,144,144,144,144,144,144,145,144,145,145,145,145,145,144,144,144,144,144,144,145,145,145,145,145,145,145,146,146,146,146,147,147,147,147,147,147,146,146,146,146,146,146,146,146,146,146,146,146,147,147,147,147,147,147,147,146,146,146,146,146,146,146,147,146,146,146,146,146,146,146,146,146,146,146,147,147,147,147,146,147,146,147,147,147,147,146,147,146,147,147,147,147,147,147,147,146,146,145,145,145,145,145,146,146,146,146,146,146,146,147,147,147,147,147,146,146,146,146,146,146,146,146,146,146,146,146,146,146,146,146,146,146,145,146,146,145,146,145,146,146,146,146,147,147,147,147,147,147,147,147,147,147,147,147,147,147,148,148,148,148,148,148,148,149,149,148,149,148,149,149,149,149,149,149,150,150,150,150,150,150,150,150,150,150,150,151,150,151,150,151,151,150,151,150,151,151,150,150,150,150,150,150,150,150,150,150,150,150,150,150,150,150,150,150,151,151,151,152,152,153,153,153,153,153,153,153,153,153,153,154,154,154,154,154,154,154,153,153,154,153,154,154,153,153,154,153,153,153,154,153,153,153,154,153,153,154,153,154,153,153,153,153,153,153,152,152,153,152,152,152,152,152,152,152,152,152,152,152,152,152,151,151,151,151,151,151,151,151,151,151,151,151,151,152,151,151,151,151,151,151,151,151,151,151,150,150,150,150,150,150,151,150,150,151,150,150,151,150,151,150,150,151,150,151,150,150,150,150,150,150,150,150,150,150,150,150,150,150,150,151,151,151,151,151,151,152,152,152,152,151,152,152,152,152,152,152,152,152,152,152,151,151,151,151,151,152,151,151,151,151,151,151,150,150,151,150,151,151,151,151,151,151,151,151,151,151,151,152,152,152,152,151,152,152,152,152,152,152,152,152,152,152,153,153,153,153,152,153,152,153,152,152,153,152,152,152,152,152,152,152,153,153,153,152,152,152,152,152,152,152,152,152,153,153,153,153,153,154,153,154,154,154,154,154,154,154,154,154,154,154,155,154,155,155,155,155,155,155,155,155,155,155,155,155,155,155,155,155,155,155,155,154,154,154,154,154,154,154,153,153,153,153,153,153,153,153,153,153,153,153,153,153,152,153,153,152,152,153,153,153,153,153,154,155,155,155,156,156,156,156,156,156,156,156,156,156,156,156,156,155,155,155,155,155,155,155,155,155,155,155,155,155,155,155,155,156,155,156,156,155,155,156,156,156,155,156,155,156,156,156,155,155,155,155,155,156,156,156,156,156,155,155,155,155,155,155,155,155,154,154,154,154,154,154,154,154,154,155,154,154,154,154,154,154,154,154,154,154,154,154,154,154,154,153,154,154,153,153,153,153,153,153,153,153,152,153,153,153,153,153,153,153,153,153,153,153,153,153,152,152,152,152,152,152,152,152,152,152,152,152,152,152,152,151,151,152,152,151,151,152,151,152,152,152,152,152,152,152,152,153,153,153,153,152,153,152,152,152,152,152,152,152,152,152,152,151,152,152,152,152,152,152,152,152,152,152,152,152,153,152,153,153,152,153,153,153,152,153,152,152,152,152,153,153,153,153,153,153,153,153,153,153,153,153,153,153,153,153,153,154,154,153,154,154,154,154,155,155,155,156,156,156,156,157,157,157,157,157,157,157,158,157,158,157,157,157,157,157,157,157,157,157,157,157,157,157,157,157,157,157,157,156,156,156,155,156,156,155,155,155,155,155,155,155,155,156,156,156,156,157,157,157,158,158,159,159,159,159,158,159,159,159,159,159,159,159,159,160,160,159,160,160,159,160,160,160,159,159,159,159,159,159,160,159,159,160,159,159,159,159,159,159,159,158,158,158,158,158,158,158,157,157,157,157,156,156,156,155,155,155,155,155,155,156,156,156,156,156,157,157,157,156,157,156,156,156,156,156,156,157,157,157,157,157,157,157,157,158,158,158,158,158,158,158,157,157,157,157,157,156,157,156,156,156,155,155,155,155,155,154,154,154,154,155,155,155,155,155,154,155,155,155,155,155,155,155,155,155,156,155,155,156,156,156,156,156,155,155,155,155,156,155,155,155,155,156,156,156,156,156,156,156,156,156,155,156,156,156,156,156,156,156,156,157,157,157,157,157,156,157,156,156,156,156,156,156,157,156,156,157,156,156,157,157,156,156,156,157,157,157,156,156,156,156,156,156,156,156,155,155,155,155,155,155,155,154,155,155,155,155,155,155,155,155,155,155,155,155,154,155,155,155,154,154,154,154,154,154,154,154,155,154,154,155,155,155,155,154,154,154,154,154,154,155,155,154,155,155,155,155,155,155,154,154,154,154,154,154,154,154,154,153,154,154,154,154,154,154,154,154,154,154,153,153,153,154,154,154,154,154,154,154,155,154,155,155,155,155,155,154,155,155,155,155,155,154,155,155,154,155,154,155,155,154,155,155,155,155,155,155,155,155,155,155,155,155,155,156,155,155,155,155,155,155,155,155,155,155,156,156,155,156,156,156,156,156,157,156,157,157,157,157,157,157,157,157,158,158,157,158,157,157,157,157,156,156,155,155,155,154,154,154,154,155,155,155,155,155,156,156,156,157,157,157,157,158,158,158,158,158,158,159,159,159,160,160,160,160,159,160,159,159,159,158,158,158,158,158,158,158,158,159,158,159,159,159,159,158,158,158,159,158,159,158,158,158,158,158,158,158,158,158,158,158,158,159,159,158,158,159,159,159,159,158,158,158,158,157,157,157,157,156,156,156,156,155,155,155,155,155,155,154,154,154,155,154,155,155,154,155,155,155,155,155,155,155,155,154,155,155,155,154,154,155,155,155,155,156,156,156,156,156,156,156,156,155,155,155,156,156,155,155,155,155,155,155,155,155,155,155,155,155,155,156,156,156,157,157,157,157,157,157,157,157,157,157,157,157,157,157,157,157,157,157,157,156,156,157,156,156,156,157,156,156,157,157,157,157,157,157,156,157,157,157,157,157,157,157,157,158,158,158,158,157,158,157,158,157,157,157,157,158,157,157,157,158,157,157,157,156,156,155,156,155,155,155,155,155,155,156,155,156,156,156,156,156,156,156,156,156,156,156,156,156,156,156,155,155,155,155,155,155,154,154,154,153,153,153,153,153,154,154,154,154,154,154,155,155,155,155,155,155,155,155,155,155,155,155,155,155,155,155,155,156,156,156,156,157,156,157,157,157,157,157,157,158,158,159,159,159,160,161,161,161,162,162,162,163,163,163,163,164,164,164,164,164,164,164,164,164,164,164,164,164,163,164,163,163,163,163,163,163,163,163,164,163,164,164,164,164,163,164,164,163,163,164,163,163,163,163,163,163,163,163,163,163,162,162,162,162,162,162,162,162,162,162,162,162,161,161,161,161,161,161,161,161,161,161,160,161,161,161,161,161,161,161,162,162,162,161,161,162,161,162,161,161,161,161,161,161,161,161,161,161,162,161,161,161,161,161,161,161,161,161,160,160,160,160,160,160,160,160,159,159,159,158,158,158,158,158,158,157,157,157,157,157,157,157,157,157,157,157,157,157,157,157,157,157,157,158,158,158,158,158,158,158,158,157,157,158,157,158,158,158,158,158,158,158,158,158,158,158,157,157,157,157,157,157,157,157,156,157,156,156,156,156,156,156,156,156,157,156,157,157,156,156,157,157,156,157,157,157,157,157,158,158,158,157,158,158,158,158,158,158,158,159,159,159,159,159,159,159,160,160,160,160,160,160,160,160,160,160,160,160,160,160,160,160,160,160,160,160,160,160,160,160,160,160,160,160,160,160,160,160,160,160,160,160,159,160,160,160,160,159,160,159,159,160,160,159,160,160,160,160,160,160,160,160,160,160,160,160,160,160,160,160,161,160,160,161,160,160,160,160,160,160,160,160,160,160,160,160,160,160,160,160,160,160,160,160,160,160,160,159,159,159,160,160,160,160,161,161,162,162,163,164,164,165,165,165,166,166,166,166,167,167,167,167,167,167,167,167,167,167,166,166,166,166,166,166,166,167,167,167,166,166,167,167,167,166,166,167,166,166,167,166,167,167,167,167,167,167,167,167,167,167,167,167,166,167,167,167,167,167,167,167,167,166,167,166,166,166,166,166,166,166,166,166,166,166,165,165,165,165,165,165,165,165,165,165,165,166,166,166,166,166,165,165,165,165,164,164,164,164,164,164,164,164,164,163,163,163,164,163,163,164,164,163,164,163,164,164,163,163,163,163,163,163,163,162,162,162,162,162,162,162,163,163,163,162,163,162,163,163,163,163,162,162,162,162,162,162,162,162,162,161,162,162,162,162,162,162,162,162,162,162,162,163,163,163,163,163,163,163,163,163,163,163,163,163,162,162,162,162,162,162,162,162,162,162,162,162,162,162,162,162,162,163,162,163,163,163,164,164,164,164,164,164,164,163,164,164,163,163,164,163,163,164,163,163,163,163,162,162,162,162,162,162,162,162,162,162,162,162,162,163,162,163,163,162,162,162,162,161,161,161,161,160,160,160,160,160,160,160,160,160,160,160,160,160,160,160,160,160,161,161,161,161,162,162,162,162,162,162,162,163,163,164,164,164,165,165,165,166,166,166,166,166,166,166,166,166,166,165,166,166,165,166,165,165,165,165,165,165,165,165,165,166,166,165,166,166,165,166,166,166,166,165,165,165,166,165,166,165,165,165,166,165,166,166,166,166,167,167,167,168,168,168,169,169,169,170,170,170,170,169,170,170,170,170,170,169,169,169,169,169,168,168,168,168,168,168,168,168,168,168,168,168,167,167,167,167,167,167,166,167,166,166,166,167,166,167,166,167,167,167,167,167,167,166,166,167,167,167,166,166,167,166,166,166,166,166,165,165,165,165,165,165,165,164,164,164,164,164,164,164,164,164,164,165,165,164,165,164,164,165,165,164,164,164,164,164,164,164,164,164,164,165,164,164,165,165,165,164,165,165,165,165,165,164,164,164,164,164,164,164,164,164,164,164,164,164,164,164,163,164,164,163,164,164,164,164,164,164,164,164,164,165,165,165,165,165,164,165,165,164,165,165,165,165,165,165,165,165,165,166,166,165,166,165,165,165,165,165,165,164,164,164,164,163,164,163,164,163,163,163,163,163,163,163,162,162,163,163,163,162,163,162,163,162,163,163,163,163,163,163,163,163,163,163,163,163,163,163,164,163,163,164,164,163,164,164,164,164,164,164,164,164,164,164,165,164,165,165,165,165,165,165,165,165,165,165,165,165,164,165,165,165,164,165,164,165,165,164,164,164,165,164,165,165,165,165,165,165,165,166,166,165,166,166,166,166,166,166,166,166,165,166,166,166,166,165,166,165,166,166,166,166,166,166,166,166,166,166,166,166,166,166,165,165,166,165,165,165,165,165,166,166,166,166,165,166,166,165,166,166,166,166,165,166,165,166,166,166,166,166,166,166,166,165,165,166,165,166,166,165,166,166,166,166,166,166,166,166,166,166,166,166,166,166,166,166,165,165,165,166,165,165,166,165,165,164,164,164,164,164,164,163,163,163,164,163,163,163,163,164,163,164,164,164,164,163,164,164,164,164,164,164,165,165,165,165,165,165,166,166,166,165,166,165,165,166,165,165,165,165,165,165,164,164,164,165,165,164,164,164,165,165,165,164,164,164,164,164,164,164,164,164,164,165,164,164,165,165,165,165,165,165,165,165,165,165,165,165,165,165,165,166,166,165,165,165,165,165,164,164,163,163,163,163,163,163,162,162,162,162,162,163,163,163,162,163,163,163,163,163,163,163,162,162,162,162,162,162,162,161,162,161,161,161,162,161,161,162,162,162,162,163,163,163,163,163,164,164,164,164,164,164,164,164,165,164,165,165,164,165,165,165,165,165,165,166,165,166,166,166,166,165,165,166,166,165,166,165,165,165,165,165,166,166,165,166,166,166,166,166,166,166,166,166,167,166,167,167,167,167,167,166,167,166,167,167,166,167,166,167,167,166,166,167,166,167,167,167,167,167,168,168,168,167,168,167,167,167,167,168,167,167,167,167,167,167,167,167,167,167,166,166,166,166,166,165,165,165,165,165,165,166,166,166,166,167,167,167,167,167,168,168,169,169,169,169,169,170,170,170,170,171,171,171,171,171,171,171,170,170,170,170,170,170,169,170,169,169,169,169,169,169,169,169,169,169,169,169,170,170,170,170,170,170,170,170,170,169,170,170,169,169,169,168,168,169,169,168,169,168,168,168,168,168,168,168,168,167,167,167,167,167,167,167,167,167,166,166,166,166,166,166,165,165,165,165,166,165,166,165,165,165,165,165,164,165,164,164,164,164,164,164,163,164,163,163,163,162,162,163,162,162,162,162,162,163,163,162,163,162,163,162,163,163,163,163,163,163,163,163,162,162,162,162,162,162,162,162,162,162,162,162,162,162,162,162,161,162,162,161,161,161,161,161,161,161,161,162,162,161,162,162,162,162,162,162,162,162,162,163,163,163,163,163,164,164,163,164,164,164,164,164,164,164,164,164,164,164,163,163,164,163,163,164,163,163,164,163,163,164,163,163,163,164,164,163,164,164,164,164,164,164,164,164,164,164,163,163,164,164,163,163,163,163,163,163,163,163,164,164,164,164,164,164,164,164,164,164,164,164,164,165,165,165,165,165,165,165,165,165,165,165,165,166,166,166,166,165,166,165,165,165,166,165,165,165,165,166,166,165,165,165,165,165,165,165,166,165,166,165,166,166,165,166,165,166,166,165,166,166,165,165,165,165,165,166,166,166,167,166,167,167,167,167,168,168,168,169,169,169,169,169,169,169,169,169,169,169,169,169,169,169,169,169,169,168,169,169,169,169,170,170,170,170,170,170,170,171,171,171,170,170,171,170,170,170,170,171,170,170,170,170,170,169,169,169,169,169,168,168,168,168,168,168,168,168,167,167,168,167,168,168,167,168,167,167,168,167,167,167,167,167,167,167,167,167,167,167,166,166,166,166,166,166,166,166,166,166,166,166,166,166,166,166,166,166,166,166,166,166,166,166,166,167,167,166,167,167,167,167,167,167,167,167,167,167,167,168,167,167,167,167,167,167,167,167,167,167,166,166,167,167,166,167,167,167,167,167,167,166,167,167,167,167,167,167,167,167,166,166,166,166,167,167,167,166,167,167,166,167,167,167,167,167,167,167,167,167,167,167,167,167,167,167,167,167,167,167,167,167,168,168,168,168,168,168,168,168,168,168,168,169,168,168,168,168,168,168,168,168,168,168,168,168,168,168,168,168,168,168,169,169,169,169,169,169,169,169,169,169,169,169,169,169,169,169,170,170,170,170,170,170,170,170,170,170,170,170,171,171,171,171,171,171,171,171,171,171,171,171,171,171,171,172,172,172,172,172,172,172,172,172,172,172,172,172,172,172,172,171,172,172,172,171,172,172,172,172,171,171,172,171,171,171,171,171,171,171,170,170,170,170,170,171,171,170,170,170,170,171,171,171,171,171,171,171,171,172,172,173,173,173,173,173,173,173,174,174,173,173,173,173,173,173,173,173,172,172,173,173,172,172,172,173,172,173,172,173,172,173,173,172,173,172,173,172,173,172,173,172,173,172,172,172,173,172,172,172,172,172,172,172,172,171,171,171,171,171,171,171,170,170,170,170,171,170,171,170,170,170,170,170,170,170,170,169,169,169,169,169,169,169,169,170,169,169,169,169,169,169,169,169,169,169,169,169,168,168,169,169,169,169,169,169,169,169,169,169,169,169,169,169,170,169,169,169,169,169,169,170,170,169,170,170,170,170,170,169,169,170,170,169,169,170,170,169,169,170,170,170,170,170,169,170,169,170,170,170,170,170,170,169,169,170,169,169,169,169,169,169,170,169,169,170,169,169,170,170,169,169,170,170,170,170,170,170,169,169,169,169,169,169,169,168,168,168,168,168,169,169,169,169,169,169,169,170,169,170,169,170,169,170,170,170,170,170,170,170,170,170,170,170,170,171,171,171,171,171,171,172,172,172,172,172,172,172,172,172,172,173,172,173,173,172,172,172,172,172,172,173,172,172,172,172,172,171,171,171,170,170,170,170,169,169,168,168,168,168,167,167,167,167,167,167,167,167,166,167,167,166,166,167,166,167,167,166,167,167,166,167,167,167,167,167,167,167,167,167,167,167,167,167,167,167,167,167,167,167,167,167,167,167,167,167,167,167,167,167,166,166,166,166,165,165,165,165,165,164,164,164,164,163,163,163,163,163,162,162,162,161,161,160,160,159,159,158,158,158,158,157,157,156,156,156,156,155,155,154,154,154,154,154,153,153,153,153,152,152,152,152,151,151,151,150,150,149,149,148,148,147,147,147,146,146,145,145,144,145,144,144,144,143,143,142,142,142,141,142,141,141,141,141,141,141,141,141,141,141,140,140,139,139,138,138,138,137,137,136,136,135,135,135,134,134,133,133,132,132,132,132,132,132,132,132,132,132,132,132,132,132,131,131,131,131,131,131,131,131,130,131,131,131,131,131,131,131,132,131,131,130,130,130,129,129,129,128,127,127,127,126,126,126,126,125,125,125,125,125,125,125,125,125,125,125,125,126,126,126,126,126,126,125,125,126,125,126,125,125,125,124,123,123,123,123,123,123,123,122,122,122,122,121,122,121,121,120,120,120,120,120,120,119,119,119,118,118,118,117,117,117,117,117,117,117,117,117,118,118,118,117,118,118,119,119,119,120,120,120,120],\"y\":[104,105,106,108,106,106,104,108,108,104,103,102,102,102,103,105,103,104,105,105,104,104,105,106,104,105,103,104,103,103,104,103,102,103,103,102,103,101,102,102,102,103,99,98,95,94,94,95,95,95,92,94,95,96,95,94,93,93,94,94,94,94,95,95,94,95,94,94,94,95,95,94,92,94,94,93,93,92,92,91,91,93,92,92,92,92,91,91,92,93,94,96,93,92,92,93,92,92,92,91,91,90,91,90,91,91,92,91,91,91,91,91,91,92,91,91,92,91,91,91,92,91,90,90,89,89,89,90,89,89,88,90,90,90,91,91,91,90,90,89,89,89,90,89,89,91,91,91,91,90,90,90,92,92,91,89,89,89,90,90,90,89,89,88,89,89,88,88,89,91,90,90,89,89,90,91,91,90,90,90,89,89,88,90,90,89,88,90,90,90,90,89,89,88,88,89,89,89,90,91,91,91,90,89,90,89,89,90,90,90,90,90,89,90,89,88,87,88,90,90,89,88,88,90,90,89,89,89,89,88,89,89,89,88,88,91,92,92,91,91,90,89,87,87,88,86,86,86,87,88,89,89,92,92,91,90,91,92,91,92,92,90,90,90,90,90,90,91,91,91,91,91,90,90,90,92,91,90,90,89,90,90,90,92,91,91,90,92,92,91,92,91,91,92,91,92,91,91,91,90,91,91,91,91,91,90,91,91,91,91,90,89,89,90,90,91,90,90,91,90,92,96,94,89,85,84,83,82,84,87,87,87,88,87,80,78,79,83,85,86,86,85,86,86,85,85,84,85,86,85,85,84,84,85,85,85,84,84,83,83,84,86,87,86,85,86,87,88,88,90,89,89,88,87,89,90,89,89,90,90,90,91,90,90,90,89,90,90,91,90,89,90,89,89,89,91,89,89,89,89,90,90,89,90,90,90,90,90,89,88,89,89,88,89,89,89,89,90,90,91,91,90,89,88,88,88,89,88,88,88,89,89,89,90,89,90,89,89,89,89,88,89,89,90,90,90,90,91,89,91,91,91,90,89,90,91,91,91,90,90,90,90,90,90,91,91,92,90,90,89,89,89,90,90,90,90,89,89,89,87,87,87,87,87,87,89,90,91,90,89,89,90,91,90,91,92,91,90,90,90,89,89,90,90,90,90,88,88,87,88,89,89,90,90,89,89,88,89,89,88,88,88,88,89,89,89,89,89,89,88,88,89,89,89,89,89,88,89,88,89,88,91,90,88,87,89,91,90,91,91,89,88,89,89,88,88,88,89,88,87,86,88,87,87,87,88,88,88,87,88,87,87,88,87,87,87,88,87,87,86,85,84,85,87,87,88,87,86,86,86,88,89,89,89,87,87,89,89,88,88,87,87,87,87,86,86,86,87,89,88,90,89,90,91,90,89,90,90,89,90,91,91,89,88,88,87,87,87,87,87,88,87,88,87,86,85,85,85,85,86,87,89,88,87,88,87,86,85,87,87,88,89,89,89,88,87,89,88,88,88,87,88,87,89,89,90,89,90,90,90,87,88,90,90,89,89,89,86,85,86,87,86,86,87,88,91,91,89,89,89,89,89,89,89,88,88,88,88,86,87,88,89,90,90,89,89,89,90,88,90,89,88,88,87,89,90,90,89,90,90,90,89,90,90,88,87,87,87,88,88,87,87,87,87,87,87,87,87,89,89,89,89,89,89,88,89,89,89,89,88,88,89,88,87,87,87,87,87,87,87,88,88,87,87,86,86,87,87,87,86,87,88,89,90,89,88,88,87,88,87,87,86,87,87,89,89,86,86,86,87,88,88,90,91,90,89,89,87,87,86,86,86,87,85,85,88,89,89,84,87,87,85,85,85,86,87,88,86,86,86,86,87,89,87,85,85,86,87,87,83,83,82,84,85,86,86,86,86,87,86,86,85,84,86,87,88,86,86,86,86,86,86,86,86,86,86,87,87,86,84,84,85,87,87,86,87,84,84,84,84,84,84,85,87,86,85,85,86,84,87,88,87,88,87,88,91,90,88,88,87,87,87,87,87,91,92,90,91,90,89,88,87,88,86,87,89,89,87,86,85,87,87,87,90,88,88,87,86,86,87,87,87,86,85,86,86,86,87,86,87,87,86,85,85,85,84,85,86,87,86,86,85,85,86,91,93,93,93,92,89,89,89,88,87,88,89,88,88,89,89,89,89,87,87,87,88,87,87,87,85,84,85,87,88,87,87,87,87,87,86,86,84,84,84,84,84,85,86,85,83,83,87,87,85,86,87,87,88,86,85,86,88,87,88,89,86,85,84,84,84,85,84,86,86,86,86,86,85,85,85,83,85,87,87,88,88,88,86,86,87,86,87,86,86,85,86,86,86,86,86,86,84,85,84,88,88,84,83,82,83,84,85,85,85,83,82,82,82,82,83,83,83,83,83,83,85,85,84,85,87,87,87,86,85,85,86,85,83,84,83,83,84,86,86,85,84,83,83,84,83,83,83,83,84,84,85,85,85,87,85,85,84,84,84,85,87,88,87,87,87,86,86,86,85,86,85,86,86,86,87,85,86,85,85,85,86,86,85,86,86,87,87,86,86,87,86,85,85,85,85,86,86,87,86,85,85,85,84,83,82,81,81,80,83,84,82,82,83,86,86,87,87,86,86,85,85,85,85,84,84,84,84,84,84,83,83,85,85,83,83,83,82,82,81,81,81,82,82,83,84,84,85,85,85,83,83,83,85,85,85,84,83,84,84,86,86,85,87,87,87,87,87,86,86,86,85,85,83,82,83,82,81,85,86,87,85,82,78,82,85,84,81,82,80,80,80,83,83,82,83,84,83,82,82,83,84,85,83,83,85,82,80,82,83,85,86,85,83,83,83,82,83,84,85,85,86,85,87,87,87,87,86,86,85,85,86,86,85,84,84,85,83,84,85,86,87,86,86,86,87,87,87,86,87,87,86,86,86,87,86,86,87,87,87,89,90,90,89,86,85,86,85,84,84,85,85,86,86,86,85,85,84,84,85,85,85,85,85,85,85,84,85,85,85,85,85,84,85,87,89,91,92,90,90,87,87,87,87,86,86,86,85,85,85,86,85,86,88,89,90,88,87,85,85,87,87,86,87,88,88,87,87,86,86,86,87,86,86,86,86,87,88,88,89,87,87,86,86,85,88,89,87,87,88,88,88,88,87,87,88,87,87,87,86,88,88,88,89,90,89,89,89,89,88,88,88,88,87,87,88,88,87,86,85,84,85,88,89,90,88,87,86,86,86,87,86,86,86,85,84,84,84,84,84,84,84,83,83,84,85,85,87,87,86,85,85,88,89,90,90,90,91,88,87,86,88,88,87,87,87,87,86,87,87,87,88,88,87,88,88,88,87,87,86,87,87,86,86,87,86,85,88,88,86,85,89,87,83,85,87,90,91,91,89,88,89,88,87,87,87,87,88,88,89,88,88,87,87,89,89,89,89,88,87,86,86,85,86,86,87,87,87,88,89,89,88,89,89,91,90,84,86,88,87,87,86,85,84,84,84,84,84,84,83,83,83,82,82,82,82,82,82,83,83,84,83,84,83,83,82,81,82,82,81,82,82,82,83,84,84,82,83,82,83,84,85,85,85,85,85,85,85,85,85,85,84,85,86,86,85,85,85,85,85,85,85,85,86,87,84,83,83,83,82,82,83,84,84,82,82,82,82,82,80,81,81,82,83,85,87,87,86,87,87,87,87,88,87,89,88,88,88,86,86,85,87,86,87,87,86,86,86,86,86,89,87,87,88,87,88,88,88,87,87,87,87,87,87,87,87,88,90,89,88,88,88,87,88,87,88,88,88,87,88,89,88,87,86,88,89,87,85,84,87,87,88,88,88,88,87,87,87,86,86,83,86,87,87,86,85,85,86,87,87,86,87,88,87,87,87,88,88,87,86,86,86,87,87,87,86,86,87,87,86,87,87,87,88,88,88,88,89,90,89,90,89,89,90,90,89,92,92,90,90,90,91,91,90,89,90,90,90,90,91,91,91,89,91,91,90,90,90,90,91,91,92,92,90,90,90,89,89,91,91,90,91,90,90,90,89,90,91,91,90,89,91,92,92,92,90,90,91,91,91,91,90,90,91,92,92,92,90,89,90,89,88,89,85,85,86,86,85,85,85,85,83,83,85,85,84,86,86,86,86,88,88,87,86,85,85,85,85,85,85,84,84,84,88,88,85,83,83,84,84,83,82,84,82,83,83,83,83,82,83,82,80,78,80,81,81,80,80,80,81,82,83,84,83,84,85,85,86,89,89,88,86,87,87,88,87,89,92,92,90,90,90,90,89,89,89,89,89,91,91,91,92,93,93,91,90,87,87,87,87,88,88,89,89,88,88,87,90,93,92,92,94,94,92,91,92,91,89,89,88,87,88,88,88,89,90,90,90,90,90,93,92,91,92,91,91,92,91,92,92,92,92,91,91,92,93,93,93,93,93,91,92,92,90,90,91,90,89,89,90,91,90,90,90,91,89,89,90,90,90,89,91,92,90,91,94,93,92,91,91,91,91,92,91,91,90,91,91,90,90,91,91,92,92,93,92,92,92,92,92,92,92,92,91,91,93,92,92,93,93,93,93,93,93,93,93,92,91,91,92,92,92,92,92,93,93,94,93,94,94,94,92,92,92,93,92,92,92,92,91,90,90,90,90,89,88,87,88,89,89,89,89,90,89,87,89,89,88,88,88,88,88,88,88,89,88,90,91,91,90,89,90,89,89,89,89,89,88,89,90,94,95,96,96,96,95,94,94,94,92,92,92,92,93,94,93,93,94,94,94,91,90,90,90,89,89,90,92,90,88,87,83,82,84,81,78,81,80,81,82,82,82,82,82,83,83,83,86,90,90,89,87,87,87,88,89,90,89,87,88,89,88,87,87,86,87,87,87,86,86,86,87,89,89,88,87,87,88,89,90,89,89,87,84,85,84,85,86,86,84,85,85,85,82,81,82,83,81,81,81,81,78,79,83,87,91,91,91,91,90,90,88,87,87,87,87,86,84,86,86,86,85,84,84,83,84,85,87,86,85,84,84,83,83,87,90,91,90,89,89,88,88,92,93,92,91,90,89,92,91,88,88,88,89,91,90,90,90,92,92,90,91,91,91,90,91,92,90,93,93,93,93,93,92,92,90,89,90,90,90,91,90,90,90,89,90,90,91,91,91,90,89,89,89,89,89,90,90,89,89,88,88,89,90,89,89,88,88,89,88,85,86,86,84,84,90,93,93,93,92,92,89,89,89,88,86,85,86,86,85,85,86,86,84,85,85,85,86,86,85,86,86,86,87,86,85,85,86,87,88,89,89,88,87,88,89,88,88,87,87,88,89,88,88,88,87,87,87,87,88,87,87,86,88,89,88,87,86,86,87,88,88,88,88,89,89,89,87,88,88,89,87,88,89,89,88,88,88,88,89,89,90,88,87,86,89,88,89,89,87,87,88,87,87,87,87,87,87,86,86,86,86,85,86,90,87,86,86,86,85,85,85,84,85,85,85,84,84,84,85,85,84,85,85,85,85,85,85,85,85,85,85,86,85,84,86,86,86,86,86,87,87,86,86,87,86,86,86,86,87,87,87,89,88,88,87,87,86,87,88,87,86,86,88,87,87,88,87,88,87,88,88,86,86,87,86,86,86,86,86,86,86,86,87,86,86,87,87,87,87,88,87,86,86,86,86,87,86,86,86,86,88,88,86,86,86,86,86,87,86,86,87,87,86,86,88,87,88,86,86,88,83,84,87,86,85,85,84,84,84,84,84,85,85,86,87,86,85,85,85,85,84,85,85,87,88,88,88,88,87,86,87,87,90,90,82,80,82,85,87,86,86,87,86,86,86,85,85,86,86,86,86,86,85,85,85,85,85,85,85,86,86,87,87,86,86,85,85,85,89,94,93,92,91,91,91,91,90,91,91,91,92,91,91,91,91,90,91,91,91,91,91,91,92,92,92,92,92,92,91,91,89,89,88,88,89,90,88,88,89,90,89,90,91,90,90,89,88,89,90,89,89,88,88,87,87,88,90,92,91,92,90,90,91,91,91,90,90,90,90,91,87,86,86,87,88,87,87,86,87,87,86,86,86,87,89,90,90,89,89,88,89,88,88,88,88,88,89,89,89,89,89,88,87,88,87,87,89,90,88,89,89,90,90,90,89,89,89,90,90,89,89,88,88,88,88,89,89,87,88,89,88,89,88,88,88,88,87,87,86,86,86,86,86,86,85,85,85,80,82,86,87,85,85,85,86,84,86,87,86,86,85,85,85,86,85,86,86,86,85,85,86,85,86,87,87,86,87,88,89,91,89,85,83,83,82,82,80,81,82,82,82,80,80,79,77,77,79,77,74,74,69,70,72,72,71,70,72,72,72,73,74,70,65,68,74,82,85,84,83,84,83,84,83,82,83,84,84,85,85,85,84,83,83,83,83,82,83,83,84,84,84,85,85,85,85,85,84,84,85,87,87,87,87,88,88,87,86,85,84,85,87,87,87,87,87,86,86,86,85,85,84,85,86,86,86,85,85,85,85,85,85,87,88,87,87,87,87,87,87,86,86,87,86,86,86,86,87,89,90,91,90,89,89,91,92,91,90,89,90,88,88,87,86,90,91,92,92,91,91,93,93,91,91,90,89,89,90,89,90,89,89,89,88,89,90,90,89,90,89,89,91,92,90,90,91,92,91,91,92,93,92,90,91,91,91,90,90,90,90,90,90,89,89,90,90,90,91,90,89,89,90,90,91,91,91,90,89,89,90,90,90,90,89,89,88,88,89,89,88,88,89,90,90,90,90,89,89,89,90,89,89,88,89,90,90,90,90,88,89,89,88,89,89,89,89,89,89,87,86,87,87,87,86,86,87,87,87,88,87,86,86,87,87,86,86,86,86,85,86,86,85,85,86,86,87,88,86,86,87,87,86,88,88,88,88,87,87,87,87,87,86,86,86,87,87,87,86,85,86,85,84,85,86,86,85,85,85,86,86,83,83,83,84,84,83,80,77,76,76,78,79,80,83,87,78,78,80,86,85,83,82,81,81,81,79,80,81,80,80,79,80,80,79,80,82,82,83,83,84,84,86,86,86,85,85,85,85,84,85,85,85,82,85,91,89,87,86,87,87,87,87,86,87,86,86,88,89,88,87,85,88,87,86,86,87,87,86,86,88,89,91,92,90,89,90,89,90,90,90,90,90,91,93,91,90,90,91,92,91,91,93,92,90,90,90,90,90,91,91,90,90,90,90,90,90,91,91,90,90,90,91,91,93,92,92,92,91,91,91,92,92,92,91,92,93,93,94,94,92,91,92,93,94,94,93,92,93,91,93,93,93,92,92,92,91,90,90,92,91,91,90,89,89,89,89,89,91,90,90,90,90,90,90,90,89,90,91,90,89,89,89,89,88,89,89,91,91,91,90,90,89,89,88,89,89,89,90,90,90,90,91,91,91,90,90,90,90,90,90,90,91,92,92,91,91,91,91,90,90,90,90,89,91,91,91,93,93,91,91,91,92,93,93,93,92,90,91,92,92,93,93,93,91,90,89,90,88,87,88,88,88,88,88,88,89,89,92,94,91,89,88,87,89,90,90,89,87,87,87,87,87,87,87,87,87,87,87,87,87,86,86,86,87,86,87,91,92,91,91,89,88,88,87,87,87,88,88,87,87,87,87,86,86,86,86,85,84,85,86,86,86,86,86,86,86,89,89,91,90,88,89,86,82,83,84,84,84,84,84,83,83,83,83,82,82,80,78,78,84,86,89,90,89,90,89,87,86,85,85,85,85,87,88,89,88,88,88,89,88,88,87,88,87,90,90,91,90,87,87,90,92,92,91,89,88,88,88,88,89,88,90,91,90,91,90,90,90,88,87,88,90,89,90,88,89,88,88,90,90,90,90,89,90,90,91,92,92,92,92,93,93,91,90,91,91,92,92,92,92,93,94,93,92,91,92,92,92,91,91,90,90,91,89,89,88,90,90,89,89,89,88,88,89,88,88,87,87,88,88,88,87,87,87,87,86,87,87,87,87,87,88,89,87,87,87,87,85,86,86,86,87,86,86,85,86,87,85,84,84,83,83,86,87,87,87,87,88,88,88,88,88,88,90,91,91,92,92,91,89,89,90,90,90,91,90,89,89,87,87,88,89,89,87,86,87,87,84,83,84,86,86,85,84,84,83,85,88,88,86,85,85,84,84,83,83,83,84,83,81,82,82,82,81,81,81,80,83,86,89,90,95,95,96,96,95,95,94,94,94,94,94,95,95,95,94,94,93,93,93,93,93,93,94,94,95,94,94,94,94,94,93,92,92,92,92,92,95,95,95,94,92,92,95,98,98,98,98,94,92,91,93,93,94,94,93,93,93,93,92,92,92,92,93,93,93,93,93,92,94,94,94,93,93,93,94,95,96,96,95,96,97,99,102,103,101,99,97,95,97,94,85,72,61,53,49,49,47,47,47,46,43,42,45,45,47,47,47,46,46,46,46,46,46,46,45,45,45,46,46,47,49,49,49,48,47,48,48,50,51,51,50,50,50,50,49,49,50,50,53,53,54,54,54,53,53,53,53,53,52,52,52,52,52,52,52,52,54,54,52,52,53,53,51,50,50,49,49,49,50,50,49,50,52,54,54,56,55,54,54,55,56,56,56,57,57,57,57,56,55,55,56,56,56,56,56,56,56,55,55,55,56,56,54,54,53,53,54,55,55,56,56,56,55,54,54,54,55,56,56,57,61,67,72,75,78,80,80,78,78,79,79,76,74,71,68,65,64,64,65,65,65,64,64,64,63,62,62,62,61,60,60,56,56,46,42,49,55,57,59,59,60,60,61,61,62,62,62,62,64,64,64,63,62,61,60,58,57,55,55,53,51,48,48,46,43,39,39,36,36,33,33,33,33,33,33,33,33,33,32,32,32,32,32,32,32,32,32,32,27,27,27,27,0,0,0,0,0,0,0,0,0,0,0,0,0]},\"selected\":{\"id\":\"52444\"},\"selection_policy\":{\"id\":\"52443\"}},\"id\":\"51386\",\"type\":\"ColumnDataSource\"},{\"attributes\":{},\"id\":\"52442\",\"type\":\"BasicTickFormatter\"},{\"attributes\":{},\"id\":\"51356\",\"type\":\"DataRange1d\"},{\"attributes\":{},\"id\":\"51358\",\"type\":\"DataRange1d\"},{\"attributes\":{\"axis_label\":\"Cadence (RPM)\",\"formatter\":{\"id\":\"52440\"},\"ticker\":{\"id\":\"51369\"}},\"id\":\"51368\",\"type\":\"LinearAxis\"},{\"attributes\":{\"axis_label\":\"Heart Rate (BPM)\",\"formatter\":{\"id\":\"52442\"},\"ticker\":{\"id\":\"51365\"}},\"id\":\"51364\",\"type\":\"LinearAxis\"},{\"attributes\":{},\"id\":\"51365\",\"type\":\"BasicTicker\"},{\"attributes\":{},\"id\":\"51362\",\"type\":\"LinearScale\"},{\"attributes\":{},\"id\":\"51369\",\"type\":\"BasicTicker\"},{\"attributes\":{\"axis\":{\"id\":\"51364\"},\"ticker\":null},\"id\":\"51367\",\"type\":\"Grid\"}],\"root_ids\":[\"51353\"]},\"title\":\"Bokeh Application\",\"version\":\"2.1.1\"}};\n",
       "  var render_items = [{\"docid\":\"39d00971-7d2c-4e53-a465-cbe589dee122\",\"root_ids\":[\"51353\"],\"roots\":{\"51353\":\"8c361cf0-e1e7-41f7-bd33-f027b09eb30b\"}}];\n",
       "  root.Bokeh.embed.embed_items_notebook(docs_json, render_items);\n",
       "\n",
       "  }\n",
       "  if (root.Bokeh !== undefined) {\n",
       "    embed_document(root);\n",
       "  } else {\n",
       "    var attempts = 0;\n",
       "    var timer = setInterval(function(root) {\n",
       "      if (root.Bokeh !== undefined) {\n",
       "        clearInterval(timer);\n",
       "        embed_document(root);\n",
       "      } else {\n",
       "        attempts++;\n",
       "        if (attempts > 100) {\n",
       "          clearInterval(timer);\n",
       "          console.log(\"Bokeh: ERROR: Unable to run BokehJS code because BokehJS library is missing\");\n",
       "        }\n",
       "      }\n",
       "    }, 10, root)\n",
       "  }\n",
       "})(window);"
      ],
      "application/vnd.bokehjs_exec.v0+json": ""
     },
     "metadata": {
      "application/vnd.bokehjs_exec.v0+json": {
       "id": "51353"
      }
     },
     "output_type": "display_data"
    }
   ],
   "source": [
    "# output was set earlier, so we don't have to set it again.\n",
    "\n",
    "p = bp.figure(plot_width=800, \n",
    "              plot_height=800, \n",
    "              title='HR vs Cadence', \n",
    "              x_axis_label='Heart Rate (BPM)', \n",
    "              y_axis_label='Cadence (RPM)')\n",
    "\n",
    "p.scatter(df.hr, df.cad, alpha=.2, color='green')\n",
    "\n",
    "bp.show(p)"
   ]
  },
  {
   "cell_type": "markdown",
   "metadata": {},
   "source": [
    "# Simple Line Graphs"
   ]
  },
  {
   "cell_type": "code",
   "execution_count": 198,
   "metadata": {},
   "outputs": [
    {
     "data": {
      "text/html": [
       "\n",
       "\n",
       "\n",
       "\n",
       "\n",
       "\n",
       "  <div class=\"bk-root\" id=\"d104db62-c2ca-4378-9a84-5fd5616d0472\" data-root-id=\"93175\"></div>\n"
      ]
     },
     "metadata": {},
     "output_type": "display_data"
    },
    {
     "data": {
      "application/javascript": [
       "(function(root) {\n",
       "  function embed_document(root) {\n",
       "    \n",
       "  var docs_json = {\"96ca3606-01ea-487e-8770-0cc03a9f26b0\":{\"roots\":{\"references\":[{\"attributes\":{\"below\":[{\"id\":\"93186\"}],\"center\":[{\"id\":\"93189\"},{\"id\":\"93193\"}],\"left\":[{\"id\":\"93190\"}],\"plot_height\":400,\"plot_width\":800,\"renderers\":[{\"id\":\"93211\"}],\"title\":{\"id\":\"93176\"},\"toolbar\":{\"id\":\"93201\"},\"x_range\":{\"id\":\"93178\"},\"x_scale\":{\"id\":\"93182\"},\"y_range\":{\"id\":\"93180\"},\"y_scale\":{\"id\":\"93184\"}},\"id\":\"93175\",\"subtype\":\"Figure\",\"type\":\"Plot\"},{\"attributes\":{\"axis\":{\"id\":\"93190\"},\"dimension\":1,\"ticker\":null},\"id\":\"93193\",\"type\":\"Grid\"},{\"attributes\":{},\"id\":\"94728\",\"type\":\"BasicTickFormatter\"},{\"attributes\":{},\"id\":\"93195\",\"type\":\"WheelZoomTool\"},{\"attributes\":{\"active_drag\":\"auto\",\"active_inspect\":\"auto\",\"active_multi\":null,\"active_scroll\":\"auto\",\"active_tap\":\"auto\",\"tools\":[{\"id\":\"93194\"},{\"id\":\"93195\"},{\"id\":\"93196\"},{\"id\":\"93197\"},{\"id\":\"93198\"},{\"id\":\"93199\"}]},\"id\":\"93201\",\"type\":\"Toolbar\"},{\"attributes\":{},\"id\":\"93194\",\"type\":\"PanTool\"},{\"attributes\":{},\"id\":\"93199\",\"type\":\"HelpTool\"},{\"attributes\":{},\"id\":\"93197\",\"type\":\"SaveTool\"},{\"attributes\":{},\"id\":\"93198\",\"type\":\"ResetTool\"},{\"attributes\":{},\"id\":\"94732\",\"type\":\"Selection\"},{\"attributes\":{},\"id\":\"94730\",\"type\":\"BasicTickFormatter\"},{\"attributes\":{\"data_source\":{\"id\":\"93208\"},\"glyph\":{\"id\":\"93209\"},\"hover_glyph\":null,\"muted_glyph\":null,\"nonselection_glyph\":{\"id\":\"93210\"},\"selection_glyph\":null,\"view\":{\"id\":\"93212\"}},\"id\":\"93211\",\"type\":\"GlyphRenderer\"},{\"attributes\":{\"text\":\"HR over Time\"},\"id\":\"93176\",\"type\":\"Title\"},{\"attributes\":{\"axis_label\":\"Seconds\",\"formatter\":{\"id\":\"94730\"},\"ticker\":{\"id\":\"93187\"}},\"id\":\"93186\",\"type\":\"LinearAxis\"},{\"attributes\":{\"end\":180,\"start\":130},\"id\":\"93180\",\"type\":\"Range1d\"},{\"attributes\":{},\"id\":\"93178\",\"type\":\"DataRange1d\"},{\"attributes\":{\"data\":{\"x\":[0,10,20,30,40,50,60,70,80,90,100,110,120,130,140,150,160,170,180,190,200,210,220,230,240,250,260,270,280,290,300,310,320,330,340,350,360,370,380,390,400,410,420,430,440,450,460,470,480,490,500,510,520,530,540,550,560,570,580,590,600,610,620,630,640,650,660,670,680,690,700,710,720,730,740,750,760,770,780,790,800,810,820,830,840,850,860,870,880,890,900,910,920,930,940,950,960,970,980,990,1000,1010,1020,1030,1040,1050,1060,1070,1080,1090,1100,1110,1120,1130,1140,1150,1160,1170,1180,1190,1200,1210,1220,1230,1240,1250,1260,1270,1280,1290,1300,1310,1320,1330,1340,1350,1360,1370,1380,1390,1400,1410,1420,1430,1440,1450,1460,1470,1480,1490,1500,1510,1520,1530,1540,1550,1560,1570,1580,1590,1600,1610,1620,1630,1640,1650,1660,1670,1680,1690,1700,1710,1720,1730,1740,1750,1760,1770,1780,1790,1800,1810,1820,1830,1840,1850,1860,1870,1880,1890,1900,1910,1920,1930,1940,1950,1960,1970,1980,1990,2000,2010,2020,2030,2040,2050,2060,2070,2080,2090,2100,2110,2120,2130,2140,2150,2160,2170,2180,2190,2200,2210,2220,2230,2240,2250,2260,2270,2280,2290,2300,2310,2320,2330,2340,2350,2360,2370,2380,2390,2400,2410,2420,2430,2440,2450,2460,2470,2480,2490,2500,2510,2520,2530,2540,2550,2560,2570,2580,2590,2600,2610,2620,2630,2640,2650,2660,2670,2680,2690,2700,2710,2720,2730,2740,2750,2760,2770,2780,2790,2800,2810,2820,2830,2840,2850,2860,2870,2880,2890,2900,2910,2920,2930,2940,2950,2960,2970,2980,2990,3000,3010,3020,3030,3040,3050,3060,3070,3080,3090,3100,3110,3120,3130,3140,3150,3160,3170,3180,3190,3200,3210,3220,3230,3240,3250,3260,3270,3280,3290,3300,3310,3320,3330,3340,3350,3360,3370,3380,3390,3400,3410,3420,3430,3440,3450,3460,3470,3480,3490,3500,3510,3520,3530,3540,3550,3560,3570,3580,3590,3600,3610,3620,3630,3640,3650,3660,3670,3680,3690,3700,3710,3720,3730,3740,3750,3760,3770,3780,3790,3800,3810,3820,3830,3840,3850,3860,3870,3880,3890,3900,3910,3920,3930,3940,3950],\"y\":[135,134,136,137,138,139,140,141,141,143,140,143,144,144,145,147,146,146,146,147,146,146,146,146,146,145,147,147,148,150,151,151,150,151,153,154,153,154,152,152,151,151,150,150,150,150,152,152,152,150,151,152,153,152,152,153,154,155,155,154,153,152,155,156,155,156,156,156,155,154,154,154,153,153,152,152,152,152,151,152,153,153,153,154,157,157,157,156,156,159,159,160,160,158,156,156,156,157,157,155,155,155,156,156,156,157,156,156,156,154,155,154,155,154,154,154,154,155,154,155,155,155,156,157,156,155,158,160,158,159,158,159,158,155,154,155,155,155,155,156,157,156,157,157,157,158,155,156,156,153,154,155,156,158,162,164,164,163,164,163,162,161,161,161,161,160,158,157,157,158,158,157,156,156,158,159,160,160,160,160,159,160,160,160,160,159,164,167,166,166,166,167,167,166,165,166,164,164,163,162,163,161,162,163,162,162,164,163,162,163,161,160,161,163,166,166,165,166,165,168,169,169,168,167,167,166,165,164,165,164,165,164,164,164,164,166,164,163,162,163,163,164,165,165,164,166,166,166,166,165,166,166,165,166,166,164,164,164,166,165,164,164,165,165,164,162,163,161,162,164,165,166,165,166,167,167,167,168,167,165,167,170,170,169,170,170,168,167,166,165,164,163,162,163,162,161,161,163,164,163,164,164,164,164,164,165,165,165,165,166,166,169,169,169,171,170,168,167,167,166,166,166,167,167,166,166,166,167,167,167,168,168,168,169,170,171,171,172,171,171,170,171,173,173,173,173,172,172,171,170,169,169,169,169,170,170,170,170,169,169,169,169,170,170,172,173,173,170,167,166,167,167,167,166,164,161,157,154,152,147,144,141,140,135,132,132,131,130,126,125,126,124,122,120,117,117]},\"selected\":{\"id\":\"94732\"},\"selection_policy\":{\"id\":\"94731\"}},\"id\":\"93208\",\"type\":\"ColumnDataSource\"},{\"attributes\":{},\"id\":\"94731\",\"type\":\"UnionRenderers\"},{\"attributes\":{\"overlay\":{\"id\":\"93200\"}},\"id\":\"93196\",\"type\":\"BoxZoomTool\"},{\"attributes\":{},\"id\":\"93184\",\"type\":\"LinearScale\"},{\"attributes\":{\"line_color\":\"orange\",\"x\":{\"field\":\"x\"},\"y\":{\"field\":\"y\"}},\"id\":\"93209\",\"type\":\"Line\"},{\"attributes\":{},\"id\":\"93187\",\"type\":\"BasicTicker\"},{\"attributes\":{\"axis_label\":\"Heart Rate\",\"formatter\":{\"id\":\"94728\"},\"ticker\":{\"id\":\"93191\"}},\"id\":\"93190\",\"type\":\"LinearAxis\"},{\"attributes\":{},\"id\":\"93191\",\"type\":\"BasicTicker\"},{\"attributes\":{},\"id\":\"93182\",\"type\":\"LinearScale\"},{\"attributes\":{\"bottom_units\":\"screen\",\"fill_alpha\":0.5,\"fill_color\":\"lightgrey\",\"left_units\":\"screen\",\"level\":\"overlay\",\"line_alpha\":1.0,\"line_color\":\"black\",\"line_dash\":[4,4],\"line_width\":2,\"right_units\":\"screen\",\"top_units\":\"screen\"},\"id\":\"93200\",\"type\":\"BoxAnnotation\"},{\"attributes\":{\"axis\":{\"id\":\"93186\"},\"ticker\":null},\"id\":\"93189\",\"type\":\"Grid\"},{\"attributes\":{\"source\":{\"id\":\"93208\"}},\"id\":\"93212\",\"type\":\"CDSView\"},{\"attributes\":{\"line_alpha\":0.1,\"line_color\":\"orange\",\"x\":{\"field\":\"x\"},\"y\":{\"field\":\"y\"}},\"id\":\"93210\",\"type\":\"Line\"}],\"root_ids\":[\"93175\"]},\"title\":\"Bokeh Application\",\"version\":\"2.1.1\"}};\n",
       "  var render_items = [{\"docid\":\"96ca3606-01ea-487e-8770-0cc03a9f26b0\",\"root_ids\":[\"93175\"],\"roots\":{\"93175\":\"d104db62-c2ca-4378-9a84-5fd5616d0472\"}}];\n",
       "  root.Bokeh.embed.embed_items_notebook(docs_json, render_items);\n",
       "\n",
       "  }\n",
       "  if (root.Bokeh !== undefined) {\n",
       "    embed_document(root);\n",
       "  } else {\n",
       "    var attempts = 0;\n",
       "    var timer = setInterval(function(root) {\n",
       "      if (root.Bokeh !== undefined) {\n",
       "        clearInterval(timer);\n",
       "        embed_document(root);\n",
       "      } else {\n",
       "        attempts++;\n",
       "        if (attempts > 100) {\n",
       "          clearInterval(timer);\n",
       "          console.log(\"Bokeh: ERROR: Unable to run BokehJS code because BokehJS library is missing\");\n",
       "        }\n",
       "      }\n",
       "    }, 10, root)\n",
       "  }\n",
       "})(window);"
      ],
      "application/vnd.bokehjs_exec.v0+json": ""
     },
     "metadata": {
      "application/vnd.bokehjs_exec.v0+json": {
       "id": "93175"
      }
     },
     "output_type": "display_data"
    }
   ],
   "source": [
    "p = bp.figure(plot_width=800, \n",
    "              plot_height=400, \n",
    "              title='HR over Time',  \n",
    "              x_axis_label='Seconds', \n",
    "              y_axis_label='Heart Rate',\n",
    "              y_range=[130,180]\n",
    "              )\n",
    "\n",
    "p.line(df.time[::10], df.hr[::10], color='orange')\n",
    "\n",
    "bp.show(p)"
   ]
  },
  {
   "cell_type": "code",
   "execution_count": 199,
   "metadata": {},
   "outputs": [
    {
     "data": {
      "text/html": [
       "\n",
       "\n",
       "\n",
       "\n",
       "\n",
       "\n",
       "  <div class=\"bk-root\" id=\"7a551ec7-24a8-44d4-bcff-d5b8eec96498\" data-root-id=\"94782\"></div>\n"
      ]
     },
     "metadata": {},
     "output_type": "display_data"
    },
    {
     "data": {
      "application/javascript": [
       "(function(root) {\n",
       "  function embed_document(root) {\n",
       "    \n",
       "  var docs_json = {\"5090eca6-8b05-4fbc-9739-a783aec43d94\":{\"roots\":{\"references\":[{\"attributes\":{\"below\":[{\"id\":\"94793\"}],\"center\":[{\"id\":\"94796\"},{\"id\":\"94800\"}],\"left\":[{\"id\":\"94797\"}],\"plot_height\":400,\"plot_width\":800,\"renderers\":[{\"id\":\"94818\"},{\"id\":\"94823\"}],\"title\":{\"id\":\"94783\"},\"toolbar\":{\"id\":\"94808\"},\"x_range\":{\"id\":\"94785\"},\"x_scale\":{\"id\":\"94789\"},\"y_range\":{\"id\":\"94787\"},\"y_scale\":{\"id\":\"94791\"}},\"id\":\"94782\",\"subtype\":\"Figure\",\"type\":\"Plot\"},{\"attributes\":{},\"id\":\"94805\",\"type\":\"ResetTool\"},{\"attributes\":{},\"id\":\"96351\",\"type\":\"UnionRenderers\"},{\"attributes\":{\"data_source\":{\"id\":\"94815\"},\"glyph\":{\"id\":\"94816\"},\"hover_glyph\":null,\"muted_glyph\":null,\"nonselection_glyph\":{\"id\":\"94817\"},\"selection_glyph\":null,\"view\":{\"id\":\"94819\"}},\"id\":\"94818\",\"type\":\"GlyphRenderer\"},{\"attributes\":{},\"id\":\"94806\",\"type\":\"HelpTool\"},{\"attributes\":{},\"id\":\"96352\",\"type\":\"Selection\"},{\"attributes\":{\"line_color\":\"orange\",\"line_width\":2,\"x\":{\"field\":\"x\"},\"y\":{\"field\":\"y\"}},\"id\":\"94816\",\"type\":\"Line\"},{\"attributes\":{\"line_alpha\":0.1,\"line_color\":\"orange\",\"line_width\":2,\"x\":{\"field\":\"x\"},\"y\":{\"field\":\"y\"}},\"id\":\"94817\",\"type\":\"Line\"},{\"attributes\":{},\"id\":\"96353\",\"type\":\"UnionRenderers\"},{\"attributes\":{},\"id\":\"96354\",\"type\":\"Selection\"},{\"attributes\":{},\"id\":\"96348\",\"type\":\"BasicTickFormatter\"},{\"attributes\":{\"bottom_units\":\"screen\",\"fill_alpha\":0.5,\"fill_color\":\"lightgrey\",\"left_units\":\"screen\",\"level\":\"overlay\",\"line_alpha\":1.0,\"line_color\":\"black\",\"line_dash\":[4,4],\"line_width\":2,\"right_units\":\"screen\",\"top_units\":\"screen\"},\"id\":\"94807\",\"type\":\"BoxAnnotation\"},{\"attributes\":{\"data\":{\"x\":[0,10,20,30,40,50,60,70,80,90,100,110,120,130,140,150,160,170,180,190,200,210,220,230,240,250,260,270,280,290,300,310,320,330,340,350,360,370,380,390,400,410,420,430,440,450,460,470,480,490,500,510,520,530,540,550,560,570,580,590,600,610,620,630,640,650,660,670,680,690,700,710,720,730,740,750,760,770,780,790,800,810,820,830,840,850,860,870,880,890,900,910,920,930,940,950,960,970,980,990,1000,1010,1020,1030,1040,1050,1060,1070,1080,1090,1100,1110,1120,1130,1140,1150,1160,1170,1180,1190,1200,1210,1220,1230,1240,1250,1260,1270,1280,1290,1300,1310,1320,1330,1340,1350,1360,1370,1380,1390,1400,1410,1420,1430,1440,1450,1460,1470,1480,1490,1500,1510,1520,1530,1540,1550,1560,1570,1580,1590,1600,1610,1620,1630,1640,1650,1660,1670,1680,1690,1700,1710,1720,1730,1740,1750,1760,1770,1780,1790,1800,1810,1820,1830,1840,1850,1860,1870,1880,1890,1900,1910,1920,1930,1940,1950,1960,1970,1980,1990,2000,2010,2020,2030,2040,2050,2060,2070,2080,2090,2100,2110,2120,2130,2140,2150,2160,2170,2180,2190,2200,2210,2220,2230,2240,2250,2260,2270,2280,2290,2300,2310,2320,2330,2340,2350,2360,2370,2380,2390,2400,2410,2420,2430,2440,2450,2460,2470,2480,2490,2500,2510,2520,2530,2540,2550,2560,2570,2580,2590,2600,2610,2620,2630,2640,2650,2660,2670,2680,2690,2700,2710,2720,2730,2740,2750,2760,2770,2780,2790,2800,2810,2820,2830,2840,2850,2860,2870,2880,2890,2900,2910,2920,2930,2940,2950,2960,2970,2980,2990,3000,3010,3020,3030,3040,3050,3060,3070,3080,3090,3100,3110,3120,3130,3140,3150,3160,3170,3180,3190,3200,3210,3220,3230,3240,3250,3260,3270,3280,3290,3300,3310,3320,3330,3340,3350,3360,3370,3380,3390,3400,3410,3420,3430,3440,3450,3460,3470,3480,3490,3500,3510,3520,3530,3540,3550,3560,3570,3580,3590,3600,3610,3620,3630,3640,3650,3660,3670,3680,3690,3700,3710,3720,3730,3740,3750,3760,3770,3780,3790,3800,3810,3820,3830,3840,3850,3860,3870,3880,3890,3900,3910,3920,3930,3940,3950],\"y\":[104,103,104,104,102,92,94,95,91,94,91,91,92,88,89,90,90,90,89,90,91,90,89,89,90,89,92,91,90,92,91,90,92,87,86,85,84,89,90,89,90,89,91,89,88,91,90,89,87,89,89,89,88,88,88,89,86,87,85,88,87,90,91,88,87,88,87,87,87,89,88,89,90,87,89,88,88,87,87,88,86,87,86,83,86,86,84,84,88,87,88,87,87,87,86,89,89,84,86,83,86,85,83,86,86,84,83,87,83,83,85,86,85,87,86,81,87,84,83,84,84,87,82,84,84,82,82,87,85,87,86,86,85,84,91,86,88,87,87,89,87,89,88,87,84,85,90,87,88,85,90,87,89,87,84,84,82,81,82,85,85,83,82,87,88,86,88,88,88,87,87,85,88,86,88,92,90,90,89,90,90,92,86,86,85,83,83,80,85,89,89,87,87,91,90,92,93,90,89,93,91,92,92,92,94,92,87,89,90,89,94,93,90,81,83,90,87,87,85,83,91,86,85,91,90,90,92,89,90,90,88,93,85,85,85,88,87,87,89,88,88,87,86,84,85,86,86,87,88,86,87,87,86,87,85,86,88,80,85,85,85,91,90,92,90,89,88,90,87,90,88,87,89,89,88,85,84,86,86,82,77,70,82,84,82,85,87,86,85,87,86,91,92,89,90,92,90,90,90,88,89,90,89,87,86,88,87,87,85,80,78,80,82,85,87,88,87,89,90,90,91,92,93,92,90,89,90,91,89,90,91,93,90,90,89,89,87,91,88,85,89,84,80,87,88,91,88,90,88,92,92,92,90,87,87,87,87,87,92,89,87,85,83,80,95,94,94,92,98,93,93,95,99,49,47,45,48,49,53,52,49,56,57,56,53,54,80,65,62,49,62,58,39,33,32,0]},\"selected\":{\"id\":\"96354\"},\"selection_policy\":{\"id\":\"96353\"}},\"id\":\"94820\",\"type\":\"ColumnDataSource\"},{\"attributes\":{\"line_color\":\"green\",\"line_width\":2,\"x\":{\"field\":\"x\"},\"y\":{\"field\":\"y\"}},\"id\":\"94821\",\"type\":\"Line\"},{\"attributes\":{\"data_source\":{\"id\":\"94820\"},\"glyph\":{\"id\":\"94821\"},\"hover_glyph\":null,\"muted_glyph\":null,\"nonselection_glyph\":{\"id\":\"94822\"},\"selection_glyph\":null,\"view\":{\"id\":\"94824\"}},\"id\":\"94823\",\"type\":\"GlyphRenderer\"},{\"attributes\":{\"text\":\"HR over Time\"},\"id\":\"94783\",\"type\":\"Title\"},{\"attributes\":{},\"id\":\"96350\",\"type\":\"BasicTickFormatter\"},{\"attributes\":{\"formatter\":{\"id\":\"96348\"},\"ticker\":{\"id\":\"94798\"}},\"id\":\"94797\",\"type\":\"LinearAxis\"},{\"attributes\":{},\"id\":\"94787\",\"type\":\"DataRange1d\"},{\"attributes\":{},\"id\":\"94785\",\"type\":\"DataRange1d\"},{\"attributes\":{\"axis_label\":\"Seconds\",\"formatter\":{\"id\":\"96350\"},\"ticker\":{\"id\":\"94794\"}},\"id\":\"94793\",\"type\":\"LinearAxis\"},{\"attributes\":{\"line_alpha\":0.1,\"line_color\":\"green\",\"line_width\":2,\"x\":{\"field\":\"x\"},\"y\":{\"field\":\"y\"}},\"id\":\"94822\",\"type\":\"Line\"},{\"attributes\":{\"source\":{\"id\":\"94820\"}},\"id\":\"94824\",\"type\":\"CDSView\"},{\"attributes\":{},\"id\":\"94794\",\"type\":\"BasicTicker\"},{\"attributes\":{},\"id\":\"94791\",\"type\":\"LinearScale\"},{\"attributes\":{},\"id\":\"94802\",\"type\":\"WheelZoomTool\"},{\"attributes\":{},\"id\":\"94798\",\"type\":\"BasicTicker\"},{\"attributes\":{},\"id\":\"94789\",\"type\":\"LinearScale\"},{\"attributes\":{},\"id\":\"94804\",\"type\":\"SaveTool\"},{\"attributes\":{\"axis\":{\"id\":\"94793\"},\"ticker\":null},\"id\":\"94796\",\"type\":\"Grid\"},{\"attributes\":{\"overlay\":{\"id\":\"94807\"}},\"id\":\"94803\",\"type\":\"BoxZoomTool\"},{\"attributes\":{},\"id\":\"94801\",\"type\":\"PanTool\"},{\"attributes\":{\"source\":{\"id\":\"94815\"}},\"id\":\"94819\",\"type\":\"CDSView\"},{\"attributes\":{\"axis\":{\"id\":\"94797\"},\"dimension\":1,\"ticker\":null},\"id\":\"94800\",\"type\":\"Grid\"},{\"attributes\":{\"active_drag\":\"auto\",\"active_inspect\":\"auto\",\"active_multi\":null,\"active_scroll\":\"auto\",\"active_tap\":\"auto\",\"tools\":[{\"id\":\"94801\"},{\"id\":\"94802\"},{\"id\":\"94803\"},{\"id\":\"94804\"},{\"id\":\"94805\"},{\"id\":\"94806\"}]},\"id\":\"94808\",\"type\":\"Toolbar\"},{\"attributes\":{\"data\":{\"x\":[0,10,20,30,40,50,60,70,80,90,100,110,120,130,140,150,160,170,180,190,200,210,220,230,240,250,260,270,280,290,300,310,320,330,340,350,360,370,380,390,400,410,420,430,440,450,460,470,480,490,500,510,520,530,540,550,560,570,580,590,600,610,620,630,640,650,660,670,680,690,700,710,720,730,740,750,760,770,780,790,800,810,820,830,840,850,860,870,880,890,900,910,920,930,940,950,960,970,980,990,1000,1010,1020,1030,1040,1050,1060,1070,1080,1090,1100,1110,1120,1130,1140,1150,1160,1170,1180,1190,1200,1210,1220,1230,1240,1250,1260,1270,1280,1290,1300,1310,1320,1330,1340,1350,1360,1370,1380,1390,1400,1410,1420,1430,1440,1450,1460,1470,1480,1490,1500,1510,1520,1530,1540,1550,1560,1570,1580,1590,1600,1610,1620,1630,1640,1650,1660,1670,1680,1690,1700,1710,1720,1730,1740,1750,1760,1770,1780,1790,1800,1810,1820,1830,1840,1850,1860,1870,1880,1890,1900,1910,1920,1930,1940,1950,1960,1970,1980,1990,2000,2010,2020,2030,2040,2050,2060,2070,2080,2090,2100,2110,2120,2130,2140,2150,2160,2170,2180,2190,2200,2210,2220,2230,2240,2250,2260,2270,2280,2290,2300,2310,2320,2330,2340,2350,2360,2370,2380,2390,2400,2410,2420,2430,2440,2450,2460,2470,2480,2490,2500,2510,2520,2530,2540,2550,2560,2570,2580,2590,2600,2610,2620,2630,2640,2650,2660,2670,2680,2690,2700,2710,2720,2730,2740,2750,2760,2770,2780,2790,2800,2810,2820,2830,2840,2850,2860,2870,2880,2890,2900,2910,2920,2930,2940,2950,2960,2970,2980,2990,3000,3010,3020,3030,3040,3050,3060,3070,3080,3090,3100,3110,3120,3130,3140,3150,3160,3170,3180,3190,3200,3210,3220,3230,3240,3250,3260,3270,3280,3290,3300,3310,3320,3330,3340,3350,3360,3370,3380,3390,3400,3410,3420,3430,3440,3450,3460,3470,3480,3490,3500,3510,3520,3530,3540,3550,3560,3570,3580,3590,3600,3610,3620,3630,3640,3650,3660,3670,3680,3690,3700,3710,3720,3730,3740,3750,3760,3770,3780,3790,3800,3810,3820,3830,3840,3850,3860,3870,3880,3890,3900,3910,3920,3930,3940,3950],\"y\":[135,134,136,137,138,139,140,141,141,143,140,143,144,144,145,147,146,146,146,147,146,146,146,146,146,145,147,147,148,150,151,151,150,151,153,154,153,154,152,152,151,151,150,150,150,150,152,152,152,150,151,152,153,152,152,153,154,155,155,154,153,152,155,156,155,156,156,156,155,154,154,154,153,153,152,152,152,152,151,152,153,153,153,154,157,157,157,156,156,159,159,160,160,158,156,156,156,157,157,155,155,155,156,156,156,157,156,156,156,154,155,154,155,154,154,154,154,155,154,155,155,155,156,157,156,155,158,160,158,159,158,159,158,155,154,155,155,155,155,156,157,156,157,157,157,158,155,156,156,153,154,155,156,158,162,164,164,163,164,163,162,161,161,161,161,160,158,157,157,158,158,157,156,156,158,159,160,160,160,160,159,160,160,160,160,159,164,167,166,166,166,167,167,166,165,166,164,164,163,162,163,161,162,163,162,162,164,163,162,163,161,160,161,163,166,166,165,166,165,168,169,169,168,167,167,166,165,164,165,164,165,164,164,164,164,166,164,163,162,163,163,164,165,165,164,166,166,166,166,165,166,166,165,166,166,164,164,164,166,165,164,164,165,165,164,162,163,161,162,164,165,166,165,166,167,167,167,168,167,165,167,170,170,169,170,170,168,167,166,165,164,163,162,163,162,161,161,163,164,163,164,164,164,164,164,165,165,165,165,166,166,169,169,169,171,170,168,167,167,166,166,166,167,167,166,166,166,167,167,167,168,168,168,169,170,171,171,172,171,171,170,171,173,173,173,173,172,172,171,170,169,169,169,169,170,170,170,170,169,169,169,169,170,170,172,173,173,170,167,166,167,167,167,166,164,161,157,154,152,147,144,141,140,135,132,132,131,130,126,125,126,124,122,120,117,117]},\"selected\":{\"id\":\"96352\"},\"selection_policy\":{\"id\":\"96351\"}},\"id\":\"94815\",\"type\":\"ColumnDataSource\"}],\"root_ids\":[\"94782\"]},\"title\":\"Bokeh Application\",\"version\":\"2.1.1\"}};\n",
       "  var render_items = [{\"docid\":\"5090eca6-8b05-4fbc-9739-a783aec43d94\",\"root_ids\":[\"94782\"],\"roots\":{\"94782\":\"7a551ec7-24a8-44d4-bcff-d5b8eec96498\"}}];\n",
       "  root.Bokeh.embed.embed_items_notebook(docs_json, render_items);\n",
       "\n",
       "  }\n",
       "  if (root.Bokeh !== undefined) {\n",
       "    embed_document(root);\n",
       "  } else {\n",
       "    var attempts = 0;\n",
       "    var timer = setInterval(function(root) {\n",
       "      if (root.Bokeh !== undefined) {\n",
       "        clearInterval(timer);\n",
       "        embed_document(root);\n",
       "      } else {\n",
       "        attempts++;\n",
       "        if (attempts > 100) {\n",
       "          clearInterval(timer);\n",
       "          console.log(\"Bokeh: ERROR: Unable to run BokehJS code because BokehJS library is missing\");\n",
       "        }\n",
       "      }\n",
       "    }, 10, root)\n",
       "  }\n",
       "})(window);"
      ],
      "application/vnd.bokehjs_exec.v0+json": ""
     },
     "metadata": {
      "application/vnd.bokehjs_exec.v0+json": {
       "id": "94782"
      }
     },
     "output_type": "display_data"
    }
   ],
   "source": [
    "# output was set earlier, so we don't have to set it again.\n",
    "\n",
    "p = bp.figure(plot_width=800, \n",
    "              plot_height=400, \n",
    "              title='HR over Time',  \n",
    "              x_axis_label='Seconds')\n",
    "\n",
    "p.line(df.time[::10], df.hr[::10], line_width=2, color='orange')\n",
    "p.line(df.time[::10], df.cad[::10], line_width=2, color='green')\n",
    "\n",
    "bp.show(p)"
   ]
  },
  {
   "cell_type": "markdown",
   "metadata": {},
   "source": [
    "# Multi-Graphs"
   ]
  },
  {
   "cell_type": "markdown",
   "metadata": {},
   "source": [
    "### What if we want to see the data on their own graphs?"
   ]
  },
  {
   "cell_type": "code",
   "execution_count": 204,
   "metadata": {},
   "outputs": [
    {
     "data": {
      "text/html": [
       "\n",
       "\n",
       "\n",
       "\n",
       "\n",
       "\n",
       "  <div class=\"bk-root\" id=\"65b0d2ca-244e-4393-8d14-e4f756e21942\" data-root-id=\"101695\"></div>\n"
      ]
     },
     "metadata": {},
     "output_type": "display_data"
    },
    {
     "data": {
      "application/javascript": [
       "(function(root) {\n",
       "  function embed_document(root) {\n",
       "    \n",
       "  var docs_json = {\"7ae14b25-ef18-4243-a5a2-fc05e6c25f8e\":{\"roots\":{\"references\":[{\"attributes\":{\"children\":[{\"id\":\"101620\"},{\"id\":\"101658\"}]},\"id\":\"101695\",\"type\":\"Column\"},{\"attributes\":{},\"id\":\"101623\",\"type\":\"DataRange1d\"},{\"attributes\":{},\"id\":\"101632\",\"type\":\"BasicTicker\"},{\"attributes\":{},\"id\":\"101629\",\"type\":\"LinearScale\"},{\"attributes\":{},\"id\":\"101636\",\"type\":\"BasicTicker\"},{\"attributes\":{\"source\":{\"id\":\"101690\"}},\"id\":\"101694\",\"type\":\"CDSView\"},{\"attributes\":{\"axis_label\":\"Heart Rate\",\"formatter\":{\"id\":\"103278\"},\"ticker\":{\"id\":\"101636\"}},\"id\":\"101635\",\"type\":\"LinearAxis\"},{\"attributes\":{\"axis\":{\"id\":\"101631\"},\"ticker\":null},\"id\":\"101634\",\"type\":\"Grid\"},{\"attributes\":{\"line_alpha\":0.1,\"line_color\":\"green\",\"line_width\":2,\"x\":{\"field\":\"x\"},\"y\":{\"field\":\"y\"}},\"id\":\"101692\",\"type\":\"Line\"},{\"attributes\":{},\"id\":\"103282\",\"type\":\"BasicTickFormatter\"},{\"attributes\":{\"axis\":{\"id\":\"101635\"},\"dimension\":1,\"ticker\":null},\"id\":\"101638\",\"type\":\"Grid\"},{\"attributes\":{},\"id\":\"101640\",\"type\":\"WheelZoomTool\"},{\"attributes\":{},\"id\":\"101677\",\"type\":\"WheelZoomTool\"},{\"attributes\":{},\"id\":\"103288\",\"type\":\"UnionRenderers\"},{\"attributes\":{\"bottom_units\":\"screen\",\"fill_alpha\":0.5,\"fill_color\":\"lightgrey\",\"left_units\":\"screen\",\"level\":\"overlay\",\"line_alpha\":1.0,\"line_color\":\"black\",\"line_dash\":[4,4],\"line_width\":2,\"right_units\":\"screen\",\"top_units\":\"screen\"},\"id\":\"101682\",\"type\":\"BoxAnnotation\"},{\"attributes\":{},\"id\":\"101639\",\"type\":\"PanTool\"},{\"attributes\":{},\"id\":\"103289\",\"type\":\"Selection\"},{\"attributes\":{\"active_drag\":\"auto\",\"active_inspect\":\"auto\",\"active_multi\":null,\"active_scroll\":\"auto\",\"active_tap\":\"auto\",\"tools\":[{\"id\":\"101639\"},{\"id\":\"101640\"},{\"id\":\"101641\"},{\"id\":\"101642\"},{\"id\":\"101643\"},{\"id\":\"101644\"}]},\"id\":\"101646\",\"type\":\"Toolbar\"},{\"attributes\":{},\"id\":\"101644\",\"type\":\"HelpTool\"},{\"attributes\":{\"overlay\":{\"id\":\"101645\"}},\"id\":\"101641\",\"type\":\"BoxZoomTool\"},{\"attributes\":{},\"id\":\"101642\",\"type\":\"SaveTool\"},{\"attributes\":{},\"id\":\"101643\",\"type\":\"ResetTool\"},{\"attributes\":{},\"id\":\"101673\",\"type\":\"BasicTicker\"},{\"attributes\":{\"end\":120,\"start\":60},\"id\":\"101662\",\"type\":\"Range1d\"},{\"attributes\":{\"axis\":{\"id\":\"101668\"},\"ticker\":null},\"id\":\"101671\",\"type\":\"Grid\"},{\"attributes\":{\"text\":\"HR over Time\"},\"id\":\"101621\",\"type\":\"Title\"},{\"attributes\":{},\"id\":\"103284\",\"type\":\"BasicTickFormatter\"},{\"attributes\":{\"axis_label\":\"Seconds\",\"formatter\":{\"id\":\"103284\"},\"ticker\":{\"id\":\"101669\"}},\"id\":\"101668\",\"type\":\"LinearAxis\"},{\"attributes\":{\"axis_label\":\"Cadence\",\"formatter\":{\"id\":\"103282\"},\"ticker\":{\"id\":\"101673\"}},\"id\":\"101672\",\"type\":\"LinearAxis\"},{\"attributes\":{},\"id\":\"103278\",\"type\":\"BasicTickFormatter\"},{\"attributes\":{},\"id\":\"101664\",\"type\":\"LinearScale\"},{\"attributes\":{},\"id\":\"101666\",\"type\":\"LinearScale\"},{\"attributes\":{\"line_alpha\":0.1,\"line_color\":\"orange\",\"line_width\":2,\"x\":{\"field\":\"x\"},\"y\":{\"field\":\"y\"}},\"id\":\"101655\",\"type\":\"Line\"},{\"attributes\":{\"text\":\"Cadence over Time\"},\"id\":\"101659\",\"type\":\"Title\"},{\"attributes\":{\"source\":{\"id\":\"101653\"}},\"id\":\"101657\",\"type\":\"CDSView\"},{\"attributes\":{\"axis\":{\"id\":\"101672\"},\"dimension\":1,\"ticker\":null},\"id\":\"101675\",\"type\":\"Grid\"},{\"attributes\":{\"line_color\":\"orange\",\"line_width\":2,\"x\":{\"field\":\"x\"},\"y\":{\"field\":\"y\"}},\"id\":\"101654\",\"type\":\"Line\"},{\"attributes\":{\"data_source\":{\"id\":\"101653\"},\"glyph\":{\"id\":\"101654\"},\"hover_glyph\":null,\"muted_glyph\":null,\"nonselection_glyph\":{\"id\":\"101655\"},\"selection_glyph\":null,\"view\":{\"id\":\"101657\"}},\"id\":\"101656\",\"type\":\"GlyphRenderer\"},{\"attributes\":{},\"id\":\"101676\",\"type\":\"PanTool\"},{\"attributes\":{\"axis_label\":\"Seconds\",\"formatter\":{\"id\":\"103280\"},\"ticker\":{\"id\":\"101632\"}},\"id\":\"101631\",\"type\":\"LinearAxis\"},{\"attributes\":{\"active_drag\":\"auto\",\"active_inspect\":\"auto\",\"active_multi\":null,\"active_scroll\":\"auto\",\"active_tap\":\"auto\",\"tools\":[{\"id\":\"101676\"},{\"id\":\"101677\"},{\"id\":\"101678\"},{\"id\":\"101679\"},{\"id\":\"101680\"},{\"id\":\"101681\"}]},\"id\":\"101683\",\"type\":\"Toolbar\"},{\"attributes\":{\"data\":{\"x\":[0,10,20,30,40,50,60,70,80,90,100,110,120,130,140,150,160,170,180,190,200,210,220,230,240,250,260,270,280,290,300,310,320,330,340,350,360,370,380,390,400,410,420,430,440,450,460,470,480,490,500,510,520,530,540,550,560,570,580,590,600,610,620,630,640,650,660,670,680,690,700,710,720,730,740,750,760,770,780,790,800,810,820,830,840,850,860,870,880,890,900,910,920,930,940,950,960,970,980,990,1000,1010,1020,1030,1040,1050,1060,1070,1080,1090,1100,1110,1120,1130,1140,1150,1160,1170,1180,1190,1200,1210,1220,1230,1240,1250,1260,1270,1280,1290,1300,1310,1320,1330,1340,1350,1360,1370,1380,1390,1400,1410,1420,1430,1440,1450,1460,1470,1480,1490,1500,1510,1520,1530,1540,1550,1560,1570,1580,1590,1600,1610,1620,1630,1640,1650,1660,1670,1680,1690,1700,1710,1720,1730,1740,1750,1760,1770,1780,1790,1800,1810,1820,1830,1840,1850,1860,1870,1880,1890,1900,1910,1920,1930,1940,1950,1960,1970,1980,1990,2000,2010,2020,2030,2040,2050,2060,2070,2080,2090,2100,2110,2120,2130,2140,2150,2160,2170,2180,2190,2200,2210,2220,2230,2240,2250,2260,2270,2280,2290,2300,2310,2320,2330,2340,2350,2360,2370,2380,2390,2400,2410,2420,2430,2440,2450,2460,2470,2480,2490,2500,2510,2520,2530,2540,2550,2560,2570,2580,2590,2600,2610,2620,2630,2640,2650,2660,2670,2680,2690,2700,2710,2720,2730,2740,2750,2760,2770,2780,2790,2800,2810,2820,2830,2840,2850,2860,2870,2880,2890,2900,2910,2920,2930,2940,2950,2960,2970,2980,2990,3000,3010,3020,3030,3040,3050,3060,3070,3080,3090,3100,3110,3120,3130,3140,3150,3160,3170,3180,3190,3200,3210,3220,3230,3240,3250,3260,3270,3280,3290,3300,3310,3320,3330,3340,3350,3360,3370,3380,3390,3400,3410,3420,3430,3440,3450,3460,3470,3480,3490,3500,3510,3520,3530,3540,3550,3560,3570,3580,3590,3600,3610,3620,3630,3640,3650,3660,3670,3680,3690,3700,3710,3720,3730,3740,3750,3760,3770,3780,3790,3800,3810,3820,3830,3840,3850,3860,3870,3880,3890,3900,3910,3920,3930,3940,3950],\"y\":[135,134,136,137,138,139,140,141,141,143,140,143,144,144,145,147,146,146,146,147,146,146,146,146,146,145,147,147,148,150,151,151,150,151,153,154,153,154,152,152,151,151,150,150,150,150,152,152,152,150,151,152,153,152,152,153,154,155,155,154,153,152,155,156,155,156,156,156,155,154,154,154,153,153,152,152,152,152,151,152,153,153,153,154,157,157,157,156,156,159,159,160,160,158,156,156,156,157,157,155,155,155,156,156,156,157,156,156,156,154,155,154,155,154,154,154,154,155,154,155,155,155,156,157,156,155,158,160,158,159,158,159,158,155,154,155,155,155,155,156,157,156,157,157,157,158,155,156,156,153,154,155,156,158,162,164,164,163,164,163,162,161,161,161,161,160,158,157,157,158,158,157,156,156,158,159,160,160,160,160,159,160,160,160,160,159,164,167,166,166,166,167,167,166,165,166,164,164,163,162,163,161,162,163,162,162,164,163,162,163,161,160,161,163,166,166,165,166,165,168,169,169,168,167,167,166,165,164,165,164,165,164,164,164,164,166,164,163,162,163,163,164,165,165,164,166,166,166,166,165,166,166,165,166,166,164,164,164,166,165,164,164,165,165,164,162,163,161,162,164,165,166,165,166,167,167,167,168,167,165,167,170,170,169,170,170,168,167,166,165,164,163,162,163,162,161,161,163,164,163,164,164,164,164,164,165,165,165,165,166,166,169,169,169,171,170,168,167,167,166,166,166,167,167,166,166,166,167,167,167,168,168,168,169,170,171,171,172,171,171,170,171,173,173,173,173,172,172,171,170,169,169,169,169,170,170,170,170,169,169,169,169,170,170,172,173,173,170,167,166,167,167,167,166,164,161,157,154,152,147,144,141,140,135,132,132,131,130,126,125,126,124,122,120,117,117]},\"selected\":{\"id\":\"103286\"},\"selection_policy\":{\"id\":\"103285\"}},\"id\":\"101653\",\"type\":\"ColumnDataSource\"},{\"attributes\":{},\"id\":\"101681\",\"type\":\"HelpTool\"},{\"attributes\":{\"overlay\":{\"id\":\"101682\"}},\"id\":\"101678\",\"type\":\"BoxZoomTool\"},{\"attributes\":{},\"id\":\"101669\",\"type\":\"BasicTicker\"},{\"attributes\":{\"below\":[{\"id\":\"101631\"}],\"center\":[{\"id\":\"101634\"},{\"id\":\"101638\"}],\"left\":[{\"id\":\"101635\"}],\"plot_height\":400,\"plot_width\":800,\"renderers\":[{\"id\":\"101656\"}],\"title\":{\"id\":\"101621\"},\"toolbar\":{\"id\":\"101646\"},\"x_range\":{\"id\":\"101623\"},\"x_scale\":{\"id\":\"101627\"},\"y_range\":{\"id\":\"101625\"},\"y_scale\":{\"id\":\"101629\"}},\"id\":\"101620\",\"subtype\":\"Figure\",\"type\":\"Plot\"},{\"attributes\":{},\"id\":\"101679\",\"type\":\"SaveTool\"},{\"attributes\":{},\"id\":\"101627\",\"type\":\"LinearScale\"},{\"attributes\":{},\"id\":\"101680\",\"type\":\"ResetTool\"},{\"attributes\":{},\"id\":\"103285\",\"type\":\"UnionRenderers\"},{\"attributes\":{\"end\":180,\"start\":130},\"id\":\"101625\",\"type\":\"Range1d\"},{\"attributes\":{\"data_source\":{\"id\":\"101690\"},\"glyph\":{\"id\":\"101691\"},\"hover_glyph\":null,\"muted_glyph\":null,\"nonselection_glyph\":{\"id\":\"101692\"},\"selection_glyph\":null,\"view\":{\"id\":\"101694\"}},\"id\":\"101693\",\"type\":\"GlyphRenderer\"},{\"attributes\":{\"bottom_units\":\"screen\",\"fill_alpha\":0.5,\"fill_color\":\"lightgrey\",\"left_units\":\"screen\",\"level\":\"overlay\",\"line_alpha\":1.0,\"line_color\":\"black\",\"line_dash\":[4,4],\"line_width\":2,\"right_units\":\"screen\",\"top_units\":\"screen\"},\"id\":\"101645\",\"type\":\"BoxAnnotation\"},{\"attributes\":{},\"id\":\"103286\",\"type\":\"Selection\"},{\"attributes\":{\"below\":[{\"id\":\"101668\"}],\"center\":[{\"id\":\"101671\"},{\"id\":\"101675\"}],\"left\":[{\"id\":\"101672\"}],\"plot_height\":400,\"plot_width\":800,\"renderers\":[{\"id\":\"101693\"}],\"title\":{\"id\":\"101659\"},\"toolbar\":{\"id\":\"101683\"},\"x_range\":{\"id\":\"101623\"},\"x_scale\":{\"id\":\"101664\"},\"y_range\":{\"id\":\"101662\"},\"y_scale\":{\"id\":\"101666\"}},\"id\":\"101658\",\"subtype\":\"Figure\",\"type\":\"Plot\"},{\"attributes\":{},\"id\":\"103280\",\"type\":\"BasicTickFormatter\"},{\"attributes\":{\"data\":{\"x\":[0,10,20,30,40,50,60,70,80,90,100,110,120,130,140,150,160,170,180,190,200,210,220,230,240,250,260,270,280,290,300,310,320,330,340,350,360,370,380,390,400,410,420,430,440,450,460,470,480,490,500,510,520,530,540,550,560,570,580,590,600,610,620,630,640,650,660,670,680,690,700,710,720,730,740,750,760,770,780,790,800,810,820,830,840,850,860,870,880,890,900,910,920,930,940,950,960,970,980,990,1000,1010,1020,1030,1040,1050,1060,1070,1080,1090,1100,1110,1120,1130,1140,1150,1160,1170,1180,1190,1200,1210,1220,1230,1240,1250,1260,1270,1280,1290,1300,1310,1320,1330,1340,1350,1360,1370,1380,1390,1400,1410,1420,1430,1440,1450,1460,1470,1480,1490,1500,1510,1520,1530,1540,1550,1560,1570,1580,1590,1600,1610,1620,1630,1640,1650,1660,1670,1680,1690,1700,1710,1720,1730,1740,1750,1760,1770,1780,1790,1800,1810,1820,1830,1840,1850,1860,1870,1880,1890,1900,1910,1920,1930,1940,1950,1960,1970,1980,1990,2000,2010,2020,2030,2040,2050,2060,2070,2080,2090,2100,2110,2120,2130,2140,2150,2160,2170,2180,2190,2200,2210,2220,2230,2240,2250,2260,2270,2280,2290,2300,2310,2320,2330,2340,2350,2360,2370,2380,2390,2400,2410,2420,2430,2440,2450,2460,2470,2480,2490,2500,2510,2520,2530,2540,2550,2560,2570,2580,2590,2600,2610,2620,2630,2640,2650,2660,2670,2680,2690,2700,2710,2720,2730,2740,2750,2760,2770,2780,2790,2800,2810,2820,2830,2840,2850,2860,2870,2880,2890,2900,2910,2920,2930,2940,2950,2960,2970,2980,2990,3000,3010,3020,3030,3040,3050,3060,3070,3080,3090,3100,3110,3120,3130,3140,3150,3160,3170,3180,3190,3200,3210,3220,3230,3240,3250,3260,3270,3280,3290,3300,3310,3320,3330,3340,3350,3360,3370,3380,3390,3400,3410,3420,3430,3440,3450,3460,3470,3480,3490,3500,3510,3520,3530,3540,3550,3560,3570,3580,3590,3600,3610,3620,3630,3640,3650,3660,3670,3680,3690,3700,3710,3720,3730,3740,3750,3760,3770,3780,3790,3800,3810,3820,3830,3840,3850,3860,3870,3880,3890,3900,3910,3920,3930,3940,3950],\"y\":[104,103,104,104,102,92,94,95,91,94,91,91,92,88,89,90,90,90,89,90,91,90,89,89,90,89,92,91,90,92,91,90,92,87,86,85,84,89,90,89,90,89,91,89,88,91,90,89,87,89,89,89,88,88,88,89,86,87,85,88,87,90,91,88,87,88,87,87,87,89,88,89,90,87,89,88,88,87,87,88,86,87,86,83,86,86,84,84,88,87,88,87,87,87,86,89,89,84,86,83,86,85,83,86,86,84,83,87,83,83,85,86,85,87,86,81,87,84,83,84,84,87,82,84,84,82,82,87,85,87,86,86,85,84,91,86,88,87,87,89,87,89,88,87,84,85,90,87,88,85,90,87,89,87,84,84,82,81,82,85,85,83,82,87,88,86,88,88,88,87,87,85,88,86,88,92,90,90,89,90,90,92,86,86,85,83,83,80,85,89,89,87,87,91,90,92,93,90,89,93,91,92,92,92,94,92,87,89,90,89,94,93,90,81,83,90,87,87,85,83,91,86,85,91,90,90,92,89,90,90,88,93,85,85,85,88,87,87,89,88,88,87,86,84,85,86,86,87,88,86,87,87,86,87,85,86,88,80,85,85,85,91,90,92,90,89,88,90,87,90,88,87,89,89,88,85,84,86,86,82,77,70,82,84,82,85,87,86,85,87,86,91,92,89,90,92,90,90,90,88,89,90,89,87,86,88,87,87,85,80,78,80,82,85,87,88,87,89,90,90,91,92,93,92,90,89,90,91,89,90,91,93,90,90,89,89,87,91,88,85,89,84,80,87,88,91,88,90,88,92,92,92,90,87,87,87,87,87,92,89,87,85,83,80,95,94,94,92,98,93,93,95,99,49,47,45,48,49,53,52,49,56,57,56,53,54,80,65,62,49,62,58,39,33,32,0]},\"selected\":{\"id\":\"103289\"},\"selection_policy\":{\"id\":\"103288\"}},\"id\":\"101690\",\"type\":\"ColumnDataSource\"},{\"attributes\":{\"line_color\":\"green\",\"line_width\":2,\"x\":{\"field\":\"x\"},\"y\":{\"field\":\"y\"}},\"id\":\"101691\",\"type\":\"Line\"}],\"root_ids\":[\"101695\"]},\"title\":\"Bokeh Application\",\"version\":\"2.1.1\"}};\n",
       "  var render_items = [{\"docid\":\"7ae14b25-ef18-4243-a5a2-fc05e6c25f8e\",\"root_ids\":[\"101695\"],\"roots\":{\"101695\":\"65b0d2ca-244e-4393-8d14-e4f756e21942\"}}];\n",
       "  root.Bokeh.embed.embed_items_notebook(docs_json, render_items);\n",
       "\n",
       "  }\n",
       "  if (root.Bokeh !== undefined) {\n",
       "    embed_document(root);\n",
       "  } else {\n",
       "    var attempts = 0;\n",
       "    var timer = setInterval(function(root) {\n",
       "      if (root.Bokeh !== undefined) {\n",
       "        clearInterval(timer);\n",
       "        embed_document(root);\n",
       "      } else {\n",
       "        attempts++;\n",
       "        if (attempts > 100) {\n",
       "          clearInterval(timer);\n",
       "          console.log(\"Bokeh: ERROR: Unable to run BokehJS code because BokehJS library is missing\");\n",
       "        }\n",
       "      }\n",
       "    }, 10, root)\n",
       "  }\n",
       "})(window);"
      ],
      "application/vnd.bokehjs_exec.v0+json": ""
     },
     "metadata": {
      "application/vnd.bokehjs_exec.v0+json": {
       "id": "101695"
      }
     },
     "output_type": "display_data"
    }
   ],
   "source": [
    "# output was set earlier, so we don't have to set it again.\n",
    "\n",
    "p1 = bp.figure(plot_width=800, \n",
    "               plot_height=400, \n",
    "               title='HR over Time',  \n",
    "               x_axis_label='Seconds', \n",
    "               y_axis_label='Heart Rate',\n",
    "               y_range=[130,180])\n",
    "\n",
    "p1.line(df.time[::10], df.hr[::10], line_width=2, color='orange')\n",
    "\n",
    "p2 = bp.figure(plot_width=800, \n",
    "               plot_height=400, \n",
    "               title='Cadence over Time',  \n",
    "               x_axis_label='Seconds', \n",
    "               y_axis_label='Cadence', \n",
    "               x_range=p1.x_range, \n",
    "               y_range=[60,120])\n",
    "\n",
    "p2.line(df.time[::10], df.cad[::10], line_width=2, color='green')\n",
    "\n",
    "bp.show(bl.column(p1,p2))"
   ]
  },
  {
   "cell_type": "code",
   "execution_count": 211,
   "metadata": {},
   "outputs": [
    {
     "data": {
      "text/html": [
       "\n",
       "\n",
       "\n",
       "\n",
       "\n",
       "\n",
       "  <div class=\"bk-root\" id=\"20c40e68-586c-4971-9db4-66e4a47f2b0c\" data-root-id=\"111798\"></div>\n"
      ]
     },
     "metadata": {},
     "output_type": "display_data"
    },
    {
     "data": {
      "application/javascript": [
       "(function(root) {\n",
       "  function embed_document(root) {\n",
       "    \n",
       "  var docs_json = {\"eec00006-e7de-419b-9b3d-39f2ad444822\":{\"roots\":{\"references\":[{\"attributes\":{\"children\":[{\"id\":\"111797\"},{\"id\":\"111795\"}]},\"id\":\"111798\",\"type\":\"Column\"},{\"attributes\":{\"line_alpha\":0.1,\"line_color\":\"blue\",\"x\":{\"field\":\"x\"},\"y\":{\"field\":\"y\"}},\"id\":\"111756\",\"type\":\"Line\"},{\"attributes\":{},\"id\":\"111671\",\"type\":\"HelpTool\"},{\"attributes\":{\"source\":{\"id\":\"111754\"}},\"id\":\"111758\",\"type\":\"CDSView\"},{\"attributes\":{},\"id\":\"111669\",\"type\":\"SaveTool\"},{\"attributes\":{\"line_color\":\"green\",\"x\":{\"field\":\"x\"},\"y\":{\"field\":\"y\"}},\"id\":\"111681\",\"type\":\"Line\"},{\"attributes\":{},\"id\":\"111670\",\"type\":\"ResetTool\"},{\"attributes\":{\"active_drag\":\"auto\",\"active_inspect\":\"auto\",\"active_multi\":null,\"active_scroll\":\"auto\",\"active_tap\":\"auto\",\"tools\":[{\"id\":\"111740\"},{\"id\":\"111741\"},{\"id\":\"111742\"},{\"id\":\"111743\"},{\"id\":\"111744\"},{\"id\":\"111745\"}]},\"id\":\"111747\",\"type\":\"Toolbar\"},{\"attributes\":{\"bottom_units\":\"screen\",\"fill_alpha\":0.5,\"fill_color\":\"lightgrey\",\"left_units\":\"screen\",\"level\":\"overlay\",\"line_alpha\":1.0,\"line_color\":\"black\",\"line_dash\":[4,4],\"line_width\":2,\"right_units\":\"screen\",\"top_units\":\"screen\"},\"id\":\"111709\",\"type\":\"BoxAnnotation\"},{\"attributes\":{},\"id\":\"111743\",\"type\":\"SaveTool\"},{\"attributes\":{},\"id\":\"111740\",\"type\":\"PanTool\"},{\"attributes\":{},\"id\":\"111745\",\"type\":\"HelpTool\"},{\"attributes\":{},\"id\":\"111744\",\"type\":\"ResetTool\"},{\"attributes\":{\"overlay\":{\"id\":\"111746\"}},\"id\":\"111742\",\"type\":\"BoxZoomTool\"},{\"attributes\":{\"toolbars\":[{\"id\":\"111636\"},{\"id\":\"111673\"},{\"id\":\"111710\"},{\"id\":\"111747\"}],\"tools\":[{\"id\":\"111629\"},{\"id\":\"111630\"},{\"id\":\"111631\"},{\"id\":\"111632\"},{\"id\":\"111633\"},{\"id\":\"111634\"},{\"id\":\"111666\"},{\"id\":\"111667\"},{\"id\":\"111668\"},{\"id\":\"111669\"},{\"id\":\"111670\"},{\"id\":\"111671\"},{\"id\":\"111703\"},{\"id\":\"111704\"},{\"id\":\"111705\"},{\"id\":\"111706\"},{\"id\":\"111707\"},{\"id\":\"111708\"},{\"id\":\"111740\"},{\"id\":\"111741\"},{\"id\":\"111742\"},{\"id\":\"111743\"},{\"id\":\"111744\"},{\"id\":\"111745\"}]},\"id\":\"111796\",\"type\":\"ProxyToolbar\"},{\"attributes\":{\"axis\":{\"id\":\"111736\"},\"dimension\":1,\"ticker\":null},\"id\":\"111739\",\"type\":\"Grid\"},{\"attributes\":{},\"id\":\"111741\",\"type\":\"WheelZoomTool\"},{\"attributes\":{},\"id\":\"111761\",\"type\":\"BasicTickFormatter\"},{\"attributes\":{},\"id\":\"111779\",\"type\":\"BasicTickFormatter\"},{\"attributes\":{\"bottom_units\":\"screen\",\"fill_alpha\":0.5,\"fill_color\":\"lightgrey\",\"left_units\":\"screen\",\"level\":\"overlay\",\"line_alpha\":1.0,\"line_color\":\"black\",\"line_dash\":[4,4],\"line_width\":2,\"right_units\":\"screen\",\"top_units\":\"screen\"},\"id\":\"111672\",\"type\":\"BoxAnnotation\"},{\"attributes\":{},\"id\":\"111737\",\"type\":\"BasicTicker\"},{\"attributes\":{},\"id\":\"111763\",\"type\":\"BasicTickFormatter\"},{\"attributes\":{\"data\":{\"x\":[0,10,20,30,40,50,60,70,80,90,100,110,120,130,140,150,160,170,180,190,200,210,220,230,240,250,260,270,280,290,300,310,320,330,340,350,360,370,380,390,400,410,420,430,440,450,460,470,480,490,500,510,520,530,540,550,560,570,580,590,600,610,620,630,640,650,660,670,680,690,700,710,720,730,740,750,760,770,780,790,800,810,820,830,840,850,860,870,880,890,900,910,920,930,940,950,960,970,980,990,1000,1010,1020,1030,1040,1050,1060,1070,1080,1090,1100,1110,1120,1130,1140,1150,1160,1170,1180,1190,1200,1210,1220,1230,1240,1250,1260,1270,1280,1290,1300,1310,1320,1330,1340,1350,1360,1370,1380,1390,1400,1410,1420,1430,1440,1450,1460,1470,1480,1490,1500,1510,1520,1530,1540,1550,1560,1570,1580,1590,1600,1610,1620,1630,1640,1650,1660,1670,1680,1690,1700,1710,1720,1730,1740,1750,1760,1770,1780,1790,1800,1810,1820,1830,1840,1850,1860,1870,1880,1890,1900,1910,1920,1930,1940,1950,1960,1970,1980,1990,2000,2010,2020,2030,2040,2050,2060,2070,2080,2090,2100,2110,2120,2130,2140,2150,2160,2170,2180,2190,2200,2210,2220,2230,2240,2250,2260,2270,2280,2290,2300,2310,2320,2330,2340,2350,2360,2370,2380,2390,2400,2410,2420,2430,2440,2450,2460,2470,2480,2490,2500,2510,2520,2530,2540,2550,2560,2570,2580,2590,2600,2610,2620,2630,2640,2650,2660,2670,2680,2690,2700,2710,2720,2730,2740,2750,2760,2770,2780,2790,2800,2810,2820,2830,2840,2850,2860,2870,2880,2890,2900,2910,2920,2930,2940,2950,2960,2970,2980,2990,3000,3010,3020,3030,3040,3050,3060,3070,3080,3090,3100,3110,3120,3130,3140,3150,3160,3170,3180,3190,3200,3210,3220,3230,3240,3250,3260,3270,3280,3290,3300,3310,3320,3330,3340,3350,3360,3370,3380,3390,3400,3410,3420,3430,3440,3450,3460,3470,3480,3490,3500,3510,3520,3530,3540,3550,3560,3570,3580,3590,3600,3610,3620,3630,3640,3650,3660,3670,3680,3690,3700,3710,3720,3730,3740,3750,3760,3770,3780,3790,3800,3810,3820,3830,3840,3850,3860,3870,3880,3890,3900,3910,3920,3930,3940,3950],\"y\":[246,265,274,263,260,240,234,238,241,262,229,228,240,203,218,218,233,222,225,226,219,217,214,209,203,201,221,210,220,223,206,212,254,271,215,206,215,199,201,202,209,224,221,207,222,228,210,220,210,217,225,218,209,214,213,209,225,204,197,208,211,182,239,213,221,219,216,210,209,196,196,190,204,194,215,209,202,207,199,208,202,198,210,197,194,212,200,212,285,204,211,175,204,213,194,223,220,216,213,205,229,211,202,214,189,207,195,216,211,199,199,212,209,214,217,185,202,201,188,201,192,222,188,182,209,149,171,180,189,196,190,191,197,188,206,201,214,210,215,193,197,211,208,187,197,207,230,198,209,205,200,207,198,249,238,216,199,198,214,203,192,191,180,205,211,205,208,212,214,158,206,207,206,210,223,203,222,216,209,223,220,228,199,210,192,230,225,200,200,211,200,204,210,200,196,208,194,201,205,195,198,196,195,192,204,217,183,208,219,203,212,210,220,209,195,188,207,208,241,201,190,182,212,188,190,195,202,217,209,223,206,233,207,196,198,203,204,204,212,203,210,203,213,190,194,191,197,203,201,197,213,196,204,167,199,192,203,186,196,194,209,197,196,210,191,199,214,212,199,219,212,210,209,208,201,156,208,192,197,235,211,196,193,192,191,198,202,202,193,204,201,201,192,194,188,184,204,213,205,205,197,191,213,203,205,208,198,198,192,145,196,197,180,183,208,211,199,197,204,206,196,202,210,206,219,217,225,210,205,209,213,211,196,201,192,210,200,218,208,202,225,252,181,207,204,205,202,203,203,192,198,220,225,215,209,213,198,184,205,191,182,208,189,172,187,181,191,177,200,202,199,217,235,60,67,63,75,73,81,81,70,55,56,52,45,54,56,28,32,38,37,28,11,13,12,0]},\"selected\":{\"id\":\"111783\"},\"selection_policy\":{\"id\":\"111782\"}},\"id\":\"111717\",\"type\":\"ColumnDataSource\"},{\"attributes\":{\"line_color\":\"blue\",\"x\":{\"field\":\"x\"},\"y\":{\"field\":\"y\"}},\"id\":\"111718\",\"type\":\"Line\"},{\"attributes\":{\"axis_label\":\"Seconds\",\"formatter\":{\"id\":\"111781\"},\"ticker\":{\"id\":\"111696\"}},\"id\":\"111695\",\"type\":\"LinearAxis\"},{\"attributes\":{\"text\":\"Elevation over Time\"},\"id\":\"111723\",\"type\":\"Title\"},{\"attributes\":{\"active_drag\":\"auto\",\"active_inspect\":\"auto\",\"active_multi\":null,\"active_scroll\":\"auto\",\"active_tap\":\"auto\",\"tools\":[{\"id\":\"111666\"},{\"id\":\"111667\"},{\"id\":\"111668\"},{\"id\":\"111669\"},{\"id\":\"111670\"},{\"id\":\"111671\"}]},\"id\":\"111673\",\"type\":\"Toolbar\"},{\"attributes\":{\"line_alpha\":0.1,\"line_color\":\"green\",\"x\":{\"field\":\"x\"},\"y\":{\"field\":\"y\"}},\"id\":\"111682\",\"type\":\"Line\"},{\"attributes\":{},\"id\":\"111764\",\"type\":\"UnionRenderers\"},{\"attributes\":{\"text\":\"Power over Time\"},\"id\":\"111686\",\"type\":\"Title\"},{\"attributes\":{},\"id\":\"111765\",\"type\":\"Selection\"},{\"attributes\":{\"bottom_units\":\"screen\",\"fill_alpha\":0.5,\"fill_color\":\"lightgrey\",\"left_units\":\"screen\",\"level\":\"overlay\",\"line_alpha\":1.0,\"line_color\":\"black\",\"line_dash\":[4,4],\"line_width\":2,\"right_units\":\"screen\",\"top_units\":\"screen\"},\"id\":\"111746\",\"type\":\"BoxAnnotation\"},{\"attributes\":{\"data\":{\"x\":[0,10,20,30,40,50,60,70,80,90,100,110,120,130,140,150,160,170,180,190,200,210,220,230,240,250,260,270,280,290,300,310,320,330,340,350,360,370,380,390,400,410,420,430,440,450,460,470,480,490,500,510,520,530,540,550,560,570,580,590,600,610,620,630,640,650,660,670,680,690,700,710,720,730,740,750,760,770,780,790,800,810,820,830,840,850,860,870,880,890,900,910,920,930,940,950,960,970,980,990,1000,1010,1020,1030,1040,1050,1060,1070,1080,1090,1100,1110,1120,1130,1140,1150,1160,1170,1180,1190,1200,1210,1220,1230,1240,1250,1260,1270,1280,1290,1300,1310,1320,1330,1340,1350,1360,1370,1380,1390,1400,1410,1420,1430,1440,1450,1460,1470,1480,1490,1500,1510,1520,1530,1540,1550,1560,1570,1580,1590,1600,1610,1620,1630,1640,1650,1660,1670,1680,1690,1700,1710,1720,1730,1740,1750,1760,1770,1780,1790,1800,1810,1820,1830,1840,1850,1860,1870,1880,1890,1900,1910,1920,1930,1940,1950,1960,1970,1980,1990,2000,2010,2020,2030,2040,2050,2060,2070,2080,2090,2100,2110,2120,2130,2140,2150,2160,2170,2180,2190,2200,2210,2220,2230,2240,2250,2260,2270,2280,2290,2300,2310,2320,2330,2340,2350,2360,2370,2380,2390,2400,2410,2420,2430,2440,2450,2460,2470,2480,2490,2500,2510,2520,2530,2540,2550,2560,2570,2580,2590,2600,2610,2620,2630,2640,2650,2660,2670,2680,2690,2700,2710,2720,2730,2740,2750,2760,2770,2780,2790,2800,2810,2820,2830,2840,2850,2860,2870,2880,2890,2900,2910,2920,2930,2940,2950,2960,2970,2980,2990,3000,3010,3020,3030,3040,3050,3060,3070,3080,3090,3100,3110,3120,3130,3140,3150,3160,3170,3180,3190,3200,3210,3220,3230,3240,3250,3260,3270,3280,3290,3300,3310,3320,3330,3340,3350,3360,3370,3380,3390,3400,3410,3420,3430,3440,3450,3460,3470,3480,3490,3500,3510,3520,3530,3540,3550,3560,3570,3580,3590,3600,3610,3620,3630,3640,3650,3660,3670,3680,3690,3700,3710,3720,3730,3740,3750,3760,3770,3780,3790,3800,3810,3820,3830,3840,3850,3860,3870,3880,3890,3900,3910,3920,3930,3940,3950],\"y\":[104,103,104,104,102,92,94,95,91,94,91,91,92,88,89,90,90,90,89,90,91,90,89,89,90,89,92,91,90,92,91,90,92,87,86,85,84,89,90,89,90,89,91,89,88,91,90,89,87,89,89,89,88,88,88,89,86,87,85,88,87,90,91,88,87,88,87,87,87,89,88,89,90,87,89,88,88,87,87,88,86,87,86,83,86,86,84,84,88,87,88,87,87,87,86,89,89,84,86,83,86,85,83,86,86,84,83,87,83,83,85,86,85,87,86,81,87,84,83,84,84,87,82,84,84,82,82,87,85,87,86,86,85,84,91,86,88,87,87,89,87,89,88,87,84,85,90,87,88,85,90,87,89,87,84,84,82,81,82,85,85,83,82,87,88,86,88,88,88,87,87,85,88,86,88,92,90,90,89,90,90,92,86,86,85,83,83,80,85,89,89,87,87,91,90,92,93,90,89,93,91,92,92,92,94,92,87,89,90,89,94,93,90,81,83,90,87,87,85,83,91,86,85,91,90,90,92,89,90,90,88,93,85,85,85,88,87,87,89,88,88,87,86,84,85,86,86,87,88,86,87,87,86,87,85,86,88,80,85,85,85,91,90,92,90,89,88,90,87,90,88,87,89,89,88,85,84,86,86,82,77,70,82,84,82,85,87,86,85,87,86,91,92,89,90,92,90,90,90,88,89,90,89,87,86,88,87,87,85,80,78,80,82,85,87,88,87,89,90,90,91,92,93,92,90,89,90,91,89,90,91,93,90,90,89,89,87,91,88,85,89,84,80,87,88,91,88,90,88,92,92,92,90,87,87,87,87,87,92,89,87,85,83,80,95,94,94,92,98,93,93,95,99,49,47,45,48,49,53,52,49,56,57,56,53,54,80,65,62,49,62,58,39,33,32,0]},\"selected\":{\"id\":\"111774\"},\"selection_policy\":{\"id\":\"111773\"}},\"id\":\"111680\",\"type\":\"ColumnDataSource\"},{\"attributes\":{\"line_color\":\"blue\",\"x\":{\"field\":\"x\"},\"y\":{\"field\":\"y\"}},\"id\":\"111755\",\"type\":\"Line\"},{\"attributes\":{\"end\":300,\"start\":50},\"id\":\"111689\",\"type\":\"Range1d\"},{\"attributes\":{\"children\":[[{\"id\":\"111610\"},0,0],[{\"id\":\"111648\"},0,1],[{\"id\":\"111685\"},1,0],[{\"id\":\"111722\"},1,1]]},\"id\":\"111795\",\"type\":\"GridBox\"},{\"attributes\":{},\"id\":\"111700\",\"type\":\"BasicTicker\"},{\"attributes\":{},\"id\":\"111691\",\"type\":\"LinearScale\"},{\"attributes\":{},\"id\":\"111696\",\"type\":\"BasicTicker\"},{\"attributes\":{\"axis\":{\"id\":\"111695\"},\"ticker\":null},\"id\":\"111698\",\"type\":\"Grid\"},{\"attributes\":{\"data_source\":{\"id\":\"111680\"},\"glyph\":{\"id\":\"111681\"},\"hover_glyph\":null,\"muted_glyph\":null,\"nonselection_glyph\":{\"id\":\"111682\"},\"selection_glyph\":null,\"view\":{\"id\":\"111684\"}},\"id\":\"111683\",\"type\":\"GlyphRenderer\"},{\"attributes\":{\"axis_label\":\"Power\",\"formatter\":{\"id\":\"111779\"},\"ticker\":{\"id\":\"111700\"}},\"id\":\"111699\",\"type\":\"LinearAxis\"},{\"attributes\":{},\"id\":\"111693\",\"type\":\"LinearScale\"},{\"attributes\":{\"axis\":{\"id\":\"111699\"},\"dimension\":1,\"ticker\":null},\"id\":\"111702\",\"type\":\"Grid\"},{\"attributes\":{},\"id\":\"111704\",\"type\":\"WheelZoomTool\"},{\"attributes\":{\"toolbar\":{\"id\":\"111796\"},\"toolbar_location\":\"above\"},\"id\":\"111797\",\"type\":\"ToolbarBox\"},{\"attributes\":{},\"id\":\"111703\",\"type\":\"PanTool\"},{\"attributes\":{\"active_drag\":\"auto\",\"active_inspect\":\"auto\",\"active_multi\":null,\"active_scroll\":\"auto\",\"active_tap\":\"auto\",\"tools\":[{\"id\":\"111703\"},{\"id\":\"111704\"},{\"id\":\"111705\"},{\"id\":\"111706\"},{\"id\":\"111707\"},{\"id\":\"111708\"}]},\"id\":\"111710\",\"type\":\"Toolbar\"},{\"attributes\":{},\"id\":\"111708\",\"type\":\"HelpTool\"},{\"attributes\":{\"overlay\":{\"id\":\"111709\"}},\"id\":\"111705\",\"type\":\"BoxZoomTool\"},{\"attributes\":{\"source\":{\"id\":\"111717\"}},\"id\":\"111721\",\"type\":\"CDSView\"},{\"attributes\":{},\"id\":\"111706\",\"type\":\"SaveTool\"},{\"attributes\":{},\"id\":\"111707\",\"type\":\"ResetTool\"},{\"attributes\":{},\"id\":\"111770\",\"type\":\"BasicTickFormatter\"},{\"attributes\":{},\"id\":\"111730\",\"type\":\"LinearScale\"},{\"attributes\":{\"data_source\":{\"id\":\"111754\"},\"glyph\":{\"id\":\"111755\"},\"hover_glyph\":null,\"muted_glyph\":null,\"nonselection_glyph\":{\"id\":\"111756\"},\"selection_glyph\":null,\"view\":{\"id\":\"111758\"}},\"id\":\"111757\",\"type\":\"GlyphRenderer\"},{\"attributes\":{\"axis\":{\"id\":\"111732\"},\"ticker\":null},\"id\":\"111735\",\"type\":\"Grid\"},{\"attributes\":{\"axis_label\":\"Seconds\",\"formatter\":{\"id\":\"111790\"},\"ticker\":{\"id\":\"111733\"}},\"id\":\"111732\",\"type\":\"LinearAxis\"},{\"attributes\":{},\"id\":\"111728\",\"type\":\"LinearScale\"},{\"attributes\":{\"end\":20,\"start\":-6},\"id\":\"111726\",\"type\":\"Range1d\"},{\"attributes\":{},\"id\":\"111733\",\"type\":\"BasicTicker\"},{\"attributes\":{\"axis_label\":\"Elevation\",\"formatter\":{\"id\":\"111788\"},\"ticker\":{\"id\":\"111737\"}},\"id\":\"111736\",\"type\":\"LinearAxis\"},{\"attributes\":{\"data\":{\"x\":[0,10,20,30,40,50,60,70,80,90,100,110,120,130,140,150,160,170,180,190,200,210,220,230,240,250,260,270,280,290,300,310,320,330,340,350,360,370,380,390,400,410,420,430,440,450,460,470,480,490,500,510,520,530,540,550,560,570,580,590,600,610,620,630,640,650,660,670,680,690,700,710,720,730,740,750,760,770,780,790,800,810,820,830,840,850,860,870,880,890,900,910,920,930,940,950,960,970,980,990,1000,1010,1020,1030,1040,1050,1060,1070,1080,1090,1100,1110,1120,1130,1140,1150,1160,1170,1180,1190,1200,1210,1220,1230,1240,1250,1260,1270,1280,1290,1300,1310,1320,1330,1340,1350,1360,1370,1380,1390,1400,1410,1420,1430,1440,1450,1460,1470,1480,1490,1500,1510,1520,1530,1540,1550,1560,1570,1580,1590,1600,1610,1620,1630,1640,1650,1660,1670,1680,1690,1700,1710,1720,1730,1740,1750,1760,1770,1780,1790,1800,1810,1820,1830,1840,1850,1860,1870,1880,1890,1900,1910,1920,1930,1940,1950,1960,1970,1980,1990,2000,2010,2020,2030,2040,2050,2060,2070,2080,2090,2100,2110,2120,2130,2140,2150,2160,2170,2180,2190,2200,2210,2220,2230,2240,2250,2260,2270,2280,2290,2300,2310,2320,2330,2340,2350,2360,2370,2380,2390,2400,2410,2420,2430,2440,2450,2460,2470,2480,2490,2500,2510,2520,2530,2540,2550,2560,2570,2580,2590,2600,2610,2620,2630,2640,2650,2660,2670,2680,2690,2700,2710,2720,2730,2740,2750,2760,2770,2780,2790,2800,2810,2820,2830,2840,2850,2860,2870,2880,2890,2900,2910,2920,2930,2940,2950,2960,2970,2980,2990,3000,3010,3020,3030,3040,3050,3060,3070,3080,3090,3100,3110,3120,3130,3140,3150,3160,3170,3180,3190,3200,3210,3220,3230,3240,3250,3260,3270,3280,3290,3300,3310,3320,3330,3340,3350,3360,3370,3380,3390,3400,3410,3420,3430,3440,3450,3460,3470,3480,3490,3500,3510,3520,3530,3540,3550,3560,3570,3580,3590,3600,3610,3620,3630,3640,3650,3660,3670,3680,3690,3700,3710,3720,3730,3740,3750,3760,3770,3780,3790,3800,3810,3820,3830,3840,3850,3860,3870,3880,3890,3900,3910,3920,3930,3940,3950],\"y\":{\"__ndarray__\":\"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\",\"dtype\":\"float64\",\"order\":\"little\",\"shape\":[396]}},\"selected\":{\"id\":\"111792\"},\"selection_policy\":{\"id\":\"111791\"}},\"id\":\"111754\",\"type\":\"ColumnDataSource\"},{\"attributes\":{\"below\":[{\"id\":\"111658\"}],\"center\":[{\"id\":\"111661\"},{\"id\":\"111665\"}],\"left\":[{\"id\":\"111662\"}],\"plot_height\":400,\"plot_width\":400,\"renderers\":[{\"id\":\"111683\"}],\"title\":{\"id\":\"111649\"},\"toolbar\":{\"id\":\"111673\"},\"toolbar_location\":null,\"x_range\":{\"id\":\"111613\"},\"x_scale\":{\"id\":\"111654\"},\"y_range\":{\"id\":\"111652\"},\"y_scale\":{\"id\":\"111656\"}},\"id\":\"111648\",\"subtype\":\"Figure\",\"type\":\"Plot\"},{\"attributes\":{\"text\":\"HR over Time\"},\"id\":\"111611\",\"type\":\"Title\"},{\"attributes\":{\"below\":[{\"id\":\"111695\"}],\"center\":[{\"id\":\"111698\"},{\"id\":\"111702\"}],\"left\":[{\"id\":\"111699\"}],\"plot_height\":400,\"plot_width\":400,\"renderers\":[{\"id\":\"111720\"}],\"title\":{\"id\":\"111686\"},\"toolbar\":{\"id\":\"111710\"},\"toolbar_location\":null,\"x_range\":{\"id\":\"111613\"},\"x_scale\":{\"id\":\"111691\"},\"y_range\":{\"id\":\"111689\"},\"y_scale\":{\"id\":\"111693\"}},\"id\":\"111685\",\"subtype\":\"Figure\",\"type\":\"Plot\"},{\"attributes\":{},\"id\":\"111788\",\"type\":\"BasicTickFormatter\"},{\"attributes\":{\"axis_label\":\"Seconds\",\"formatter\":{\"id\":\"111763\"},\"ticker\":{\"id\":\"111622\"}},\"id\":\"111621\",\"type\":\"LinearAxis\"},{\"attributes\":{\"end\":180,\"start\":130},\"id\":\"111615\",\"type\":\"Range1d\"},{\"attributes\":{},\"id\":\"111613\",\"type\":\"DataRange1d\"},{\"attributes\":{},\"id\":\"111772\",\"type\":\"BasicTickFormatter\"},{\"attributes\":{},\"id\":\"111619\",\"type\":\"LinearScale\"},{\"attributes\":{\"data_source\":{\"id\":\"111717\"},\"glyph\":{\"id\":\"111718\"},\"hover_glyph\":null,\"muted_glyph\":null,\"nonselection_glyph\":{\"id\":\"111719\"},\"selection_glyph\":null,\"view\":{\"id\":\"111721\"}},\"id\":\"111720\",\"type\":\"GlyphRenderer\"},{\"attributes\":{},\"id\":\"111617\",\"type\":\"LinearScale\"},{\"attributes\":{},\"id\":\"111622\",\"type\":\"BasicTicker\"},{\"attributes\":{},\"id\":\"111626\",\"type\":\"BasicTicker\"},{\"attributes\":{\"axis\":{\"id\":\"111621\"},\"ticker\":null},\"id\":\"111624\",\"type\":\"Grid\"},{\"attributes\":{\"axis_label\":\"Heart Rate\",\"formatter\":{\"id\":\"111761\"},\"ticker\":{\"id\":\"111626\"}},\"id\":\"111625\",\"type\":\"LinearAxis\"},{\"attributes\":{\"axis\":{\"id\":\"111625\"},\"dimension\":1,\"ticker\":null},\"id\":\"111628\",\"type\":\"Grid\"},{\"attributes\":{},\"id\":\"111630\",\"type\":\"WheelZoomTool\"},{\"attributes\":{},\"id\":\"111790\",\"type\":\"BasicTickFormatter\"},{\"attributes\":{\"below\":[{\"id\":\"111621\"}],\"center\":[{\"id\":\"111624\"},{\"id\":\"111628\"}],\"left\":[{\"id\":\"111625\"}],\"plot_height\":400,\"plot_width\":400,\"renderers\":[{\"id\":\"111646\"}],\"title\":{\"id\":\"111611\"},\"toolbar\":{\"id\":\"111636\"},\"toolbar_location\":null,\"x_range\":{\"id\":\"111613\"},\"x_scale\":{\"id\":\"111617\"},\"y_range\":{\"id\":\"111615\"},\"y_scale\":{\"id\":\"111619\"}},\"id\":\"111610\",\"subtype\":\"Figure\",\"type\":\"Plot\"},{\"attributes\":{},\"id\":\"111773\",\"type\":\"UnionRenderers\"},{\"attributes\":{},\"id\":\"111629\",\"type\":\"PanTool\"},{\"attributes\":{},\"id\":\"111774\",\"type\":\"Selection\"},{\"attributes\":{},\"id\":\"111634\",\"type\":\"HelpTool\"},{\"attributes\":{\"overlay\":{\"id\":\"111635\"}},\"id\":\"111631\",\"type\":\"BoxZoomTool\"},{\"attributes\":{},\"id\":\"111632\",\"type\":\"SaveTool\"},{\"attributes\":{},\"id\":\"111633\",\"type\":\"ResetTool\"},{\"attributes\":{},\"id\":\"111659\",\"type\":\"BasicTicker\"},{\"attributes\":{},\"id\":\"111656\",\"type\":\"LinearScale\"},{\"attributes\":{\"axis_label\":\"Seconds\",\"formatter\":{\"id\":\"111772\"},\"ticker\":{\"id\":\"111659\"}},\"id\":\"111658\",\"type\":\"LinearAxis\"},{\"attributes\":{},\"id\":\"111654\",\"type\":\"LinearScale\"},{\"attributes\":{},\"id\":\"111663\",\"type\":\"BasicTicker\"},{\"attributes\":{},\"id\":\"111791\",\"type\":\"UnionRenderers\"},{\"attributes\":{\"axis_label\":\"Cadence\",\"formatter\":{\"id\":\"111770\"},\"ticker\":{\"id\":\"111663\"}},\"id\":\"111662\",\"type\":\"LinearAxis\"},{\"attributes\":{},\"id\":\"111792\",\"type\":\"Selection\"},{\"attributes\":{\"axis\":{\"id\":\"111658\"},\"ticker\":null},\"id\":\"111661\",\"type\":\"Grid\"},{\"attributes\":{\"end\":120,\"start\":60},\"id\":\"111652\",\"type\":\"Range1d\"},{\"attributes\":{\"below\":[{\"id\":\"111732\"}],\"center\":[{\"id\":\"111735\"},{\"id\":\"111739\"}],\"left\":[{\"id\":\"111736\"}],\"plot_height\":400,\"plot_width\":400,\"renderers\":[{\"id\":\"111757\"}],\"title\":{\"id\":\"111723\"},\"toolbar\":{\"id\":\"111747\"},\"toolbar_location\":null,\"x_range\":{\"id\":\"111613\"},\"x_scale\":{\"id\":\"111728\"},\"y_range\":{\"id\":\"111726\"},\"y_scale\":{\"id\":\"111730\"}},\"id\":\"111722\",\"subtype\":\"Figure\",\"type\":\"Plot\"},{\"attributes\":{\"bottom_units\":\"screen\",\"fill_alpha\":0.5,\"fill_color\":\"lightgrey\",\"left_units\":\"screen\",\"level\":\"overlay\",\"line_alpha\":1.0,\"line_color\":\"black\",\"line_dash\":[4,4],\"line_width\":2,\"right_units\":\"screen\",\"top_units\":\"screen\"},\"id\":\"111635\",\"type\":\"BoxAnnotation\"},{\"attributes\":{},\"id\":\"111781\",\"type\":\"BasicTickFormatter\"},{\"attributes\":{},\"id\":\"111782\",\"type\":\"UnionRenderers\"},{\"attributes\":{\"overlay\":{\"id\":\"111672\"}},\"id\":\"111668\",\"type\":\"BoxZoomTool\"},{\"attributes\":{},\"id\":\"111783\",\"type\":\"Selection\"},{\"attributes\":{\"active_drag\":\"auto\",\"active_inspect\":\"auto\",\"active_multi\":null,\"active_scroll\":\"auto\",\"active_tap\":\"auto\",\"tools\":[{\"id\":\"111629\"},{\"id\":\"111630\"},{\"id\":\"111631\"},{\"id\":\"111632\"},{\"id\":\"111633\"},{\"id\":\"111634\"}]},\"id\":\"111636\",\"type\":\"Toolbar\"},{\"attributes\":{\"line_alpha\":0.1,\"line_color\":\"blue\",\"x\":{\"field\":\"x\"},\"y\":{\"field\":\"y\"}},\"id\":\"111719\",\"type\":\"Line\"},{\"attributes\":{\"data_source\":{\"id\":\"111643\"},\"glyph\":{\"id\":\"111644\"},\"hover_glyph\":null,\"muted_glyph\":null,\"nonselection_glyph\":{\"id\":\"111645\"},\"selection_glyph\":null,\"view\":{\"id\":\"111647\"}},\"id\":\"111646\",\"type\":\"GlyphRenderer\"},{\"attributes\":{\"source\":{\"id\":\"111680\"}},\"id\":\"111684\",\"type\":\"CDSView\"},{\"attributes\":{\"data\":{\"x\":[0,10,20,30,40,50,60,70,80,90,100,110,120,130,140,150,160,170,180,190,200,210,220,230,240,250,260,270,280,290,300,310,320,330,340,350,360,370,380,390,400,410,420,430,440,450,460,470,480,490,500,510,520,530,540,550,560,570,580,590,600,610,620,630,640,650,660,670,680,690,700,710,720,730,740,750,760,770,780,790,800,810,820,830,840,850,860,870,880,890,900,910,920,930,940,950,960,970,980,990,1000,1010,1020,1030,1040,1050,1060,1070,1080,1090,1100,1110,1120,1130,1140,1150,1160,1170,1180,1190,1200,1210,1220,1230,1240,1250,1260,1270,1280,1290,1300,1310,1320,1330,1340,1350,1360,1370,1380,1390,1400,1410,1420,1430,1440,1450,1460,1470,1480,1490,1500,1510,1520,1530,1540,1550,1560,1570,1580,1590,1600,1610,1620,1630,1640,1650,1660,1670,1680,1690,1700,1710,1720,1730,1740,1750,1760,1770,1780,1790,1800,1810,1820,1830,1840,1850,1860,1870,1880,1890,1900,1910,1920,1930,1940,1950,1960,1970,1980,1990,2000,2010,2020,2030,2040,2050,2060,2070,2080,2090,2100,2110,2120,2130,2140,2150,2160,2170,2180,2190,2200,2210,2220,2230,2240,2250,2260,2270,2280,2290,2300,2310,2320,2330,2340,2350,2360,2370,2380,2390,2400,2410,2420,2430,2440,2450,2460,2470,2480,2490,2500,2510,2520,2530,2540,2550,2560,2570,2580,2590,2600,2610,2620,2630,2640,2650,2660,2670,2680,2690,2700,2710,2720,2730,2740,2750,2760,2770,2780,2790,2800,2810,2820,2830,2840,2850,2860,2870,2880,2890,2900,2910,2920,2930,2940,2950,2960,2970,2980,2990,3000,3010,3020,3030,3040,3050,3060,3070,3080,3090,3100,3110,3120,3130,3140,3150,3160,3170,3180,3190,3200,3210,3220,3230,3240,3250,3260,3270,3280,3290,3300,3310,3320,3330,3340,3350,3360,3370,3380,3390,3400,3410,3420,3430,3440,3450,3460,3470,3480,3490,3500,3510,3520,3530,3540,3550,3560,3570,3580,3590,3600,3610,3620,3630,3640,3650,3660,3670,3680,3690,3700,3710,3720,3730,3740,3750,3760,3770,3780,3790,3800,3810,3820,3830,3840,3850,3860,3870,3880,3890,3900,3910,3920,3930,3940,3950],\"y\":[135,134,136,137,138,139,140,141,141,143,140,143,144,144,145,147,146,146,146,147,146,146,146,146,146,145,147,147,148,150,151,151,150,151,153,154,153,154,152,152,151,151,150,150,150,150,152,152,152,150,151,152,153,152,152,153,154,155,155,154,153,152,155,156,155,156,156,156,155,154,154,154,153,153,152,152,152,152,151,152,153,153,153,154,157,157,157,156,156,159,159,160,160,158,156,156,156,157,157,155,155,155,156,156,156,157,156,156,156,154,155,154,155,154,154,154,154,155,154,155,155,155,156,157,156,155,158,160,158,159,158,159,158,155,154,155,155,155,155,156,157,156,157,157,157,158,155,156,156,153,154,155,156,158,162,164,164,163,164,163,162,161,161,161,161,160,158,157,157,158,158,157,156,156,158,159,160,160,160,160,159,160,160,160,160,159,164,167,166,166,166,167,167,166,165,166,164,164,163,162,163,161,162,163,162,162,164,163,162,163,161,160,161,163,166,166,165,166,165,168,169,169,168,167,167,166,165,164,165,164,165,164,164,164,164,166,164,163,162,163,163,164,165,165,164,166,166,166,166,165,166,166,165,166,166,164,164,164,166,165,164,164,165,165,164,162,163,161,162,164,165,166,165,166,167,167,167,168,167,165,167,170,170,169,170,170,168,167,166,165,164,163,162,163,162,161,161,163,164,163,164,164,164,164,164,165,165,165,165,166,166,169,169,169,171,170,168,167,167,166,166,166,167,167,166,166,166,167,167,167,168,168,168,169,170,171,171,172,171,171,170,171,173,173,173,173,172,172,171,170,169,169,169,169,170,170,170,170,169,169,169,169,170,170,172,173,173,170,167,166,167,167,167,166,164,161,157,154,152,147,144,141,140,135,132,132,131,130,126,125,126,124,122,120,117,117]},\"selected\":{\"id\":\"111765\"},\"selection_policy\":{\"id\":\"111764\"}},\"id\":\"111643\",\"type\":\"ColumnDataSource\"},{\"attributes\":{\"line_color\":\"orange\",\"x\":{\"field\":\"x\"},\"y\":{\"field\":\"y\"}},\"id\":\"111644\",\"type\":\"Line\"},{\"attributes\":{\"axis\":{\"id\":\"111662\"},\"dimension\":1,\"ticker\":null},\"id\":\"111665\",\"type\":\"Grid\"},{\"attributes\":{\"source\":{\"id\":\"111643\"}},\"id\":\"111647\",\"type\":\"CDSView\"},{\"attributes\":{\"text\":\"Cadence over Time\"},\"id\":\"111649\",\"type\":\"Title\"},{\"attributes\":{\"line_alpha\":0.1,\"line_color\":\"orange\",\"x\":{\"field\":\"x\"},\"y\":{\"field\":\"y\"}},\"id\":\"111645\",\"type\":\"Line\"},{\"attributes\":{},\"id\":\"111667\",\"type\":\"WheelZoomTool\"},{\"attributes\":{},\"id\":\"111666\",\"type\":\"PanTool\"}],\"root_ids\":[\"111798\"]},\"title\":\"Bokeh Application\",\"version\":\"2.1.1\"}};\n",
       "  var render_items = [{\"docid\":\"eec00006-e7de-419b-9b3d-39f2ad444822\",\"root_ids\":[\"111798\"],\"roots\":{\"111798\":\"20c40e68-586c-4971-9db4-66e4a47f2b0c\"}}];\n",
       "  root.Bokeh.embed.embed_items_notebook(docs_json, render_items);\n",
       "\n",
       "  }\n",
       "  if (root.Bokeh !== undefined) {\n",
       "    embed_document(root);\n",
       "  } else {\n",
       "    var attempts = 0;\n",
       "    var timer = setInterval(function(root) {\n",
       "      if (root.Bokeh !== undefined) {\n",
       "        clearInterval(timer);\n",
       "        embed_document(root);\n",
       "      } else {\n",
       "        attempts++;\n",
       "        if (attempts > 100) {\n",
       "          clearInterval(timer);\n",
       "          console.log(\"Bokeh: ERROR: Unable to run BokehJS code because BokehJS library is missing\");\n",
       "        }\n",
       "      }\n",
       "    }, 10, root)\n",
       "  }\n",
       "})(window);"
      ],
      "application/vnd.bokehjs_exec.v0+json": ""
     },
     "metadata": {
      "application/vnd.bokehjs_exec.v0+json": {
       "id": "111798"
      }
     },
     "output_type": "display_data"
    }
   ],
   "source": [
    "p1 = bp.figure(plot_width=1000, \n",
    "               plot_height=500, \n",
    "               title='HR over Time',  \n",
    "               x_axis_label='Seconds', \n",
    "               y_axis_label='Heart Rate',\n",
    "               y_range=[130,180])\n",
    "\n",
    "p1.line(df.time[::10], df.hr[::10], line_width=1, color='orange')\n",
    "\n",
    "p2 = bp.figure(plot_width=1000, \n",
    "               plot_height=500, \n",
    "               title='Cadence over Time',  \n",
    "               x_axis_label='Seconds', \n",
    "               y_axis_label='Cadence', \n",
    "               x_range=p1.x_range, \n",
    "               y_range=[60,120])\n",
    "p2.line(df.time[::10], df.cad[::10], line_width=1, color='green')\n",
    "\n",
    "p3 = bp.figure(plot_width=1000, \n",
    "               plot_height=500, \n",
    "               title='Power over Time',  \n",
    "               x_axis_label='Seconds', \n",
    "               y_axis_label='Power', \n",
    "               x_range=p1.x_range, \n",
    "               y_range=[50,300])\n",
    "p3.line(df.time[::10], df.power[::10], line_width=1, color='blue')\n",
    "\n",
    "p4 = bp.figure(plot_width=1000, \n",
    "               plot_height=500, \n",
    "               title='Elevation over Time',  \n",
    "               x_axis_label='Seconds', \n",
    "               y_axis_label='Elevation', \n",
    "               x_range=p1.x_range, \n",
    "               y_range=[-6, 20])\n",
    "p4.line(df.time[::10], df.ele[::10], line_width=1, color='blue')\n",
    "\n",
    "grid = bl.gridplot([[p1, p2], [p3, p4]], plot_width=400, plot_height=400)\n",
    "\n",
    "bp.show(grid)"
   ]
  },
  {
   "cell_type": "markdown",
   "metadata": {},
   "source": [
    "# Bar Graphs"
   ]
  },
  {
   "cell_type": "markdown",
   "metadata": {},
   "source": [
    "### How much time did we spend in various HR Zones?"
   ]
  },
  {
   "cell_type": "code",
   "execution_count": 178,
   "metadata": {},
   "outputs": [],
   "source": [
    "# Create the bins\n",
    "hr_times, hr_boundaries = np.histogram(df.hr, \n",
    "                                       density=False, \n",
    "                                       bins=[90, 108, 126, 144, 162, 180])\n",
    "zones=['zone 1', 'zone 2', 'zone 3', 'zone 4', 'zone 5']"
   ]
  },
  {
   "cell_type": "code",
   "execution_count": 180,
   "metadata": {},
   "outputs": [
    {
     "data": {
      "text/html": [
       "\n",
       "\n",
       "\n",
       "\n",
       "\n",
       "\n",
       "  <div class=\"bk-root\" id=\"6a7bb5eb-8160-468a-b9ed-f4499e411825\" data-root-id=\"66750\"></div>\n"
      ]
     },
     "metadata": {},
     "output_type": "display_data"
    },
    {
     "data": {
      "application/javascript": [
       "(function(root) {\n",
       "  function embed_document(root) {\n",
       "    \n",
       "  var docs_json = {\"236d9db3-31fd-4b50-a152-68274724a32e\":{\"roots\":{\"references\":[{\"attributes\":{\"below\":[{\"id\":\"66761\"}],\"center\":[{\"id\":\"66763\"},{\"id\":\"66767\"}],\"left\":[{\"id\":\"66764\"}],\"plot_height\":250,\"renderers\":[{\"id\":\"66785\"}],\"title\":{\"id\":\"66751\"},\"toolbar\":{\"id\":\"66775\"},\"x_range\":{\"id\":\"66753\"},\"x_scale\":{\"id\":\"66757\"},\"y_range\":{\"id\":\"66755\"},\"y_scale\":{\"id\":\"66759\"}},\"id\":\"66750\",\"subtype\":\"Figure\",\"type\":\"Plot\"},{\"attributes\":{\"data_source\":{\"id\":\"66782\"},\"glyph\":{\"id\":\"66783\"},\"hover_glyph\":null,\"muted_glyph\":null,\"nonselection_glyph\":{\"id\":\"66784\"},\"selection_glyph\":null,\"view\":{\"id\":\"66786\"}},\"id\":\"66785\",\"type\":\"GlyphRenderer\"},{\"attributes\":{},\"id\":\"66768\",\"type\":\"PanTool\"},{\"attributes\":{\"active_drag\":\"auto\",\"active_inspect\":\"auto\",\"active_multi\":null,\"active_scroll\":\"auto\",\"active_tap\":\"auto\",\"tools\":[{\"id\":\"66768\"},{\"id\":\"66769\"},{\"id\":\"66770\"},{\"id\":\"66771\"},{\"id\":\"66772\"},{\"id\":\"66773\"}]},\"id\":\"66775\",\"type\":\"Toolbar\"},{\"attributes\":{},\"id\":\"68012\",\"type\":\"CategoricalTickFormatter\"},{\"attributes\":{\"fill_alpha\":{\"value\":0.1},\"fill_color\":{\"value\":\"orange\"},\"line_alpha\":{\"value\":0.1},\"line_color\":{\"value\":\"orange\"},\"top\":{\"field\":\"top\"},\"width\":{\"value\":0.5},\"x\":{\"field\":\"x\"}},\"id\":\"66784\",\"type\":\"VBar\"},{\"attributes\":{},\"id\":\"66773\",\"type\":\"HelpTool\"},{\"attributes\":{\"axis\":{\"id\":\"66764\"},\"dimension\":1,\"ticker\":null},\"id\":\"66767\",\"type\":\"Grid\"},{\"attributes\":{\"overlay\":{\"id\":\"66774\"}},\"id\":\"66770\",\"type\":\"BoxZoomTool\"},{\"attributes\":{},\"id\":\"66771\",\"type\":\"SaveTool\"},{\"attributes\":{},\"id\":\"66765\",\"type\":\"BasicTicker\"},{\"attributes\":{},\"id\":\"66755\",\"type\":\"DataRange1d\"},{\"attributes\":{},\"id\":\"66769\",\"type\":\"WheelZoomTool\"},{\"attributes\":{\"bottom_units\":\"screen\",\"fill_alpha\":0.5,\"fill_color\":\"lightgrey\",\"left_units\":\"screen\",\"level\":\"overlay\",\"line_alpha\":1.0,\"line_color\":\"black\",\"line_dash\":[4,4],\"line_width\":2,\"right_units\":\"screen\",\"top_units\":\"screen\"},\"id\":\"66774\",\"type\":\"BoxAnnotation\"},{\"attributes\":{\"factors\":[\"zone 1\",\"zone 2\",\"zone 3\",\"zone 4\",\"zone 5\"]},\"id\":\"66753\",\"type\":\"FactorRange\"},{\"attributes\":{\"formatter\":{\"id\":\"68012\"},\"ticker\":{\"id\":\"66762\"}},\"id\":\"66761\",\"type\":\"CategoricalAxis\"},{\"attributes\":{},\"id\":\"68013\",\"type\":\"UnionRenderers\"},{\"attributes\":{\"axis\":{\"id\":\"66761\"},\"ticker\":null},\"id\":\"66763\",\"type\":\"Grid\"},{\"attributes\":{\"fill_color\":{\"value\":\"orange\"},\"line_color\":{\"value\":\"orange\"},\"top\":{\"field\":\"top\"},\"width\":{\"value\":0.5},\"x\":{\"field\":\"x\"}},\"id\":\"66783\",\"type\":\"VBar\"},{\"attributes\":{},\"id\":\"68014\",\"type\":\"Selection\"},{\"attributes\":{\"data\":{\"top\":[0,68,201,1770,1921],\"x\":[\"zone 1\",\"zone 2\",\"zone 3\",\"zone 4\",\"zone 5\"]},\"selected\":{\"id\":\"68014\"},\"selection_policy\":{\"id\":\"68013\"}},\"id\":\"66782\",\"type\":\"ColumnDataSource\"},{\"attributes\":{\"source\":{\"id\":\"66782\"}},\"id\":\"66786\",\"type\":\"CDSView\"},{\"attributes\":{\"formatter\":{\"id\":\"68010\"},\"ticker\":{\"id\":\"66765\"}},\"id\":\"66764\",\"type\":\"LinearAxis\"},{\"attributes\":{},\"id\":\"66759\",\"type\":\"LinearScale\"},{\"attributes\":{},\"id\":\"68010\",\"type\":\"BasicTickFormatter\"},{\"attributes\":{},\"id\":\"66762\",\"type\":\"CategoricalTicker\"},{\"attributes\":{\"text\":\"HR Zone Durations\"},\"id\":\"66751\",\"type\":\"Title\"},{\"attributes\":{},\"id\":\"66757\",\"type\":\"CategoricalScale\"},{\"attributes\":{},\"id\":\"66772\",\"type\":\"ResetTool\"}],\"root_ids\":[\"66750\"]},\"title\":\"Bokeh Application\",\"version\":\"2.1.1\"}};\n",
       "  var render_items = [{\"docid\":\"236d9db3-31fd-4b50-a152-68274724a32e\",\"root_ids\":[\"66750\"],\"roots\":{\"66750\":\"6a7bb5eb-8160-468a-b9ed-f4499e411825\"}}];\n",
       "  root.Bokeh.embed.embed_items_notebook(docs_json, render_items);\n",
       "\n",
       "  }\n",
       "  if (root.Bokeh !== undefined) {\n",
       "    embed_document(root);\n",
       "  } else {\n",
       "    var attempts = 0;\n",
       "    var timer = setInterval(function(root) {\n",
       "      if (root.Bokeh !== undefined) {\n",
       "        clearInterval(timer);\n",
       "        embed_document(root);\n",
       "      } else {\n",
       "        attempts++;\n",
       "        if (attempts > 100) {\n",
       "          clearInterval(timer);\n",
       "          console.log(\"Bokeh: ERROR: Unable to run BokehJS code because BokehJS library is missing\");\n",
       "        }\n",
       "      }\n",
       "    }, 10, root)\n",
       "  }\n",
       "})(window);"
      ],
      "application/vnd.bokehjs_exec.v0+json": ""
     },
     "metadata": {
      "application/vnd.bokehjs_exec.v0+json": {
       "id": "66750"
      }
     },
     "output_type": "display_data"
    }
   ],
   "source": [
    "p5 = bp.figure(x_range=zones, plot_height=250, title='HR Zone Durations')\n",
    "\n",
    "p5.vbar(x=zones, bottom=0, top=hr_times, width=.5, color='orange')\n",
    "\n",
    "bp.show(p5)\n"
   ]
  },
  {
   "cell_type": "markdown",
   "metadata": {},
   "source": [
    "#### Power Zones too, please.."
   ]
  },
  {
   "cell_type": "code",
   "execution_count": 181,
   "metadata": {},
   "outputs": [],
   "source": [
    "# Create the bins\n",
    "pwr_times, pwr_boundaries = np.histogram(df.power, \n",
    "                                         density=False, \n",
    "                                         bins=[0, 121, 165, 198, 231, 264, 500])\n",
    "pwr_zones=['Active Recovery', \n",
    "           'Endurance', \n",
    "           'Tempo', \n",
    "           'Lactate Threshold', \n",
    "           'VO2 Max', \n",
    "           'Anaerobic Capacity']"
   ]
  },
  {
   "cell_type": "code",
   "execution_count": 183,
   "metadata": {},
   "outputs": [
    {
     "data": {
      "text/html": [
       "\n",
       "\n",
       "\n",
       "\n",
       "\n",
       "\n",
       "  <div class=\"bk-root\" id=\"73b4484d-4e8c-4bd2-bbeb-5cadc34ea909\" data-root-id=\"69386\"></div>\n"
      ]
     },
     "metadata": {},
     "output_type": "display_data"
    },
    {
     "data": {
      "application/javascript": [
       "(function(root) {\n",
       "  function embed_document(root) {\n",
       "    \n",
       "  var docs_json = {\"7733d614-d905-4123-bc31-90c40b30cc21\":{\"roots\":{\"references\":[{\"attributes\":{\"below\":[{\"id\":\"69397\"}],\"center\":[{\"id\":\"69400\"},{\"id\":\"69403\"}],\"left\":[{\"id\":\"69401\"}],\"plot_height\":250,\"renderers\":[{\"id\":\"69421\"}],\"title\":{\"id\":\"69387\"},\"toolbar\":{\"id\":\"69411\"},\"x_range\":{\"id\":\"69389\"},\"x_scale\":{\"id\":\"69393\"},\"y_range\":{\"id\":\"69391\"},\"y_scale\":{\"id\":\"69395\"}},\"id\":\"69386\",\"subtype\":\"Figure\",\"type\":\"Plot\"},{\"attributes\":{\"overlay\":{\"id\":\"69410\"}},\"id\":\"69406\",\"type\":\"BoxZoomTool\"},{\"attributes\":{},\"id\":\"69393\",\"type\":\"LinearScale\"},{\"attributes\":{\"data_source\":{\"id\":\"69418\"},\"glyph\":{\"id\":\"69419\"},\"hover_glyph\":null,\"muted_glyph\":null,\"nonselection_glyph\":{\"id\":\"69420\"},\"selection_glyph\":null,\"view\":{\"id\":\"69422\"}},\"id\":\"69421\",\"type\":\"GlyphRenderer\"},{\"attributes\":{},\"id\":\"70665\",\"type\":\"UnionRenderers\"},{\"attributes\":{\"active_drag\":\"auto\",\"active_inspect\":\"auto\",\"active_multi\":null,\"active_scroll\":\"auto\",\"active_tap\":\"auto\",\"tools\":[{\"id\":\"69404\"},{\"id\":\"69405\"},{\"id\":\"69406\"},{\"id\":\"69407\"},{\"id\":\"69408\"},{\"id\":\"69409\"}]},\"id\":\"69411\",\"type\":\"Toolbar\"},{\"attributes\":{},\"id\":\"70666\",\"type\":\"Selection\"},{\"attributes\":{\"fill_alpha\":{\"value\":0.1},\"fill_color\":{\"value\":\"blue\"},\"height\":{\"value\":0.5},\"line_alpha\":{\"value\":0.1},\"line_color\":{\"value\":\"blue\"},\"right\":{\"field\":\"right\"},\"y\":{\"field\":\"y\"}},\"id\":\"69420\",\"type\":\"HBar\"},{\"attributes\":{\"source\":{\"id\":\"69418\"}},\"id\":\"69422\",\"type\":\"CDSView\"},{\"attributes\":{},\"id\":\"69404\",\"type\":\"PanTool\"},{\"attributes\":{},\"id\":\"69408\",\"type\":\"ResetTool\"},{\"attributes\":{},\"id\":\"70662\",\"type\":\"CategoricalTickFormatter\"},{\"attributes\":{\"axis\":{\"id\":\"69397\"},\"ticker\":null},\"id\":\"69400\",\"type\":\"Grid\"},{\"attributes\":{},\"id\":\"69407\",\"type\":\"SaveTool\"},{\"attributes\":{},\"id\":\"69398\",\"type\":\"BasicTicker\"},{\"attributes\":{\"formatter\":{\"id\":\"70664\"},\"ticker\":{\"id\":\"69398\"}},\"id\":\"69397\",\"type\":\"LinearAxis\"},{\"attributes\":{\"fill_color\":{\"value\":\"blue\"},\"height\":{\"value\":0.5},\"line_color\":{\"value\":\"blue\"},\"right\":{\"field\":\"right\"},\"y\":{\"field\":\"y\"}},\"id\":\"69419\",\"type\":\"HBar\"},{\"attributes\":{},\"id\":\"69405\",\"type\":\"WheelZoomTool\"},{\"attributes\":{\"data\":{\"right\":[236,21,987,2465,202,49],\"y\":[\"Active Recovery\",\"Endurance\",\"Tempo\",\"Lactate Threshold\",\"VO2 Max\",\"Anaerobic Capacity\"]},\"selected\":{\"id\":\"70666\"},\"selection_policy\":{\"id\":\"70665\"}},\"id\":\"69418\",\"type\":\"ColumnDataSource\"},{\"attributes\":{},\"id\":\"69409\",\"type\":\"HelpTool\"},{\"attributes\":{\"bottom_units\":\"screen\",\"fill_alpha\":0.5,\"fill_color\":\"lightgrey\",\"left_units\":\"screen\",\"level\":\"overlay\",\"line_alpha\":1.0,\"line_color\":\"black\",\"line_dash\":[4,4],\"line_width\":2,\"right_units\":\"screen\",\"top_units\":\"screen\"},\"id\":\"69410\",\"type\":\"BoxAnnotation\"},{\"attributes\":{\"axis\":{\"id\":\"69401\"},\"dimension\":1,\"ticker\":null},\"id\":\"69403\",\"type\":\"Grid\"},{\"attributes\":{\"text\":\"Power Zone Durations\"},\"id\":\"69387\",\"type\":\"Title\"},{\"attributes\":{},\"id\":\"69402\",\"type\":\"CategoricalTicker\"},{\"attributes\":{},\"id\":\"69395\",\"type\":\"CategoricalScale\"},{\"attributes\":{},\"id\":\"70664\",\"type\":\"BasicTickFormatter\"},{\"attributes\":{\"factors\":[\"Active Recovery\",\"Endurance\",\"Tempo\",\"Lactate Threshold\",\"VO2 Max\",\"Anaerobic Capacity\"]},\"id\":\"69391\",\"type\":\"FactorRange\"},{\"attributes\":{\"formatter\":{\"id\":\"70662\"},\"ticker\":{\"id\":\"69402\"}},\"id\":\"69401\",\"type\":\"CategoricalAxis\"},{\"attributes\":{},\"id\":\"69389\",\"type\":\"DataRange1d\"}],\"root_ids\":[\"69386\"]},\"title\":\"Bokeh Application\",\"version\":\"2.1.1\"}};\n",
       "  var render_items = [{\"docid\":\"7733d614-d905-4123-bc31-90c40b30cc21\",\"root_ids\":[\"69386\"],\"roots\":{\"69386\":\"73b4484d-4e8c-4bd2-bbeb-5cadc34ea909\"}}];\n",
       "  root.Bokeh.embed.embed_items_notebook(docs_json, render_items);\n",
       "\n",
       "  }\n",
       "  if (root.Bokeh !== undefined) {\n",
       "    embed_document(root);\n",
       "  } else {\n",
       "    var attempts = 0;\n",
       "    var timer = setInterval(function(root) {\n",
       "      if (root.Bokeh !== undefined) {\n",
       "        clearInterval(timer);\n",
       "        embed_document(root);\n",
       "      } else {\n",
       "        attempts++;\n",
       "        if (attempts > 100) {\n",
       "          clearInterval(timer);\n",
       "          console.log(\"Bokeh: ERROR: Unable to run BokehJS code because BokehJS library is missing\");\n",
       "        }\n",
       "      }\n",
       "    }, 10, root)\n",
       "  }\n",
       "})(window);"
      ],
      "application/vnd.bokehjs_exec.v0+json": ""
     },
     "metadata": {
      "application/vnd.bokehjs_exec.v0+json": {
       "id": "69386"
      }
     },
     "output_type": "display_data"
    }
   ],
   "source": [
    "p6 = bp.figure(y_range=pwr_zones, plot_height=250, title='Power Zone Durations')\n",
    "p6.hbar(y=pwr_zones, left=0, right=pwr_times, height=.5, color='blue')\n",
    "\n",
    "bp.show(p6)"
   ]
  },
  {
   "cell_type": "code",
   "execution_count": 212,
   "metadata": {},
   "outputs": [
    {
     "data": {
      "text/html": [
       "\n",
       "\n",
       "\n",
       "\n",
       "\n",
       "\n",
       "  <div class=\"bk-root\" id=\"b560cde2-f410-421c-843a-296a4e139cac\" data-root-id=\"113803\"></div>\n"
      ]
     },
     "metadata": {},
     "output_type": "display_data"
    },
    {
     "data": {
      "application/javascript": [
       "(function(root) {\n",
       "  function embed_document(root) {\n",
       "    \n",
       "  var docs_json = {\"d874c9db-1b74-44e9-8794-e3619c6b1108\":{\"roots\":{\"references\":[{\"attributes\":{\"children\":[{\"id\":\"113802\"},{\"id\":\"113800\"}]},\"id\":\"113803\",\"type\":\"Column\"},{\"attributes\":{\"data_source\":{\"id\":\"66782\"},\"glyph\":{\"id\":\"66783\"},\"hover_glyph\":null,\"muted_glyph\":null,\"nonselection_glyph\":{\"id\":\"66784\"},\"selection_glyph\":null,\"view\":{\"id\":\"66786\"}},\"id\":\"66785\",\"type\":\"GlyphRenderer\"},{\"attributes\":{\"line_alpha\":0.1,\"line_color\":\"blue\",\"x\":{\"field\":\"x\"},\"y\":{\"field\":\"y\"}},\"id\":\"111756\",\"type\":\"Line\"},{\"attributes\":{},\"id\":\"111671\",\"type\":\"HelpTool\"},{\"attributes\":{\"source\":{\"id\":\"111754\"}},\"id\":\"111758\",\"type\":\"CDSView\"},{\"attributes\":{},\"id\":\"111669\",\"type\":\"SaveTool\"},{\"attributes\":{\"line_color\":\"green\",\"x\":{\"field\":\"x\"},\"y\":{\"field\":\"y\"}},\"id\":\"111681\",\"type\":\"Line\"},{\"attributes\":{},\"id\":\"111670\",\"type\":\"ResetTool\"},{\"attributes\":{\"active_drag\":\"auto\",\"active_inspect\":\"auto\",\"active_multi\":null,\"active_scroll\":\"auto\",\"active_tap\":\"auto\",\"tools\":[{\"id\":\"111740\"},{\"id\":\"111741\"},{\"id\":\"111742\"},{\"id\":\"111743\"},{\"id\":\"111744\"},{\"id\":\"111745\"}]},\"id\":\"111747\",\"type\":\"Toolbar\"},{\"attributes\":{\"bottom_units\":\"screen\",\"fill_alpha\":0.5,\"fill_color\":\"lightgrey\",\"left_units\":\"screen\",\"level\":\"overlay\",\"line_alpha\":1.0,\"line_color\":\"black\",\"line_dash\":[4,4],\"line_width\":2,\"right_units\":\"screen\",\"top_units\":\"screen\"},\"id\":\"111709\",\"type\":\"BoxAnnotation\"},{\"attributes\":{},\"id\":\"111743\",\"type\":\"SaveTool\"},{\"attributes\":{},\"id\":\"111740\",\"type\":\"PanTool\"},{\"attributes\":{},\"id\":\"111745\",\"type\":\"HelpTool\"},{\"attributes\":{},\"id\":\"111744\",\"type\":\"ResetTool\"},{\"attributes\":{\"overlay\":{\"id\":\"111746\"}},\"id\":\"111742\",\"type\":\"BoxZoomTool\"},{\"attributes\":{\"fill_alpha\":{\"value\":0.1},\"fill_color\":{\"value\":\"orange\"},\"line_alpha\":{\"value\":0.1},\"line_color\":{\"value\":\"orange\"},\"top\":{\"field\":\"top\"},\"width\":{\"value\":0.5},\"x\":{\"field\":\"x\"}},\"id\":\"66784\",\"type\":\"VBar\"},{\"attributes\":{\"axis\":{\"id\":\"111736\"},\"dimension\":1,\"ticker\":null},\"id\":\"111739\",\"type\":\"Grid\"},{\"attributes\":{},\"id\":\"111741\",\"type\":\"WheelZoomTool\"},{\"attributes\":{},\"id\":\"111761\",\"type\":\"BasicTickFormatter\"},{\"attributes\":{},\"id\":\"111779\",\"type\":\"BasicTickFormatter\"},{\"attributes\":{\"bottom_units\":\"screen\",\"fill_alpha\":0.5,\"fill_color\":\"lightgrey\",\"left_units\":\"screen\",\"level\":\"overlay\",\"line_alpha\":1.0,\"line_color\":\"black\",\"line_dash\":[4,4],\"line_width\":2,\"right_units\":\"screen\",\"top_units\":\"screen\"},\"id\":\"111672\",\"type\":\"BoxAnnotation\"},{\"attributes\":{},\"id\":\"111737\",\"type\":\"BasicTicker\"},{\"attributes\":{\"bottom_units\":\"screen\",\"fill_alpha\":0.5,\"fill_color\":\"lightgrey\",\"left_units\":\"screen\",\"level\":\"overlay\",\"line_alpha\":1.0,\"line_color\":\"black\",\"line_dash\":[4,4],\"line_width\":2,\"right_units\":\"screen\",\"top_units\":\"screen\"},\"id\":\"66774\",\"type\":\"BoxAnnotation\"},{\"attributes\":{},\"id\":\"111763\",\"type\":\"BasicTickFormatter\"},{\"attributes\":{\"source\":{\"id\":\"66782\"}},\"id\":\"66786\",\"type\":\"CDSView\"},{\"attributes\":{\"bottom_units\":\"screen\",\"fill_alpha\":0.5,\"fill_color\":\"lightgrey\",\"left_units\":\"screen\",\"level\":\"overlay\",\"line_alpha\":1.0,\"line_color\":\"black\",\"line_dash\":[4,4],\"line_width\":2,\"right_units\":\"screen\",\"top_units\":\"screen\"},\"id\":\"69410\",\"type\":\"BoxAnnotation\"},{\"attributes\":{},\"id\":\"68010\",\"type\":\"BasicTickFormatter\"},{\"attributes\":{\"data\":{\"x\":[0,10,20,30,40,50,60,70,80,90,100,110,120,130,140,150,160,170,180,190,200,210,220,230,240,250,260,270,280,290,300,310,320,330,340,350,360,370,380,390,400,410,420,430,440,450,460,470,480,490,500,510,520,530,540,550,560,570,580,590,600,610,620,630,640,650,660,670,680,690,700,710,720,730,740,750,760,770,780,790,800,810,820,830,840,850,860,870,880,890,900,910,920,930,940,950,960,970,980,990,1000,1010,1020,1030,1040,1050,1060,1070,1080,1090,1100,1110,1120,1130,1140,1150,1160,1170,1180,1190,1200,1210,1220,1230,1240,1250,1260,1270,1280,1290,1300,1310,1320,1330,1340,1350,1360,1370,1380,1390,1400,1410,1420,1430,1440,1450,1460,1470,1480,1490,1500,1510,1520,1530,1540,1550,1560,1570,1580,1590,1600,1610,1620,1630,1640,1650,1660,1670,1680,1690,1700,1710,1720,1730,1740,1750,1760,1770,1780,1790,1800,1810,1820,1830,1840,1850,1860,1870,1880,1890,1900,1910,1920,1930,1940,1950,1960,1970,1980,1990,2000,2010,2020,2030,2040,2050,2060,2070,2080,2090,2100,2110,2120,2130,2140,2150,2160,2170,2180,2190,2200,2210,2220,2230,2240,2250,2260,2270,2280,2290,2300,2310,2320,2330,2340,2350,2360,2370,2380,2390,2400,2410,2420,2430,2440,2450,2460,2470,2480,2490,2500,2510,2520,2530,2540,2550,2560,2570,2580,2590,2600,2610,2620,2630,2640,2650,2660,2670,2680,2690,2700,2710,2720,2730,2740,2750,2760,2770,2780,2790,2800,2810,2820,2830,2840,2850,2860,2870,2880,2890,2900,2910,2920,2930,2940,2950,2960,2970,2980,2990,3000,3010,3020,3030,3040,3050,3060,3070,3080,3090,3100,3110,3120,3130,3140,3150,3160,3170,3180,3190,3200,3210,3220,3230,3240,3250,3260,3270,3280,3290,3300,3310,3320,3330,3340,3350,3360,3370,3380,3390,3400,3410,3420,3430,3440,3450,3460,3470,3480,3490,3500,3510,3520,3530,3540,3550,3560,3570,3580,3590,3600,3610,3620,3630,3640,3650,3660,3670,3680,3690,3700,3710,3720,3730,3740,3750,3760,3770,3780,3790,3800,3810,3820,3830,3840,3850,3860,3870,3880,3890,3900,3910,3920,3930,3940,3950],\"y\":[246,265,274,263,260,240,234,238,241,262,229,228,240,203,218,218,233,222,225,226,219,217,214,209,203,201,221,210,220,223,206,212,254,271,215,206,215,199,201,202,209,224,221,207,222,228,210,220,210,217,225,218,209,214,213,209,225,204,197,208,211,182,239,213,221,219,216,210,209,196,196,190,204,194,215,209,202,207,199,208,202,198,210,197,194,212,200,212,285,204,211,175,204,213,194,223,220,216,213,205,229,211,202,214,189,207,195,216,211,199,199,212,209,214,217,185,202,201,188,201,192,222,188,182,209,149,171,180,189,196,190,191,197,188,206,201,214,210,215,193,197,211,208,187,197,207,230,198,209,205,200,207,198,249,238,216,199,198,214,203,192,191,180,205,211,205,208,212,214,158,206,207,206,210,223,203,222,216,209,223,220,228,199,210,192,230,225,200,200,211,200,204,210,200,196,208,194,201,205,195,198,196,195,192,204,217,183,208,219,203,212,210,220,209,195,188,207,208,241,201,190,182,212,188,190,195,202,217,209,223,206,233,207,196,198,203,204,204,212,203,210,203,213,190,194,191,197,203,201,197,213,196,204,167,199,192,203,186,196,194,209,197,196,210,191,199,214,212,199,219,212,210,209,208,201,156,208,192,197,235,211,196,193,192,191,198,202,202,193,204,201,201,192,194,188,184,204,213,205,205,197,191,213,203,205,208,198,198,192,145,196,197,180,183,208,211,199,197,204,206,196,202,210,206,219,217,225,210,205,209,213,211,196,201,192,210,200,218,208,202,225,252,181,207,204,205,202,203,203,192,198,220,225,215,209,213,198,184,205,191,182,208,189,172,187,181,191,177,200,202,199,217,235,60,67,63,75,73,81,81,70,55,56,52,45,54,56,28,32,38,37,28,11,13,12,0]},\"selected\":{\"id\":\"111783\"},\"selection_policy\":{\"id\":\"111782\"}},\"id\":\"111717\",\"type\":\"ColumnDataSource\"},{\"attributes\":{\"line_color\":\"blue\",\"x\":{\"field\":\"x\"},\"y\":{\"field\":\"y\"}},\"id\":\"111718\",\"type\":\"Line\"},{\"attributes\":{\"axis_label\":\"Seconds\",\"formatter\":{\"id\":\"111781\"},\"ticker\":{\"id\":\"111696\"}},\"id\":\"111695\",\"type\":\"LinearAxis\"},{\"attributes\":{\"text\":\"Elevation over Time\"},\"id\":\"111723\",\"type\":\"Title\"},{\"attributes\":{\"children\":[[{\"id\":\"111610\"},0,0],[{\"id\":\"66750\"},0,1],[{\"id\":\"111685\"},1,0],[{\"id\":\"69386\"},1,1],[{\"id\":\"111648\"},2,0],[{\"id\":\"111722\"},2,1]]},\"id\":\"113800\",\"type\":\"GridBox\"},{\"attributes\":{\"active_drag\":\"auto\",\"active_inspect\":\"auto\",\"active_multi\":null,\"active_scroll\":\"auto\",\"active_tap\":\"auto\",\"tools\":[{\"id\":\"111666\"},{\"id\":\"111667\"},{\"id\":\"111668\"},{\"id\":\"111669\"},{\"id\":\"111670\"},{\"id\":\"111671\"}]},\"id\":\"111673\",\"type\":\"Toolbar\"},{\"attributes\":{\"line_alpha\":0.1,\"line_color\":\"green\",\"x\":{\"field\":\"x\"},\"y\":{\"field\":\"y\"}},\"id\":\"111682\",\"type\":\"Line\"},{\"attributes\":{},\"id\":\"111764\",\"type\":\"UnionRenderers\"},{\"attributes\":{\"text\":\"Power over Time\"},\"id\":\"111686\",\"type\":\"Title\"},{\"attributes\":{},\"id\":\"111765\",\"type\":\"Selection\"},{\"attributes\":{\"bottom_units\":\"screen\",\"fill_alpha\":0.5,\"fill_color\":\"lightgrey\",\"left_units\":\"screen\",\"level\":\"overlay\",\"line_alpha\":1.0,\"line_color\":\"black\",\"line_dash\":[4,4],\"line_width\":2,\"right_units\":\"screen\",\"top_units\":\"screen\"},\"id\":\"111746\",\"type\":\"BoxAnnotation\"},{\"attributes\":{\"data\":{\"x\":[0,10,20,30,40,50,60,70,80,90,100,110,120,130,140,150,160,170,180,190,200,210,220,230,240,250,260,270,280,290,300,310,320,330,340,350,360,370,380,390,400,410,420,430,440,450,460,470,480,490,500,510,520,530,540,550,560,570,580,590,600,610,620,630,640,650,660,670,680,690,700,710,720,730,740,750,760,770,780,790,800,810,820,830,840,850,860,870,880,890,900,910,920,930,940,950,960,970,980,990,1000,1010,1020,1030,1040,1050,1060,1070,1080,1090,1100,1110,1120,1130,1140,1150,1160,1170,1180,1190,1200,1210,1220,1230,1240,1250,1260,1270,1280,1290,1300,1310,1320,1330,1340,1350,1360,1370,1380,1390,1400,1410,1420,1430,1440,1450,1460,1470,1480,1490,1500,1510,1520,1530,1540,1550,1560,1570,1580,1590,1600,1610,1620,1630,1640,1650,1660,1670,1680,1690,1700,1710,1720,1730,1740,1750,1760,1770,1780,1790,1800,1810,1820,1830,1840,1850,1860,1870,1880,1890,1900,1910,1920,1930,1940,1950,1960,1970,1980,1990,2000,2010,2020,2030,2040,2050,2060,2070,2080,2090,2100,2110,2120,2130,2140,2150,2160,2170,2180,2190,2200,2210,2220,2230,2240,2250,2260,2270,2280,2290,2300,2310,2320,2330,2340,2350,2360,2370,2380,2390,2400,2410,2420,2430,2440,2450,2460,2470,2480,2490,2500,2510,2520,2530,2540,2550,2560,2570,2580,2590,2600,2610,2620,2630,2640,2650,2660,2670,2680,2690,2700,2710,2720,2730,2740,2750,2760,2770,2780,2790,2800,2810,2820,2830,2840,2850,2860,2870,2880,2890,2900,2910,2920,2930,2940,2950,2960,2970,2980,2990,3000,3010,3020,3030,3040,3050,3060,3070,3080,3090,3100,3110,3120,3130,3140,3150,3160,3170,3180,3190,3200,3210,3220,3230,3240,3250,3260,3270,3280,3290,3300,3310,3320,3330,3340,3350,3360,3370,3380,3390,3400,3410,3420,3430,3440,3450,3460,3470,3480,3490,3500,3510,3520,3530,3540,3550,3560,3570,3580,3590,3600,3610,3620,3630,3640,3650,3660,3670,3680,3690,3700,3710,3720,3730,3740,3750,3760,3770,3780,3790,3800,3810,3820,3830,3840,3850,3860,3870,3880,3890,3900,3910,3920,3930,3940,3950],\"y\":[104,103,104,104,102,92,94,95,91,94,91,91,92,88,89,90,90,90,89,90,91,90,89,89,90,89,92,91,90,92,91,90,92,87,86,85,84,89,90,89,90,89,91,89,88,91,90,89,87,89,89,89,88,88,88,89,86,87,85,88,87,90,91,88,87,88,87,87,87,89,88,89,90,87,89,88,88,87,87,88,86,87,86,83,86,86,84,84,88,87,88,87,87,87,86,89,89,84,86,83,86,85,83,86,86,84,83,87,83,83,85,86,85,87,86,81,87,84,83,84,84,87,82,84,84,82,82,87,85,87,86,86,85,84,91,86,88,87,87,89,87,89,88,87,84,85,90,87,88,85,90,87,89,87,84,84,82,81,82,85,85,83,82,87,88,86,88,88,88,87,87,85,88,86,88,92,90,90,89,90,90,92,86,86,85,83,83,80,85,89,89,87,87,91,90,92,93,90,89,93,91,92,92,92,94,92,87,89,90,89,94,93,90,81,83,90,87,87,85,83,91,86,85,91,90,90,92,89,90,90,88,93,85,85,85,88,87,87,89,88,88,87,86,84,85,86,86,87,88,86,87,87,86,87,85,86,88,80,85,85,85,91,90,92,90,89,88,90,87,90,88,87,89,89,88,85,84,86,86,82,77,70,82,84,82,85,87,86,85,87,86,91,92,89,90,92,90,90,90,88,89,90,89,87,86,88,87,87,85,80,78,80,82,85,87,88,87,89,90,90,91,92,93,92,90,89,90,91,89,90,91,93,90,90,89,89,87,91,88,85,89,84,80,87,88,91,88,90,88,92,92,92,90,87,87,87,87,87,92,89,87,85,83,80,95,94,94,92,98,93,93,95,99,49,47,45,48,49,53,52,49,56,57,56,53,54,80,65,62,49,62,58,39,33,32,0]},\"selected\":{\"id\":\"111774\"},\"selection_policy\":{\"id\":\"111773\"}},\"id\":\"111680\",\"type\":\"ColumnDataSource\"},{\"attributes\":{\"line_color\":\"blue\",\"x\":{\"field\":\"x\"},\"y\":{\"field\":\"y\"}},\"id\":\"111755\",\"type\":\"Line\"},{\"attributes\":{\"toolbars\":[{\"id\":\"111636\"},{\"id\":\"66775\"},{\"id\":\"111710\"},{\"id\":\"69411\"},{\"id\":\"111673\"},{\"id\":\"111747\"}],\"tools\":[{\"id\":\"111629\"},{\"id\":\"111630\"},{\"id\":\"111631\"},{\"id\":\"111632\"},{\"id\":\"111633\"},{\"id\":\"111634\"},{\"id\":\"66768\"},{\"id\":\"66769\"},{\"id\":\"66770\"},{\"id\":\"66771\"},{\"id\":\"66772\"},{\"id\":\"66773\"},{\"id\":\"111703\"},{\"id\":\"111704\"},{\"id\":\"111705\"},{\"id\":\"111706\"},{\"id\":\"111707\"},{\"id\":\"111708\"},{\"id\":\"69404\"},{\"id\":\"69405\"},{\"id\":\"69406\"},{\"id\":\"69407\"},{\"id\":\"69408\"},{\"id\":\"69409\"},{\"id\":\"111666\"},{\"id\":\"111667\"},{\"id\":\"111668\"},{\"id\":\"111669\"},{\"id\":\"111670\"},{\"id\":\"111671\"},{\"id\":\"111740\"},{\"id\":\"111741\"},{\"id\":\"111742\"},{\"id\":\"111743\"},{\"id\":\"111744\"},{\"id\":\"111745\"}]},\"id\":\"113801\",\"type\":\"ProxyToolbar\"},{\"attributes\":{\"end\":300,\"start\":50},\"id\":\"111689\",\"type\":\"Range1d\"},{\"attributes\":{},\"id\":\"68012\",\"type\":\"CategoricalTickFormatter\"},{\"attributes\":{},\"id\":\"111700\",\"type\":\"BasicTicker\"},{\"attributes\":{},\"id\":\"111691\",\"type\":\"LinearScale\"},{\"attributes\":{\"active_drag\":\"auto\",\"active_inspect\":\"auto\",\"active_multi\":null,\"active_scroll\":\"auto\",\"active_tap\":\"auto\",\"tools\":[{\"id\":\"69404\"},{\"id\":\"69405\"},{\"id\":\"69406\"},{\"id\":\"69407\"},{\"id\":\"69408\"},{\"id\":\"69409\"}]},\"id\":\"69411\",\"type\":\"Toolbar\"},{\"attributes\":{},\"id\":\"111696\",\"type\":\"BasicTicker\"},{\"attributes\":{\"axis\":{\"id\":\"111695\"},\"ticker\":null},\"id\":\"111698\",\"type\":\"Grid\"},{\"attributes\":{\"axis_label\":\"Power\",\"formatter\":{\"id\":\"111779\"},\"ticker\":{\"id\":\"111700\"}},\"id\":\"111699\",\"type\":\"LinearAxis\"},{\"attributes\":{\"data_source\":{\"id\":\"111680\"},\"glyph\":{\"id\":\"111681\"},\"hover_glyph\":null,\"muted_glyph\":null,\"nonselection_glyph\":{\"id\":\"111682\"},\"selection_glyph\":null,\"view\":{\"id\":\"111684\"}},\"id\":\"111683\",\"type\":\"GlyphRenderer\"},{\"attributes\":{},\"id\":\"111693\",\"type\":\"LinearScale\"},{\"attributes\":{},\"id\":\"69404\",\"type\":\"PanTool\"},{\"attributes\":{\"axis\":{\"id\":\"111699\"},\"dimension\":1,\"ticker\":null},\"id\":\"111702\",\"type\":\"Grid\"},{\"attributes\":{},\"id\":\"111704\",\"type\":\"WheelZoomTool\"},{\"attributes\":{},\"id\":\"69408\",\"type\":\"ResetTool\"},{\"attributes\":{\"toolbar\":{\"id\":\"113801\"},\"toolbar_location\":\"above\"},\"id\":\"113802\",\"type\":\"ToolbarBox\"},{\"attributes\":{\"axis\":{\"id\":\"69397\"},\"ticker\":null},\"id\":\"69400\",\"type\":\"Grid\"},{\"attributes\":{},\"id\":\"111703\",\"type\":\"PanTool\"},{\"attributes\":{},\"id\":\"69407\",\"type\":\"SaveTool\"},{\"attributes\":{\"active_drag\":\"auto\",\"active_inspect\":\"auto\",\"active_multi\":null,\"active_scroll\":\"auto\",\"active_tap\":\"auto\",\"tools\":[{\"id\":\"111703\"},{\"id\":\"111704\"},{\"id\":\"111705\"},{\"id\":\"111706\"},{\"id\":\"111707\"},{\"id\":\"111708\"}]},\"id\":\"111710\",\"type\":\"Toolbar\"},{\"attributes\":{},\"id\":\"111708\",\"type\":\"HelpTool\"},{\"attributes\":{},\"id\":\"69398\",\"type\":\"BasicTicker\"},{\"attributes\":{},\"id\":\"68013\",\"type\":\"UnionRenderers\"},{\"attributes\":{\"overlay\":{\"id\":\"111709\"}},\"id\":\"111705\",\"type\":\"BoxZoomTool\"},{\"attributes\":{\"source\":{\"id\":\"111717\"}},\"id\":\"111721\",\"type\":\"CDSView\"},{\"attributes\":{},\"id\":\"111706\",\"type\":\"SaveTool\"},{\"attributes\":{},\"id\":\"68014\",\"type\":\"Selection\"},{\"attributes\":{},\"id\":\"111707\",\"type\":\"ResetTool\"},{\"attributes\":{},\"id\":\"69405\",\"type\":\"WheelZoomTool\"},{\"attributes\":{},\"id\":\"111770\",\"type\":\"BasicTickFormatter\"},{\"attributes\":{},\"id\":\"111730\",\"type\":\"LinearScale\"},{\"attributes\":{},\"id\":\"69409\",\"type\":\"HelpTool\"},{\"attributes\":{\"data_source\":{\"id\":\"111754\"},\"glyph\":{\"id\":\"111755\"},\"hover_glyph\":null,\"muted_glyph\":null,\"nonselection_glyph\":{\"id\":\"111756\"},\"selection_glyph\":null,\"view\":{\"id\":\"111758\"}},\"id\":\"111757\",\"type\":\"GlyphRenderer\"},{\"attributes\":{\"axis\":{\"id\":\"111732\"},\"ticker\":null},\"id\":\"111735\",\"type\":\"Grid\"},{\"attributes\":{\"axis_label\":\"Seconds\",\"formatter\":{\"id\":\"111790\"},\"ticker\":{\"id\":\"111733\"}},\"id\":\"111732\",\"type\":\"LinearAxis\"},{\"attributes\":{\"axis\":{\"id\":\"69401\"},\"dimension\":1,\"ticker\":null},\"id\":\"69403\",\"type\":\"Grid\"},{\"attributes\":{},\"id\":\"111728\",\"type\":\"LinearScale\"},{\"attributes\":{\"end\":20,\"start\":-6},\"id\":\"111726\",\"type\":\"Range1d\"},{\"attributes\":{},\"id\":\"69402\",\"type\":\"CategoricalTicker\"},{\"attributes\":{\"formatter\":{\"id\":\"70662\"},\"ticker\":{\"id\":\"69402\"}},\"id\":\"69401\",\"type\":\"CategoricalAxis\"},{\"attributes\":{},\"id\":\"111733\",\"type\":\"BasicTicker\"},{\"attributes\":{\"overlay\":{\"id\":\"69410\"}},\"id\":\"69406\",\"type\":\"BoxZoomTool\"},{\"attributes\":{\"axis_label\":\"Elevation\",\"formatter\":{\"id\":\"111788\"},\"ticker\":{\"id\":\"111737\"}},\"id\":\"111736\",\"type\":\"LinearAxis\"},{\"attributes\":{\"data\":{\"x\":[0,10,20,30,40,50,60,70,80,90,100,110,120,130,140,150,160,170,180,190,200,210,220,230,240,250,260,270,280,290,300,310,320,330,340,350,360,370,380,390,400,410,420,430,440,450,460,470,480,490,500,510,520,530,540,550,560,570,580,590,600,610,620,630,640,650,660,670,680,690,700,710,720,730,740,750,760,770,780,790,800,810,820,830,840,850,860,870,880,890,900,910,920,930,940,950,960,970,980,990,1000,1010,1020,1030,1040,1050,1060,1070,1080,1090,1100,1110,1120,1130,1140,1150,1160,1170,1180,1190,1200,1210,1220,1230,1240,1250,1260,1270,1280,1290,1300,1310,1320,1330,1340,1350,1360,1370,1380,1390,1400,1410,1420,1430,1440,1450,1460,1470,1480,1490,1500,1510,1520,1530,1540,1550,1560,1570,1580,1590,1600,1610,1620,1630,1640,1650,1660,1670,1680,1690,1700,1710,1720,1730,1740,1750,1760,1770,1780,1790,1800,1810,1820,1830,1840,1850,1860,1870,1880,1890,1900,1910,1920,1930,1940,1950,1960,1970,1980,1990,2000,2010,2020,2030,2040,2050,2060,2070,2080,2090,2100,2110,2120,2130,2140,2150,2160,2170,2180,2190,2200,2210,2220,2230,2240,2250,2260,2270,2280,2290,2300,2310,2320,2330,2340,2350,2360,2370,2380,2390,2400,2410,2420,2430,2440,2450,2460,2470,2480,2490,2500,2510,2520,2530,2540,2550,2560,2570,2580,2590,2600,2610,2620,2630,2640,2650,2660,2670,2680,2690,2700,2710,2720,2730,2740,2750,2760,2770,2780,2790,2800,2810,2820,2830,2840,2850,2860,2870,2880,2890,2900,2910,2920,2930,2940,2950,2960,2970,2980,2990,3000,3010,3020,3030,3040,3050,3060,3070,3080,3090,3100,3110,3120,3130,3140,3150,3160,3170,3180,3190,3200,3210,3220,3230,3240,3250,3260,3270,3280,3290,3300,3310,3320,3330,3340,3350,3360,3370,3380,3390,3400,3410,3420,3430,3440,3450,3460,3470,3480,3490,3500,3510,3520,3530,3540,3550,3560,3570,3580,3590,3600,3610,3620,3630,3640,3650,3660,3670,3680,3690,3700,3710,3720,3730,3740,3750,3760,3770,3780,3790,3800,3810,3820,3830,3840,3850,3860,3870,3880,3890,3900,3910,3920,3930,3940,3950],\"y\":{\"__ndarray__\":\"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\",\"dtype\":\"float64\",\"order\":\"little\",\"shape\":[396]}},\"selected\":{\"id\":\"111792\"},\"selection_policy\":{\"id\":\"111791\"}},\"id\":\"111754\",\"type\":\"ColumnDataSource\"},{\"attributes\":{\"below\":[{\"id\":\"111658\"}],\"center\":[{\"id\":\"111661\"},{\"id\":\"111665\"}],\"left\":[{\"id\":\"111662\"}],\"plot_height\":400,\"plot_width\":400,\"renderers\":[{\"id\":\"111683\"}],\"title\":{\"id\":\"111649\"},\"toolbar\":{\"id\":\"111673\"},\"toolbar_location\":null,\"x_range\":{\"id\":\"111613\"},\"x_scale\":{\"id\":\"111654\"},\"y_range\":{\"id\":\"111652\"},\"y_scale\":{\"id\":\"111656\"}},\"id\":\"111648\",\"subtype\":\"Figure\",\"type\":\"Plot\"},{\"attributes\":{\"text\":\"HR over Time\"},\"id\":\"111611\",\"type\":\"Title\"},{\"attributes\":{\"below\":[{\"id\":\"111695\"}],\"center\":[{\"id\":\"111698\"},{\"id\":\"111702\"}],\"left\":[{\"id\":\"111699\"}],\"plot_height\":400,\"plot_width\":400,\"renderers\":[{\"id\":\"111720\"}],\"title\":{\"id\":\"111686\"},\"toolbar\":{\"id\":\"111710\"},\"toolbar_location\":null,\"x_range\":{\"id\":\"111613\"},\"x_scale\":{\"id\":\"111691\"},\"y_range\":{\"id\":\"111689\"},\"y_scale\":{\"id\":\"111693\"}},\"id\":\"111685\",\"subtype\":\"Figure\",\"type\":\"Plot\"},{\"attributes\":{},\"id\":\"111788\",\"type\":\"BasicTickFormatter\"},{\"attributes\":{\"axis_label\":\"Seconds\",\"formatter\":{\"id\":\"111763\"},\"ticker\":{\"id\":\"111622\"}},\"id\":\"111621\",\"type\":\"LinearAxis\"},{\"attributes\":{\"end\":180,\"start\":130},\"id\":\"111615\",\"type\":\"Range1d\"},{\"attributes\":{},\"id\":\"66768\",\"type\":\"PanTool\"},{\"attributes\":{},\"id\":\"111613\",\"type\":\"DataRange1d\"},{\"attributes\":{},\"id\":\"111772\",\"type\":\"BasicTickFormatter\"},{\"attributes\":{},\"id\":\"111619\",\"type\":\"LinearScale\"},{\"attributes\":{\"data_source\":{\"id\":\"111717\"},\"glyph\":{\"id\":\"111718\"},\"hover_glyph\":null,\"muted_glyph\":null,\"nonselection_glyph\":{\"id\":\"111719\"},\"selection_glyph\":null,\"view\":{\"id\":\"111721\"}},\"id\":\"111720\",\"type\":\"GlyphRenderer\"},{\"attributes\":{\"active_drag\":\"auto\",\"active_inspect\":\"auto\",\"active_multi\":null,\"active_scroll\":\"auto\",\"active_tap\":\"auto\",\"tools\":[{\"id\":\"66768\"},{\"id\":\"66769\"},{\"id\":\"66770\"},{\"id\":\"66771\"},{\"id\":\"66772\"},{\"id\":\"66773\"}]},\"id\":\"66775\",\"type\":\"Toolbar\"},{\"attributes\":{},\"id\":\"111617\",\"type\":\"LinearScale\"},{\"attributes\":{},\"id\":\"111622\",\"type\":\"BasicTicker\"},{\"attributes\":{\"data_source\":{\"id\":\"69418\"},\"glyph\":{\"id\":\"69419\"},\"hover_glyph\":null,\"muted_glyph\":null,\"nonselection_glyph\":{\"id\":\"69420\"},\"selection_glyph\":null,\"view\":{\"id\":\"69422\"}},\"id\":\"69421\",\"type\":\"GlyphRenderer\"},{\"attributes\":{},\"id\":\"111626\",\"type\":\"BasicTicker\"},{\"attributes\":{},\"id\":\"66773\",\"type\":\"HelpTool\"},{\"attributes\":{\"axis\":{\"id\":\"111621\"},\"ticker\":null},\"id\":\"111624\",\"type\":\"Grid\"},{\"attributes\":{\"axis_label\":\"Heart Rate\",\"formatter\":{\"id\":\"111761\"},\"ticker\":{\"id\":\"111626\"}},\"id\":\"111625\",\"type\":\"LinearAxis\"},{\"attributes\":{\"fill_alpha\":{\"value\":0.1},\"fill_color\":{\"value\":\"blue\"},\"height\":{\"value\":0.5},\"line_alpha\":{\"value\":0.1},\"line_color\":{\"value\":\"blue\"},\"right\":{\"field\":\"right\"},\"y\":{\"field\":\"y\"}},\"id\":\"69420\",\"type\":\"HBar\"},{\"attributes\":{\"overlay\":{\"id\":\"66774\"}},\"id\":\"66770\",\"type\":\"BoxZoomTool\"},{\"attributes\":{\"axis\":{\"id\":\"111625\"},\"dimension\":1,\"ticker\":null},\"id\":\"111628\",\"type\":\"Grid\"},{\"attributes\":{\"source\":{\"id\":\"69418\"}},\"id\":\"69422\",\"type\":\"CDSView\"},{\"attributes\":{},\"id\":\"111630\",\"type\":\"WheelZoomTool\"},{\"attributes\":{},\"id\":\"66771\",\"type\":\"SaveTool\"},{\"attributes\":{},\"id\":\"111790\",\"type\":\"BasicTickFormatter\"},{\"attributes\":{\"below\":[{\"id\":\"111621\"}],\"center\":[{\"id\":\"111624\"},{\"id\":\"111628\"}],\"left\":[{\"id\":\"111625\"}],\"plot_height\":400,\"plot_width\":400,\"renderers\":[{\"id\":\"111646\"}],\"title\":{\"id\":\"111611\"},\"toolbar\":{\"id\":\"111636\"},\"toolbar_location\":null,\"x_range\":{\"id\":\"111613\"},\"x_scale\":{\"id\":\"111617\"},\"y_range\":{\"id\":\"111615\"},\"y_scale\":{\"id\":\"111619\"}},\"id\":\"111610\",\"subtype\":\"Figure\",\"type\":\"Plot\"},{\"attributes\":{},\"id\":\"111773\",\"type\":\"UnionRenderers\"},{\"attributes\":{},\"id\":\"111629\",\"type\":\"PanTool\"},{\"attributes\":{},\"id\":\"111774\",\"type\":\"Selection\"},{\"attributes\":{},\"id\":\"111634\",\"type\":\"HelpTool\"},{\"attributes\":{\"overlay\":{\"id\":\"111635\"}},\"id\":\"111631\",\"type\":\"BoxZoomTool\"},{\"attributes\":{},\"id\":\"111632\",\"type\":\"SaveTool\"},{\"attributes\":{},\"id\":\"66765\",\"type\":\"BasicTicker\"},{\"attributes\":{},\"id\":\"70662\",\"type\":\"CategoricalTickFormatter\"},{\"attributes\":{},\"id\":\"111633\",\"type\":\"ResetTool\"},{\"attributes\":{},\"id\":\"66769\",\"type\":\"WheelZoomTool\"},{\"attributes\":{},\"id\":\"66755\",\"type\":\"DataRange1d\"},{\"attributes\":{},\"id\":\"69395\",\"type\":\"CategoricalScale\"},{\"attributes\":{\"line_alpha\":0.1,\"line_color\":\"orange\",\"x\":{\"field\":\"x\"},\"y\":{\"field\":\"y\"}},\"id\":\"111645\",\"type\":\"Line\"},{\"attributes\":{},\"id\":\"111659\",\"type\":\"BasicTicker\"},{\"attributes\":{},\"id\":\"111656\",\"type\":\"LinearScale\"},{\"attributes\":{\"axis\":{\"id\":\"66761\"},\"ticker\":null},\"id\":\"66763\",\"type\":\"Grid\"},{\"attributes\":{\"axis_label\":\"Seconds\",\"formatter\":{\"id\":\"111772\"},\"ticker\":{\"id\":\"111659\"}},\"id\":\"111658\",\"type\":\"LinearAxis\"},{\"attributes\":{},\"id\":\"111654\",\"type\":\"LinearScale\"},{\"attributes\":{},\"id\":\"111663\",\"type\":\"BasicTicker\"},{\"attributes\":{\"factors\":[\"Active Recovery\",\"Endurance\",\"Tempo\",\"Lactate Threshold\",\"VO2 Max\",\"Anaerobic Capacity\"]},\"id\":\"69391\",\"type\":\"FactorRange\"},{\"attributes\":{},\"id\":\"111791\",\"type\":\"UnionRenderers\"},{\"attributes\":{\"axis_label\":\"Cadence\",\"formatter\":{\"id\":\"111770\"},\"ticker\":{\"id\":\"111663\"}},\"id\":\"111662\",\"type\":\"LinearAxis\"},{\"attributes\":{},\"id\":\"111792\",\"type\":\"Selection\"},{\"attributes\":{\"axis\":{\"id\":\"111658\"},\"ticker\":null},\"id\":\"111661\",\"type\":\"Grid\"},{\"attributes\":{\"end\":120,\"start\":60},\"id\":\"111652\",\"type\":\"Range1d\"},{\"attributes\":{},\"id\":\"69389\",\"type\":\"DataRange1d\"},{\"attributes\":{\"below\":[{\"id\":\"111732\"}],\"center\":[{\"id\":\"111735\"},{\"id\":\"111739\"}],\"left\":[{\"id\":\"111736\"}],\"plot_height\":400,\"plot_width\":400,\"renderers\":[{\"id\":\"111757\"}],\"title\":{\"id\":\"111723\"},\"toolbar\":{\"id\":\"111747\"},\"toolbar_location\":null,\"x_range\":{\"id\":\"111613\"},\"x_scale\":{\"id\":\"111728\"},\"y_range\":{\"id\":\"111726\"},\"y_scale\":{\"id\":\"111730\"}},\"id\":\"111722\",\"subtype\":\"Figure\",\"type\":\"Plot\"},{\"attributes\":{},\"id\":\"66762\",\"type\":\"CategoricalTicker\"},{\"attributes\":{},\"id\":\"66772\",\"type\":\"ResetTool\"},{\"attributes\":{},\"id\":\"70664\",\"type\":\"BasicTickFormatter\"},{\"attributes\":{\"bottom_units\":\"screen\",\"fill_alpha\":0.5,\"fill_color\":\"lightgrey\",\"left_units\":\"screen\",\"level\":\"overlay\",\"line_alpha\":1.0,\"line_color\":\"black\",\"line_dash\":[4,4],\"line_width\":2,\"right_units\":\"screen\",\"top_units\":\"screen\"},\"id\":\"111635\",\"type\":\"BoxAnnotation\"},{\"attributes\":{},\"id\":\"111781\",\"type\":\"BasicTickFormatter\"},{\"attributes\":{},\"id\":\"69393\",\"type\":\"LinearScale\"},{\"attributes\":{},\"id\":\"70665\",\"type\":\"UnionRenderers\"},{\"attributes\":{},\"id\":\"70666\",\"type\":\"Selection\"},{\"attributes\":{\"axis\":{\"id\":\"66764\"},\"dimension\":1,\"ticker\":null},\"id\":\"66767\",\"type\":\"Grid\"},{\"attributes\":{},\"id\":\"111782\",\"type\":\"UnionRenderers\"},{\"attributes\":{\"overlay\":{\"id\":\"111672\"}},\"id\":\"111668\",\"type\":\"BoxZoomTool\"},{\"attributes\":{},\"id\":\"111783\",\"type\":\"Selection\"},{\"attributes\":{\"active_drag\":\"auto\",\"active_inspect\":\"auto\",\"active_multi\":null,\"active_scroll\":\"auto\",\"active_tap\":\"auto\",\"tools\":[{\"id\":\"111629\"},{\"id\":\"111630\"},{\"id\":\"111631\"},{\"id\":\"111632\"},{\"id\":\"111633\"},{\"id\":\"111634\"}]},\"id\":\"111636\",\"type\":\"Toolbar\"},{\"attributes\":{\"line_alpha\":0.1,\"line_color\":\"blue\",\"x\":{\"field\":\"x\"},\"y\":{\"field\":\"y\"}},\"id\":\"111719\",\"type\":\"Line\"},{\"attributes\":{\"data_source\":{\"id\":\"111643\"},\"glyph\":{\"id\":\"111644\"},\"hover_glyph\":null,\"muted_glyph\":null,\"nonselection_glyph\":{\"id\":\"111645\"},\"selection_glyph\":null,\"view\":{\"id\":\"111647\"}},\"id\":\"111646\",\"type\":\"GlyphRenderer\"},{\"attributes\":{\"factors\":[\"zone 1\",\"zone 2\",\"zone 3\",\"zone 4\",\"zone 5\"]},\"id\":\"66753\",\"type\":\"FactorRange\"},{\"attributes\":{\"formatter\":{\"id\":\"68012\"},\"ticker\":{\"id\":\"66762\"}},\"id\":\"66761\",\"type\":\"CategoricalAxis\"},{\"attributes\":{\"source\":{\"id\":\"111680\"}},\"id\":\"111684\",\"type\":\"CDSView\"},{\"attributes\":{\"fill_color\":{\"value\":\"orange\"},\"line_color\":{\"value\":\"orange\"},\"top\":{\"field\":\"top\"},\"width\":{\"value\":0.5},\"x\":{\"field\":\"x\"}},\"id\":\"66783\",\"type\":\"VBar\"},{\"attributes\":{\"formatter\":{\"id\":\"70664\"},\"ticker\":{\"id\":\"69398\"}},\"id\":\"69397\",\"type\":\"LinearAxis\"},{\"attributes\":{\"data\":{\"x\":[0,10,20,30,40,50,60,70,80,90,100,110,120,130,140,150,160,170,180,190,200,210,220,230,240,250,260,270,280,290,300,310,320,330,340,350,360,370,380,390,400,410,420,430,440,450,460,470,480,490,500,510,520,530,540,550,560,570,580,590,600,610,620,630,640,650,660,670,680,690,700,710,720,730,740,750,760,770,780,790,800,810,820,830,840,850,860,870,880,890,900,910,920,930,940,950,960,970,980,990,1000,1010,1020,1030,1040,1050,1060,1070,1080,1090,1100,1110,1120,1130,1140,1150,1160,1170,1180,1190,1200,1210,1220,1230,1240,1250,1260,1270,1280,1290,1300,1310,1320,1330,1340,1350,1360,1370,1380,1390,1400,1410,1420,1430,1440,1450,1460,1470,1480,1490,1500,1510,1520,1530,1540,1550,1560,1570,1580,1590,1600,1610,1620,1630,1640,1650,1660,1670,1680,1690,1700,1710,1720,1730,1740,1750,1760,1770,1780,1790,1800,1810,1820,1830,1840,1850,1860,1870,1880,1890,1900,1910,1920,1930,1940,1950,1960,1970,1980,1990,2000,2010,2020,2030,2040,2050,2060,2070,2080,2090,2100,2110,2120,2130,2140,2150,2160,2170,2180,2190,2200,2210,2220,2230,2240,2250,2260,2270,2280,2290,2300,2310,2320,2330,2340,2350,2360,2370,2380,2390,2400,2410,2420,2430,2440,2450,2460,2470,2480,2490,2500,2510,2520,2530,2540,2550,2560,2570,2580,2590,2600,2610,2620,2630,2640,2650,2660,2670,2680,2690,2700,2710,2720,2730,2740,2750,2760,2770,2780,2790,2800,2810,2820,2830,2840,2850,2860,2870,2880,2890,2900,2910,2920,2930,2940,2950,2960,2970,2980,2990,3000,3010,3020,3030,3040,3050,3060,3070,3080,3090,3100,3110,3120,3130,3140,3150,3160,3170,3180,3190,3200,3210,3220,3230,3240,3250,3260,3270,3280,3290,3300,3310,3320,3330,3340,3350,3360,3370,3380,3390,3400,3410,3420,3430,3440,3450,3460,3470,3480,3490,3500,3510,3520,3530,3540,3550,3560,3570,3580,3590,3600,3610,3620,3630,3640,3650,3660,3670,3680,3690,3700,3710,3720,3730,3740,3750,3760,3770,3780,3790,3800,3810,3820,3830,3840,3850,3860,3870,3880,3890,3900,3910,3920,3930,3940,3950],\"y\":[135,134,136,137,138,139,140,141,141,143,140,143,144,144,145,147,146,146,146,147,146,146,146,146,146,145,147,147,148,150,151,151,150,151,153,154,153,154,152,152,151,151,150,150,150,150,152,152,152,150,151,152,153,152,152,153,154,155,155,154,153,152,155,156,155,156,156,156,155,154,154,154,153,153,152,152,152,152,151,152,153,153,153,154,157,157,157,156,156,159,159,160,160,158,156,156,156,157,157,155,155,155,156,156,156,157,156,156,156,154,155,154,155,154,154,154,154,155,154,155,155,155,156,157,156,155,158,160,158,159,158,159,158,155,154,155,155,155,155,156,157,156,157,157,157,158,155,156,156,153,154,155,156,158,162,164,164,163,164,163,162,161,161,161,161,160,158,157,157,158,158,157,156,156,158,159,160,160,160,160,159,160,160,160,160,159,164,167,166,166,166,167,167,166,165,166,164,164,163,162,163,161,162,163,162,162,164,163,162,163,161,160,161,163,166,166,165,166,165,168,169,169,168,167,167,166,165,164,165,164,165,164,164,164,164,166,164,163,162,163,163,164,165,165,164,166,166,166,166,165,166,166,165,166,166,164,164,164,166,165,164,164,165,165,164,162,163,161,162,164,165,166,165,166,167,167,167,168,167,165,167,170,170,169,170,170,168,167,166,165,164,163,162,163,162,161,161,163,164,163,164,164,164,164,164,165,165,165,165,166,166,169,169,169,171,170,168,167,167,166,166,166,167,167,166,166,166,167,167,167,168,168,168,169,170,171,171,172,171,171,170,171,173,173,173,173,172,172,171,170,169,169,169,169,170,170,170,170,169,169,169,169,170,170,172,173,173,170,167,166,167,167,167,166,164,161,157,154,152,147,144,141,140,135,132,132,131,130,126,125,126,124,122,120,117,117]},\"selected\":{\"id\":\"111765\"},\"selection_policy\":{\"id\":\"111764\"}},\"id\":\"111643\",\"type\":\"ColumnDataSource\"},{\"attributes\":{\"data\":{\"top\":[0,68,201,1770,1921],\"x\":[\"zone 1\",\"zone 2\",\"zone 3\",\"zone 4\",\"zone 5\"]},\"selected\":{\"id\":\"68014\"},\"selection_policy\":{\"id\":\"68013\"}},\"id\":\"66782\",\"type\":\"ColumnDataSource\"},{\"attributes\":{\"fill_color\":{\"value\":\"blue\"},\"height\":{\"value\":0.5},\"line_color\":{\"value\":\"blue\"},\"right\":{\"field\":\"right\"},\"y\":{\"field\":\"y\"}},\"id\":\"69419\",\"type\":\"HBar\"},{\"attributes\":{\"below\":[{\"id\":\"66761\"}],\"center\":[{\"id\":\"66763\"},{\"id\":\"66767\"}],\"left\":[{\"id\":\"66764\"}],\"plot_height\":400,\"plot_width\":400,\"renderers\":[{\"id\":\"66785\"}],\"title\":{\"id\":\"66751\"},\"toolbar\":{\"id\":\"66775\"},\"toolbar_location\":null,\"x_range\":{\"id\":\"66753\"},\"x_scale\":{\"id\":\"66757\"},\"y_range\":{\"id\":\"66755\"},\"y_scale\":{\"id\":\"66759\"}},\"id\":\"66750\",\"subtype\":\"Figure\",\"type\":\"Plot\"},{\"attributes\":{\"line_color\":\"orange\",\"x\":{\"field\":\"x\"},\"y\":{\"field\":\"y\"}},\"id\":\"111644\",\"type\":\"Line\"},{\"attributes\":{\"data\":{\"right\":[236,21,987,2465,202,49],\"y\":[\"Active Recovery\",\"Endurance\",\"Tempo\",\"Lactate Threshold\",\"VO2 Max\",\"Anaerobic Capacity\"]},\"selected\":{\"id\":\"70666\"},\"selection_policy\":{\"id\":\"70665\"}},\"id\":\"69418\",\"type\":\"ColumnDataSource\"},{\"attributes\":{\"below\":[{\"id\":\"69397\"}],\"center\":[{\"id\":\"69400\"},{\"id\":\"69403\"}],\"left\":[{\"id\":\"69401\"}],\"plot_height\":400,\"plot_width\":400,\"renderers\":[{\"id\":\"69421\"}],\"title\":{\"id\":\"69387\"},\"toolbar\":{\"id\":\"69411\"},\"toolbar_location\":null,\"x_range\":{\"id\":\"69389\"},\"x_scale\":{\"id\":\"69393\"},\"y_range\":{\"id\":\"69391\"},\"y_scale\":{\"id\":\"69395\"}},\"id\":\"69386\",\"subtype\":\"Figure\",\"type\":\"Plot\"},{\"attributes\":{\"formatter\":{\"id\":\"68010\"},\"ticker\":{\"id\":\"66765\"}},\"id\":\"66764\",\"type\":\"LinearAxis\"},{\"attributes\":{},\"id\":\"66759\",\"type\":\"LinearScale\"},{\"attributes\":{\"axis\":{\"id\":\"111662\"},\"dimension\":1,\"ticker\":null},\"id\":\"111665\",\"type\":\"Grid\"},{\"attributes\":{\"text\":\"Power Zone Durations\"},\"id\":\"69387\",\"type\":\"Title\"},{\"attributes\":{\"source\":{\"id\":\"111643\"}},\"id\":\"111647\",\"type\":\"CDSView\"},{\"attributes\":{\"text\":\"HR Zone Durations\"},\"id\":\"66751\",\"type\":\"Title\"},{\"attributes\":{\"text\":\"Cadence over Time\"},\"id\":\"111649\",\"type\":\"Title\"},{\"attributes\":{},\"id\":\"66757\",\"type\":\"CategoricalScale\"},{\"attributes\":{},\"id\":\"111667\",\"type\":\"WheelZoomTool\"},{\"attributes\":{},\"id\":\"111666\",\"type\":\"PanTool\"}],\"root_ids\":[\"113803\"]},\"title\":\"Bokeh Application\",\"version\":\"2.1.1\"}};\n",
       "  var render_items = [{\"docid\":\"d874c9db-1b74-44e9-8794-e3619c6b1108\",\"root_ids\":[\"113803\"],\"roots\":{\"113803\":\"b560cde2-f410-421c-843a-296a4e139cac\"}}];\n",
       "  root.Bokeh.embed.embed_items_notebook(docs_json, render_items);\n",
       "\n",
       "  }\n",
       "  if (root.Bokeh !== undefined) {\n",
       "    embed_document(root);\n",
       "  } else {\n",
       "    var attempts = 0;\n",
       "    var timer = setInterval(function(root) {\n",
       "      if (root.Bokeh !== undefined) {\n",
       "        clearInterval(timer);\n",
       "        embed_document(root);\n",
       "      } else {\n",
       "        attempts++;\n",
       "        if (attempts > 100) {\n",
       "          clearInterval(timer);\n",
       "          console.log(\"Bokeh: ERROR: Unable to run BokehJS code because BokehJS library is missing\");\n",
       "        }\n",
       "      }\n",
       "    }, 10, root)\n",
       "  }\n",
       "})(window);"
      ],
      "application/vnd.bokehjs_exec.v0+json": ""
     },
     "metadata": {
      "application/vnd.bokehjs_exec.v0+json": {
       "id": "113803"
      }
     },
     "output_type": "display_data"
    }
   ],
   "source": [
    "grid = bl.gridplot([[p1, p5], [p3, p6], [p2, p4]], plot_width=400, plot_height=400)\n",
    "bp.show(grid)"
   ]
  },
  {
   "cell_type": "markdown",
   "metadata": {},
   "source": [
    "# Fin"
   ]
  }
 ],
 "metadata": {
  "kernelspec": {
   "display_name": "Python 3",
   "language": "python",
   "name": "python3"
  },
  "language_info": {
   "codemirror_mode": {
    "name": "ipython",
    "version": 3
   },
   "file_extension": ".py",
   "mimetype": "text/x-python",
   "name": "python",
   "nbconvert_exporter": "python",
   "pygments_lexer": "ipython3",
   "version": "3.8.3"
  }
 },
 "nbformat": 4,
 "nbformat_minor": 4
}
